{
 "cells": [
  {
   "cell_type": "code",
   "execution_count": 1,
   "id": "b9782578-293f-49fc-a12c-dad3fcf10f22",
   "metadata": {},
   "outputs": [],
   "source": [
    "#import shutil\n",
    "\n",
    "#old = r'/global/u1/s/sgmoore1/ssl-legacysurvey'\n",
    "#new = r'/pscratch/sd/s/sgmoore1'\n",
    "\n",
    "#shutil.move(old, new)"
   ]
  },
  {
   "cell_type": "code",
   "execution_count": 1,
   "id": "568a520e-fc1b-441a-9063-ae948a08c35b",
   "metadata": {},
   "outputs": [],
   "source": [
    "from astropy.io import fits\n",
    "from astropy.table import Table\n",
    "import numpy as np\n",
    "import h5py\n",
    "import math"
   ]
  },
  {
   "cell_type": "code",
   "execution_count": 2,
   "id": "f536c754-6834-45a1-9fb0-87db1aae957f",
   "metadata": {
    "tags": []
   },
   "outputs": [],
   "source": [
    "desc= Table.read('/global/homes/s/sgmoore1/SGA/py/SGA/data/SGA2020/SGA2020-missing-galaxies.ecsv')"
   ]
  },
  {
   "cell_type": "code",
   "execution_count": 2,
   "id": "99262c4f-7b5b-407b-a39f-de4f806954db",
   "metadata": {},
   "outputs": [],
   "source": [
    "skies= Table.read('/pscratch/sd/s/sgmoore1/SGA2024/catalogs/skies.fits',hdu=1)\n",
    "missing=Table.read('/pscratch/sd/s/sgmoore1/SGA2024/catalogs/sga2020-missing.fits',hdu=1)\n",
    "sga2020 = Table.read('/pscratch/sd/s/sgmoore1/SGA2024/catalogs/sga2020.fits',hdu=1)\n",
    "SGA= Table.read('/pscratch/sd/s/sgmoore1/SGA2024/catalogs/SGA2024.fits',hdu=1)\n",
    "offset = Table.read('/pscratch/sd/s/sgmoore1/SGA2024/catalogs/sga2020-offset.fits',hdu=1)"
   ]
  },
  {
   "cell_type": "code",
   "execution_count": 3,
   "id": "7d2b9784-a93e-46f7-a547-702f0f0981e5",
   "metadata": {
    "tags": []
   },
   "outputs": [
    {
     "data": {
      "text/html": [
       "<div><i>Table length=254</i>\n",
       "<table id=\"table140644395524752\" class=\"table-striped table-bordered table-condensed\">\n",
       "<thead><tr><th>GALAXY</th><th>RA</th><th>DEC</th><th>DIAM</th><th>MAG_G</th><th>MAG_R</th><th>MAG_Z</th></tr></thead>\n",
       "<thead><tr><th></th><th>deg</th><th>deg</th><th>arcmin</th><th></th><th></th><th></th></tr></thead>\n",
       "<thead><tr><th>bytes30</th><th>float64</th><th>float64</th><th>float32</th><th>int64</th><th>int64</th><th>int64</th></tr></thead>\n",
       "<tr><td>2MASXJ00000256+0817537</td><td>0.0106</td><td>8.298</td><td>1.0</td><td>18</td><td>18</td><td>18</td></tr>\n",
       "<tr><td>2MASXJ00000896+0817338</td><td>0.0373</td><td>8.2927</td><td>1.0</td><td>18</td><td>18</td><td>18</td></tr>\n",
       "<tr><td>DR10-0001m365-1293</td><td>0.0414</td><td>-36.5683</td><td>1.0</td><td>18</td><td>18</td><td>18</td></tr>\n",
       "<tr><td>DR10-0001m405-3541</td><td>0.085</td><td>-40.4098</td><td>1.0</td><td>18</td><td>18</td><td>18</td></tr>\n",
       "<tr><td>PGC000026</td><td>0.115</td><td>-7.8823</td><td>1.0</td><td>18</td><td>18</td><td>18</td></tr>\n",
       "<tr><td>AGC102729</td><td>0.1338</td><td>30.8696</td><td>1.0</td><td>18</td><td>18</td><td>18</td></tr>\n",
       "<tr><td>PGC618004</td><td>0.1584</td><td>-37.7653</td><td>1.0</td><td>18</td><td>18</td><td>18</td></tr>\n",
       "<tr><td>2MASXJ00003907-4938479</td><td>0.1627</td><td>-49.6467</td><td>1.0</td><td>18</td><td>18</td><td>18</td></tr>\n",
       "<tr><td>PGC616134</td><td>0.1669</td><td>-37.6938</td><td>1.0</td><td>18</td><td>18</td><td>18</td></tr>\n",
       "<tr><td>...</td><td>...</td><td>...</td><td>...</td><td>...</td><td>...</td><td>...</td></tr>\n",
       "<tr><td>2MASXJ23170645+2128375</td><td>349.276944</td><td>21.477074</td><td>1.034</td><td>18</td><td>18</td><td>18</td></tr>\n",
       "<tr><td>AGC335954</td><td>349.445409</td><td>21.099168</td><td>1.386</td><td>18</td><td>18</td><td>18</td></tr>\n",
       "<tr><td>PGC141104</td><td>349.832489</td><td>24.933847</td><td>1.018</td><td>18</td><td>18</td><td>18</td></tr>\n",
       "<tr><td>UGC12515</td><td>349.963097</td><td>26.262785</td><td>1.56</td><td>18</td><td>18</td><td>18</td></tr>\n",
       "<tr><td>AGC333528</td><td>350.600419</td><td>28.734446</td><td>1.162</td><td>18</td><td>18</td><td>18</td></tr>\n",
       "<tr><td>AGC333395</td><td>352.243542</td><td>31.397056</td><td>1.038</td><td>18</td><td>18</td><td>18</td></tr>\n",
       "<tr><td>PGC141114</td><td>352.299424</td><td>11.849819</td><td>1.132</td><td>18</td><td>18</td><td>18</td></tr>\n",
       "<tr><td>AGC334606</td><td>352.745826</td><td>16.591389</td><td>1.1</td><td>18</td><td>18</td><td>18</td></tr>\n",
       "<tr><td>PGC072071</td><td>355.07925</td><td>27.561472</td><td>1.142</td><td>18</td><td>18</td><td>18</td></tr>\n",
       "<tr><td>2MASXJ23590614+0643271</td><td>359.775708</td><td>6.724179</td><td>1.044</td><td>18</td><td>18</td><td>18</td></tr>\n",
       "</table></div>"
      ],
      "text/plain": [
       "<Table length=254>\n",
       "        GALAXY             RA        DEC      DIAM  MAG_G MAG_R MAG_Z\n",
       "                          deg        deg     arcmin                  \n",
       "       bytes30          float64    float64  float32 int64 int64 int64\n",
       "---------------------- ---------- --------- ------- ----- ----- -----\n",
       "2MASXJ00000256+0817537     0.0106     8.298     1.0    18    18    18\n",
       "2MASXJ00000896+0817338     0.0373    8.2927     1.0    18    18    18\n",
       "    DR10-0001m365-1293     0.0414  -36.5683     1.0    18    18    18\n",
       "    DR10-0001m405-3541      0.085  -40.4098     1.0    18    18    18\n",
       "             PGC000026      0.115   -7.8823     1.0    18    18    18\n",
       "             AGC102729     0.1338   30.8696     1.0    18    18    18\n",
       "             PGC618004     0.1584  -37.7653     1.0    18    18    18\n",
       "2MASXJ00003907-4938479     0.1627  -49.6467     1.0    18    18    18\n",
       "             PGC616134     0.1669  -37.6938     1.0    18    18    18\n",
       "                   ...        ...       ...     ...   ...   ...   ...\n",
       "2MASXJ23170645+2128375 349.276944 21.477074   1.034    18    18    18\n",
       "             AGC335954 349.445409 21.099168   1.386    18    18    18\n",
       "             PGC141104 349.832489 24.933847   1.018    18    18    18\n",
       "              UGC12515 349.963097 26.262785    1.56    18    18    18\n",
       "             AGC333528 350.600419 28.734446   1.162    18    18    18\n",
       "             AGC333395 352.243542 31.397056   1.038    18    18    18\n",
       "             PGC141114 352.299424 11.849819   1.132    18    18    18\n",
       "             AGC334606 352.745826 16.591389     1.1    18    18    18\n",
       "             PGC072071  355.07925 27.561472   1.142    18    18    18\n",
       "2MASXJ23590614+0643271 359.775708  6.724179   1.044    18    18    18"
      ]
     },
     "execution_count": 3,
     "metadata": {},
     "output_type": "execute_result"
    }
   ],
   "source": [
    "missing"
   ]
  },
  {
   "cell_type": "code",
   "execution_count": 5,
   "id": "e24ff3ee-a3a7-4574-a8dd-2e82a6c73a19",
   "metadata": {
    "tags": []
   },
   "outputs": [],
   "source": [
    "# from matplotlib import pyplot as plt\n",
    "# import numpy as np\n",
    "\n",
    "# # Creating histogram\n",
    "# fig, ax = plt.subplots(figsize =(10, 7))\n",
    "# ax.hist(sga2020['D26'], bins=50)\n",
    "# ax.vlines(x = 0.664 , ymin=0, ymax=550, color='k')\n",
    "\n",
    "# # Show plot\n",
    "# plt.show()\n"
   ]
  },
  {
   "cell_type": "code",
   "execution_count": 4,
   "id": "379006f1-0143-4330-a50f-d0f0b48df416",
   "metadata": {
    "tags": []
   },
   "outputs": [],
   "source": [
    "# NEEDED TO CORRECT FOR EMPTY CUTOUTS, BUT SAVED CORRECTED VERSION\n",
    "# i=0\n",
    "# while i < 264:\n",
    "#     if (missing['RA'][i] == 0.11) or (missing['RA'][i] == 0.6646) or (missing['RA'][i] == 0.2534) or  (missing['RA'][i] == 0.8861) or (missing['RA'][i] == 0.5981) or  (missing['RA'][i] == 0.242)or (missing['RA'][i] == 0.4408) or (missing['RA'][i] == 0.6854) or (missing['RA'][i] == 0.9928 )or (missing['RA'][i] == 0.6893):\n",
    "#         missing['RA'][i] = -250\n",
    "#     else:\n",
    "#         missing['RA'][i] = missing['RA'][i]\n",
    "#     i+=1"
   ]
  },
  {
   "cell_type": "code",
   "execution_count": 6,
   "id": "e69a783a-1cc9-4f18-aa52-3b2864d873d9",
   "metadata": {
    "tags": []
   },
   "outputs": [
    {
     "data": {
      "text/html": [
       "<div><i>Table length=254</i>\n",
       "<table id=\"table140078997211648\" class=\"table-striped table-bordered table-condensed\">\n",
       "<thead><tr><th>GALAXY</th><th>RA</th><th>DEC</th><th>DIAM</th></tr></thead>\n",
       "<thead><tr><th></th><th>deg</th><th>deg</th><th>arcmin</th></tr></thead>\n",
       "<thead><tr><th>bytes30</th><th>float64</th><th>float64</th><th>float32</th></tr></thead>\n",
       "<tr><td>2MASXJ00000256+0817537</td><td>0.0106</td><td>8.298</td><td>1.0</td></tr>\n",
       "<tr><td>2MASXJ00000896+0817338</td><td>0.0373</td><td>8.2927</td><td>1.0</td></tr>\n",
       "<tr><td>DR10-0001m365-1293</td><td>0.0414</td><td>-36.5683</td><td>1.0</td></tr>\n",
       "<tr><td>DR10-0001m405-3541</td><td>0.085</td><td>-40.4098</td><td>1.0</td></tr>\n",
       "<tr><td>PGC000026</td><td>0.115</td><td>-7.8823</td><td>1.0</td></tr>\n",
       "<tr><td>AGC102729</td><td>0.1338</td><td>30.8696</td><td>1.0</td></tr>\n",
       "<tr><td>PGC618004</td><td>0.1584</td><td>-37.7653</td><td>1.0</td></tr>\n",
       "<tr><td>2MASXJ00003907-4938479</td><td>0.1627</td><td>-49.6467</td><td>1.0</td></tr>\n",
       "<tr><td>PGC616134</td><td>0.1669</td><td>-37.6938</td><td>1.0</td></tr>\n",
       "<tr><td>...</td><td>...</td><td>...</td><td>...</td></tr>\n",
       "<tr><td>2MASXJ23170645+2128375</td><td>349.276944</td><td>21.477074</td><td>1.034</td></tr>\n",
       "<tr><td>AGC335954</td><td>349.445409</td><td>21.099168</td><td>1.386</td></tr>\n",
       "<tr><td>PGC141104</td><td>349.832489</td><td>24.933847</td><td>1.018</td></tr>\n",
       "<tr><td>UGC12515</td><td>349.963097</td><td>26.262785</td><td>1.56</td></tr>\n",
       "<tr><td>AGC333528</td><td>350.600419</td><td>28.734446</td><td>1.162</td></tr>\n",
       "<tr><td>AGC333395</td><td>352.243542</td><td>31.397056</td><td>1.038</td></tr>\n",
       "<tr><td>PGC141114</td><td>352.299424</td><td>11.849819</td><td>1.132</td></tr>\n",
       "<tr><td>AGC334606</td><td>352.745826</td><td>16.591389</td><td>1.1</td></tr>\n",
       "<tr><td>PGC072071</td><td>355.07925</td><td>27.561472</td><td>1.142</td></tr>\n",
       "<tr><td>2MASXJ23590614+0643271</td><td>359.775708</td><td>6.724179</td><td>1.044</td></tr>\n",
       "</table></div>"
      ],
      "text/plain": [
       "<Table length=254>\n",
       "        GALAXY             RA        DEC      DIAM \n",
       "                          deg        deg     arcmin\n",
       "       bytes30          float64    float64  float32\n",
       "---------------------- ---------- --------- -------\n",
       "2MASXJ00000256+0817537     0.0106     8.298     1.0\n",
       "2MASXJ00000896+0817338     0.0373    8.2927     1.0\n",
       "    DR10-0001m365-1293     0.0414  -36.5683     1.0\n",
       "    DR10-0001m405-3541      0.085  -40.4098     1.0\n",
       "             PGC000026      0.115   -7.8823     1.0\n",
       "             AGC102729     0.1338   30.8696     1.0\n",
       "             PGC618004     0.1584  -37.7653     1.0\n",
       "2MASXJ00003907-4938479     0.1627  -49.6467     1.0\n",
       "             PGC616134     0.1669  -37.6938     1.0\n",
       "                   ...        ...       ...     ...\n",
       "2MASXJ23170645+2128375 349.276944 21.477074   1.034\n",
       "             AGC335954 349.445409 21.099168   1.386\n",
       "             PGC141104 349.832489 24.933847   1.018\n",
       "              UGC12515 349.963097 26.262785    1.56\n",
       "             AGC333528 350.600419 28.734446   1.162\n",
       "             AGC333395 352.243542 31.397056   1.038\n",
       "             PGC141114 352.299424 11.849819   1.132\n",
       "             AGC334606 352.745826 16.591389     1.1\n",
       "             PGC072071  355.07925 27.561472   1.142\n",
       "2MASXJ23590614+0643271 359.775708  6.724179   1.044"
      ]
     },
     "execution_count": 6,
     "metadata": {},
     "output_type": "execute_result"
    }
   ],
   "source": [
    "# missing.sort('RA')\n",
    "# missing.remove_rows(range(0,10))\n",
    "# missing\n",
    "# #temporary removal of the 10 cutouts that had problems pulling\n",
    "# #Also had to adjust RA=0.56699 to that because it kept rounded to 0.567 and was pulling wonky"
   ]
  },
  {
   "cell_type": "code",
   "execution_count": 14,
   "id": "0e618f1a-7732-4029-a49d-2e3a8188c5fc",
   "metadata": {
    "tags": []
   },
   "outputs": [
    {
     "data": {
      "text/html": [
       "<div><i>Table length=10000</i>\n",
       "<table id=\"table139956637143520\" class=\"table-striped table-bordered table-condensed\">\n",
       "<thead><tr><th>SGA_ID</th><th>GALAXY</th><th>RA</th><th>DEC</th><th>D26</th><th>G_MAG_SB26</th><th>R_MAG_SB26</th><th>Z_MAG_SB26</th><th>norm_shift</th><th>SHIFT</th></tr></thead>\n",
       "<thead><tr><th>int64</th><th>bytes29</th><th>float64</th><th>float64</th><th>float32</th><th>float32</th><th>float32</th><th>float32</th><th>float64</th><th>float64</th></tr></thead>\n",
       "<tr><td>24</td><td>PGC2162969</td><td>247.4246173214296</td><td>40.250675768609874</td><td>0.5431378</td><td>-1.0</td><td>-1.0</td><td>-1.0</td><td>0.5481583832730266</td><td>0.002481046101567214</td></tr>\n",
       "<tr><td>77</td><td>SDSSJ151648.69+140504.0</td><td>229.20170057806905</td><td>14.087954271624621</td><td>0.39918694</td><td>17.963633</td><td>17.444605</td><td>17.110806</td><td>1.1174140481157553</td><td>0.00371714244553448</td></tr>\n",
       "<tr><td>181</td><td>PGC1400374</td><td>211.32778969179694</td><td>11.890441626492535</td><td>0.4241666</td><td>17.739927</td><td>16.70688</td><td>16.014826</td><td>0.1583330141237253</td><td>0.0005596631223448383</td></tr>\n",
       "<tr><td>308</td><td>PGC2094581</td><td>120.16097945653722</td><td>37.18046059005803</td><td>0.6698354</td><td>16.886106</td><td>15.830816</td><td>15.131019</td><td>0.6420719294433813</td><td>0.0035840208367221675</td></tr>\n",
       "<tr><td>351</td><td>SDSSJ102543.09+093119.8</td><td>156.43415983759374</td><td>9.517356020040454</td><td>0.57250285</td><td>18.072153</td><td>17.088245</td><td>16.241909</td><td>1.3967152434054175</td><td>0.006663528829698766</td></tr>\n",
       "<tr><td>556</td><td>PGC1593038</td><td>126.03479628385293</td><td>19.454549028141486</td><td>0.6886622</td><td>16.907436</td><td>16.274525</td><td>15.739177</td><td>1.1502682965307567</td><td>0.006601218856165379</td></tr>\n",
       "<tr><td>707</td><td>PGC2030436</td><td>230.16683190969047</td><td>33.369139993167146</td><td>0.72314805</td><td>16.420382</td><td>15.458088</td><td>14.904183</td><td>0.9392656536462491</td><td>0.005660234365969868</td></tr>\n",
       "<tr><td>720</td><td>PGC2545412</td><td>196.3025953763888</td><td>56.70972395876638</td><td>0.4072858</td><td>16.63563</td><td>16.219702</td><td>15.992032</td><td>1.092611838144155</td><td>0.003708377474885814</td></tr>\n",
       "<tr><td>740</td><td>PGC2279002</td><td>129.0032887229085</td><td>46.31126780303184</td><td>0.7394494</td><td>16.10833</td><td>15.258259</td><td>14.661092</td><td>0.7470894825864692</td><td>0.00460362380057496</td></tr>\n",
       "<tr><td>780</td><td>PGC1762180</td><td>247.2626410955373</td><td>26.089326466814416</td><td>0.685069</td><td>15.983984</td><td>15.21097</td><td>14.635214</td><td>0.41392247457823117</td><td>0.0023630455491995333</td></tr>\n",
       "<tr><td>...</td><td>...</td><td>...</td><td>...</td><td>...</td><td>...</td><td>...</td><td>...</td><td>...</td><td>...</td></tr>\n",
       "<tr><td>5003485</td><td>DR8-2539p425-829</td><td>254.04836946908839</td><td>42.43607091186111</td><td>0.36898008</td><td>16.804308</td><td>15.926091</td><td>15.378629</td><td>1.5642010829279762</td><td>0.004809658671180753</td></tr>\n",
       "<tr><td>5003572</td><td>DR8-2628p620-1916</td><td>262.7871823927125</td><td>62.004138386475965</td><td>0.41184655</td><td>16.720177</td><td>15.953318</td><td>15.458186</td><td>1.564389708474275</td><td>0.005369070847172353</td></tr>\n",
       "<tr><td>5003685</td><td>DR8-0667m512-2109</td><td>66.50567574825415</td><td>-51.259800820831046</td><td>0.4084445</td><td>16.217926</td><td>15.541686</td><td>15.0709095</td><td>1.1547852978030386</td><td>0.003930547472085127</td></tr>\n",
       "<tr><td>5004018</td><td>DR8-2223m067-6408</td><td>222.34511955362325</td><td>-6.651162901061346</td><td>0.71420574</td><td>16.646805</td><td>15.704945</td><td>15.019571</td><td>0.7752613676690546</td><td>0.004614134335406521</td></tr>\n",
       "<tr><td>5004191</td><td>DR8-1405m035-1669</td><td>140.50339879493845</td><td>-3.533976242566379</td><td>0.4510797</td><td>18.002346</td><td>16.849024</td><td>16.025545</td><td>0.8880785339264357</td><td>0.0033382849623155176</td></tr>\n",
       "<tr><td>5004286</td><td>DR8-0393p027-1250</td><td>39.25422577497025</td><td>2.66926119186543</td><td>0.46381873</td><td>16.562294</td><td>15.774183</td><td>15.193243</td><td>1.243493431563075</td><td>0.004806296190438973</td></tr>\n",
       "<tr><td>5004296</td><td>DR8-0373m190-5085</td><td>37.37258048942423</td><td>-18.92877985818899</td><td>0.47453767</td><td>16.03611</td><td>15.345613</td><td>14.774071</td><td>0.9142712135570336</td><td>0.00361546776657723</td></tr>\n",
       "<tr><td>5004396</td><td>DR8-3477m642-1289</td><td>347.9542723775159</td><td>-64.31861510589302</td><td>0.38900438</td><td>16.91634</td><td>16.307493</td><td>15.799666</td><td>1.9741741086518734</td><td>0.00639968645152138</td></tr>\n",
       "<tr><td>5004497</td><td>DR8-1267p130-494</td><td>126.87370883967041</td><td>12.903288197127205</td><td>0.39124998</td><td>-1.0</td><td>-1.0</td><td>-1.0</td><td>1.7004247503254462</td><td>0.005544092976774962</td></tr>\n",
       "<tr><td>5004930</td><td>DR8-1532p102-2745</td><td>153.16304437097622</td><td>10.287093051397438</td><td>0.41092587</td><td>16.879251</td><td>16.336458</td><td>15.921709</td><td>0.8693766111417515</td><td>0.002977077800790754</td></tr>\n",
       "</table></div>"
      ],
      "text/plain": [
       "<Table length=10000>\n",
       " SGA_ID          GALAXY         ...      norm_shift             SHIFT        \n",
       " int64          bytes29         ...       float64              float64       \n",
       "------- ----------------------- ... ------------------- ---------------------\n",
       "     24              PGC2162969 ...  0.5481583832730266  0.002481046101567214\n",
       "     77 SDSSJ151648.69+140504.0 ...  1.1174140481157553   0.00371714244553448\n",
       "    181              PGC1400374 ...  0.1583330141237253 0.0005596631223448383\n",
       "    308              PGC2094581 ...  0.6420719294433813 0.0035840208367221675\n",
       "    351 SDSSJ102543.09+093119.8 ...  1.3967152434054175  0.006663528829698766\n",
       "    556              PGC1593038 ...  1.1502682965307567  0.006601218856165379\n",
       "    707              PGC2030436 ...  0.9392656536462491  0.005660234365969868\n",
       "    720              PGC2545412 ...   1.092611838144155  0.003708377474885814\n",
       "    740              PGC2279002 ...  0.7470894825864692   0.00460362380057496\n",
       "    780              PGC1762180 ... 0.41392247457823117 0.0023630455491995333\n",
       "    ...                     ... ...                 ...                   ...\n",
       "5003485        DR8-2539p425-829 ...  1.5642010829279762  0.004809658671180753\n",
       "5003572       DR8-2628p620-1916 ...   1.564389708474275  0.005369070847172353\n",
       "5003685       DR8-0667m512-2109 ...  1.1547852978030386  0.003930547472085127\n",
       "5004018       DR8-2223m067-6408 ...  0.7752613676690546  0.004614134335406521\n",
       "5004191       DR8-1405m035-1669 ...  0.8880785339264357 0.0033382849623155176\n",
       "5004286       DR8-0393p027-1250 ...   1.243493431563075  0.004806296190438973\n",
       "5004296       DR8-0373m190-5085 ...  0.9142712135570336   0.00361546776657723\n",
       "5004396       DR8-3477m642-1289 ...  1.9741741086518734   0.00639968645152138\n",
       "5004497        DR8-1267p130-494 ...  1.7004247503254462  0.005544092976774962\n",
       "5004930       DR8-1532p102-2745 ...  0.8693766111417515  0.002977077800790754"
      ]
     },
     "execution_count": 14,
     "metadata": {},
     "output_type": "execute_result"
    }
   ],
   "source": [
    "offset"
   ]
  },
  {
   "cell_type": "code",
   "execution_count": 12,
   "id": "b6dc0933-2a7a-4cda-b255-d5fa67b1432a",
   "metadata": {
    "tags": []
   },
   "outputs": [
    {
     "data": {
      "text/html": [
       "<div><i>Table length=999</i>\n",
       "<table id=\"table140078997219760\" class=\"table-striped table-bordered table-condensed\">\n",
       "<thead><tr><th>RA</th><th>DEC</th><th>DESI_TARGET</th><th>HPXPIXEL</th><th>MAG_G</th><th>MAG_R</th><th>MAG_Z</th><th>FLUX_G</th><th>FLUX_R</th><th>FLUX_Z</th></tr></thead>\n",
       "<thead><tr><th>float64</th><th>float64</th><th>int64</th><th>int64</th><th>int64</th><th>int64</th><th>int64</th><th>int64</th><th>int64</th><th>int64</th></tr></thead>\n",
       "<tr><td>0.2920276794798619</td><td>-44.87814795867059</td><td>4294967296</td><td>35466</td><td>20</td><td>20</td><td>20</td><td>10</td><td>10</td><td>10</td></tr>\n",
       "<tr><td>0.5341639203503453</td><td>-59.49849861072</td><td>4294967296</td><td>34944</td><td>20</td><td>20</td><td>20</td><td>10</td><td>10</td><td>10</td></tr>\n",
       "<tr><td>0.7606003269661052</td><td>-49.21480403228082</td><td>4294967296</td><td>35368</td><td>20</td><td>20</td><td>20</td><td>10</td><td>10</td><td>10</td></tr>\n",
       "<tr><td>0.7814842926587906</td><td>-50.25584512268481</td><td>4294967296</td><td>35360</td><td>20</td><td>20</td><td>20</td><td>10</td><td>10</td><td>10</td></tr>\n",
       "<tr><td>1.0587581644624027</td><td>33.34086219603896</td><td>4294967296</td><td>20423</td><td>20</td><td>20</td><td>20</td><td>10</td><td>10</td><td>10</td></tr>\n",
       "<tr><td>1.3817393636371509</td><td>-2.6894125040057566</td><td>4294967296</td><td>17396</td><td>20</td><td>20</td><td>20</td><td>10</td><td>10</td><td>10</td></tr>\n",
       "<tr><td>2.0546265762975318</td><td>3.6771100916395585</td><td>4294967296</td><td>19474</td><td>20</td><td>20</td><td>20</td><td>10</td><td>10</td><td>10</td></tr>\n",
       "<tr><td>2.5447625524523763</td><td>-0.10076063065626206</td><td>4294967296</td><td>18089</td><td>20</td><td>20</td><td>20</td><td>10</td><td>10</td><td>10</td></tr>\n",
       "<tr><td>2.8502859824092304</td><td>17.69382709968802</td><td>4294967296</td><td>19872</td><td>20</td><td>20</td><td>20</td><td>10</td><td>10</td><td>10</td></tr>\n",
       "<tr><td>3.239335092358262</td><td>-65.96600504105076</td><td>4294967296</td><td>33451</td><td>20</td><td>20</td><td>20</td><td>10</td><td>10</td><td>10</td></tr>\n",
       "<tr><td>...</td><td>...</td><td>...</td><td>...</td><td>...</td><td>...</td><td>...</td><td>...</td><td>...</td><td>...</td></tr>\n",
       "<tr><td>356.697280063107</td><td>-9.018651091781681</td><td>4294967296</td><td>17308</td><td>20</td><td>20</td><td>20</td><td>10</td><td>10</td><td>10</td></tr>\n",
       "<tr><td>356.82646194616325</td><td>24.604398530380113</td><td>4294967296</td><td>20265</td><td>20</td><td>20</td><td>20</td><td>10</td><td>10</td><td>10</td></tr>\n",
       "<tr><td>356.9138588562081</td><td>33.12645063983152</td><td>4294967296</td><td>20448</td><td>20</td><td>20</td><td>20</td><td>10</td><td>10</td><td>10</td></tr>\n",
       "<tr><td>357.56575219226124</td><td>-37.909775933046205</td><td>4294967296</td><td>16416</td><td>20</td><td>20</td><td>20</td><td>10</td><td>10</td><td>10</td></tr>\n",
       "<tr><td>357.73265506204774</td><td>-14.247403560010612</td><td>4294967296</td><td>17190</td><td>20</td><td>20</td><td>20</td><td>10</td><td>10</td><td>10</td></tr>\n",
       "<tr><td>358.09696846822834</td><td>-47.12050816202612</td><td>4294967296</td><td>46402</td><td>20</td><td>20</td><td>20</td><td>10</td><td>10</td><td>10</td></tr>\n",
       "<tr><td>358.92370946946215</td><td>15.96632051767311</td><td>4294967296</td><td>19698</td><td>20</td><td>20</td><td>20</td><td>10</td><td>10</td><td>10</td></tr>\n",
       "<tr><td>359.21399505163214</td><td>30.609187969277414</td><td>4294967296</td><td>20373</td><td>20</td><td>20</td><td>20</td><td>10</td><td>10</td><td>10</td></tr>\n",
       "<tr><td>359.8213547966271</td><td>-3.304181603690082</td><td>4294967296</td><td>17395</td><td>20</td><td>20</td><td>20</td><td>10</td><td>10</td><td>10</td></tr>\n",
       "<tr><td>359.9223751591831</td><td>-11.032200148134084</td><td>4294967296</td><td>17212</td><td>20</td><td>20</td><td>20</td><td>10</td><td>10</td><td>10</td></tr>\n",
       "</table></div>"
      ],
      "text/plain": [
       "<Table length=999>\n",
       "        RA                 DEC          DESI_TARGET ... FLUX_G FLUX_R FLUX_Z\n",
       "     float64             float64           int64    ... int64  int64  int64 \n",
       "------------------ -------------------- ----------- ... ------ ------ ------\n",
       "0.2920276794798619   -44.87814795867059  4294967296 ...     10     10     10\n",
       "0.5341639203503453      -59.49849861072  4294967296 ...     10     10     10\n",
       "0.7606003269661052   -49.21480403228082  4294967296 ...     10     10     10\n",
       "0.7814842926587906   -50.25584512268481  4294967296 ...     10     10     10\n",
       "1.0587581644624027    33.34086219603896  4294967296 ...     10     10     10\n",
       "1.3817393636371509  -2.6894125040057566  4294967296 ...     10     10     10\n",
       "2.0546265762975318   3.6771100916395585  4294967296 ...     10     10     10\n",
       "2.5447625524523763 -0.10076063065626206  4294967296 ...     10     10     10\n",
       "2.8502859824092304    17.69382709968802  4294967296 ...     10     10     10\n",
       " 3.239335092358262   -65.96600504105076  4294967296 ...     10     10     10\n",
       "               ...                  ...         ... ...    ...    ...    ...\n",
       "  356.697280063107   -9.018651091781681  4294967296 ...     10     10     10\n",
       "356.82646194616325   24.604398530380113  4294967296 ...     10     10     10\n",
       " 356.9138588562081    33.12645063983152  4294967296 ...     10     10     10\n",
       "357.56575219226124  -37.909775933046205  4294967296 ...     10     10     10\n",
       "357.73265506204774  -14.247403560010612  4294967296 ...     10     10     10\n",
       "358.09696846822834   -47.12050816202612  4294967296 ...     10     10     10\n",
       "358.92370946946215    15.96632051767311  4294967296 ...     10     10     10\n",
       "359.21399505163214   30.609187969277414  4294967296 ...     10     10     10\n",
       " 359.8213547966271   -3.304181603690082  4294967296 ...     10     10     10\n",
       " 359.9223751591831  -11.032200148134084  4294967296 ...     10     10     10"
      ]
     },
     "execution_count": 12,
     "metadata": {},
     "output_type": "execute_result"
    }
   ],
   "source": [
    "skies"
   ]
  },
  {
   "cell_type": "code",
   "execution_count": 39,
   "id": "cdcb7ba7-56a6-4877-9946-a9bd8fd7c63b",
   "metadata": {
    "tags": []
   },
   "outputs": [],
   "source": [
    "# i=0\n",
    "# while i < 254:\n",
    "#     if skies['RA'][i] == 101.652:\n",
    "#         print(i)\n",
    "#     i+=1 "
   ]
  },
  {
   "cell_type": "code",
   "execution_count": 7,
   "id": "9a244b99-2fd6-4a77-8e8f-bca2304919a7",
   "metadata": {},
   "outputs": [],
   "source": [
    "# missing.add_column(18, name='MAG_G')\n",
    "# missing.add_column(18, name='MAG_R')\n",
    "# missing.add_column(18, name='MAG_Z')"
   ]
  },
  {
   "cell_type": "code",
   "execution_count": 28,
   "id": "00d6a5dd-c9ab-469e-8db6-4b392f635b53",
   "metadata": {
    "tags": []
   },
   "outputs": [],
   "source": [
    "offset.add_column(0.000000 ,name='norm_shift')\n",
    "offset.add_column(0.000000 ,name='SHIFT')"
   ]
  },
  {
   "cell_type": "code",
   "execution_count": 29,
   "id": "696d08bf-6080-4dc6-bc9e-5d3f9cf1b9a9",
   "metadata": {
    "tags": []
   },
   "outputs": [],
   "source": [
    "#TO CREATE OFFSET CATALOG FROM SGA-2020\n",
    "import random\n",
    "i=0\n",
    "while i < len(offset['SGA_ID']):\n",
    "    ra_shift = random.uniform(-0.005, 0.005)\n",
    "    dec_shift = random.uniform(-0.005, 0.005)\n",
    "    offset['RA'][i] += ra_shift\n",
    "    offset['DEC'][i] += dec_shift\n",
    "    offset['SHIFT'][i] = (ra_shift**2 + dec_shift**2)**0.5\n",
    "    i+=1"
   ]
  },
  {
   "cell_type": "code",
   "execution_count": 32,
   "id": "1d060142-2d73-4648-98c7-3d17d7fa2aa8",
   "metadata": {
    "tags": []
   },
   "outputs": [],
   "source": [
    "i=0\n",
    "while i < len(offset['SGA_ID']):\n",
    "    offset['norm_shift'][i] = offset['SHIFT'][i]*120/offset['D26'][i]\n",
    "    i+=1"
   ]
  },
  {
   "cell_type": "code",
   "execution_count": 11,
   "id": "4972b2ee-3889-4ce8-81b5-443564a3475a",
   "metadata": {
    "tags": []
   },
   "outputs": [
    {
     "data": {
      "text/html": [
       "<div><i>Table length=10000</i>\n",
       "<table id=\"table139956637143520\" class=\"table-striped table-bordered table-condensed\">\n",
       "<thead><tr><th>SGA_ID</th><th>GALAXY</th><th>RA</th><th>DEC</th><th>D26</th><th>G_MAG_SB26</th><th>R_MAG_SB26</th><th>Z_MAG_SB26</th><th>norm_shift</th><th>SHIFT</th></tr></thead>\n",
       "<thead><tr><th>int64</th><th>bytes29</th><th>float64</th><th>float64</th><th>float32</th><th>float32</th><th>float32</th><th>float32</th><th>float64</th><th>float64</th></tr></thead>\n",
       "<tr><td>24</td><td>PGC2162969</td><td>247.4246173214296</td><td>40.250675768609874</td><td>0.5431378</td><td>-1.0</td><td>-1.0</td><td>-1.0</td><td>0.5481583832730266</td><td>0.002481046101567214</td></tr>\n",
       "<tr><td>77</td><td>SDSSJ151648.69+140504.0</td><td>229.20170057806905</td><td>14.087954271624621</td><td>0.39918694</td><td>17.963633</td><td>17.444605</td><td>17.110806</td><td>1.1174140481157553</td><td>0.00371714244553448</td></tr>\n",
       "<tr><td>181</td><td>PGC1400374</td><td>211.32778969179694</td><td>11.890441626492535</td><td>0.4241666</td><td>17.739927</td><td>16.70688</td><td>16.014826</td><td>0.1583330141237253</td><td>0.0005596631223448383</td></tr>\n",
       "<tr><td>308</td><td>PGC2094581</td><td>120.16097945653722</td><td>37.18046059005803</td><td>0.6698354</td><td>16.886106</td><td>15.830816</td><td>15.131019</td><td>0.6420719294433813</td><td>0.0035840208367221675</td></tr>\n",
       "<tr><td>351</td><td>SDSSJ102543.09+093119.8</td><td>156.43415983759374</td><td>9.517356020040454</td><td>0.57250285</td><td>18.072153</td><td>17.088245</td><td>16.241909</td><td>1.3967152434054175</td><td>0.006663528829698766</td></tr>\n",
       "<tr><td>556</td><td>PGC1593038</td><td>126.03479628385293</td><td>19.454549028141486</td><td>0.6886622</td><td>16.907436</td><td>16.274525</td><td>15.739177</td><td>1.1502682965307567</td><td>0.006601218856165379</td></tr>\n",
       "<tr><td>707</td><td>PGC2030436</td><td>230.16683190969047</td><td>33.369139993167146</td><td>0.72314805</td><td>16.420382</td><td>15.458088</td><td>14.904183</td><td>0.9392656536462491</td><td>0.005660234365969868</td></tr>\n",
       "<tr><td>720</td><td>PGC2545412</td><td>196.3025953763888</td><td>56.70972395876638</td><td>0.4072858</td><td>16.63563</td><td>16.219702</td><td>15.992032</td><td>1.092611838144155</td><td>0.003708377474885814</td></tr>\n",
       "<tr><td>740</td><td>PGC2279002</td><td>129.0032887229085</td><td>46.31126780303184</td><td>0.7394494</td><td>16.10833</td><td>15.258259</td><td>14.661092</td><td>0.7470894825864692</td><td>0.00460362380057496</td></tr>\n",
       "<tr><td>780</td><td>PGC1762180</td><td>247.2626410955373</td><td>26.089326466814416</td><td>0.685069</td><td>15.983984</td><td>15.21097</td><td>14.635214</td><td>0.41392247457823117</td><td>0.0023630455491995333</td></tr>\n",
       "<tr><td>...</td><td>...</td><td>...</td><td>...</td><td>...</td><td>...</td><td>...</td><td>...</td><td>...</td><td>...</td></tr>\n",
       "<tr><td>5003485</td><td>DR8-2539p425-829</td><td>254.04836946908839</td><td>42.43607091186111</td><td>0.36898008</td><td>16.804308</td><td>15.926091</td><td>15.378629</td><td>1.5642010829279762</td><td>0.004809658671180753</td></tr>\n",
       "<tr><td>5003572</td><td>DR8-2628p620-1916</td><td>262.7871823927125</td><td>62.004138386475965</td><td>0.41184655</td><td>16.720177</td><td>15.953318</td><td>15.458186</td><td>1.564389708474275</td><td>0.005369070847172353</td></tr>\n",
       "<tr><td>5003685</td><td>DR8-0667m512-2109</td><td>66.50567574825415</td><td>-51.259800820831046</td><td>0.4084445</td><td>16.217926</td><td>15.541686</td><td>15.0709095</td><td>1.1547852978030386</td><td>0.003930547472085127</td></tr>\n",
       "<tr><td>5004018</td><td>DR8-2223m067-6408</td><td>222.34511955362325</td><td>-6.651162901061346</td><td>0.71420574</td><td>16.646805</td><td>15.704945</td><td>15.019571</td><td>0.7752613676690546</td><td>0.004614134335406521</td></tr>\n",
       "<tr><td>5004191</td><td>DR8-1405m035-1669</td><td>140.50339879493845</td><td>-3.533976242566379</td><td>0.4510797</td><td>18.002346</td><td>16.849024</td><td>16.025545</td><td>0.8880785339264357</td><td>0.0033382849623155176</td></tr>\n",
       "<tr><td>5004286</td><td>DR8-0393p027-1250</td><td>39.25422577497025</td><td>2.66926119186543</td><td>0.46381873</td><td>16.562294</td><td>15.774183</td><td>15.193243</td><td>1.243493431563075</td><td>0.004806296190438973</td></tr>\n",
       "<tr><td>5004296</td><td>DR8-0373m190-5085</td><td>37.37258048942423</td><td>-18.92877985818899</td><td>0.47453767</td><td>16.03611</td><td>15.345613</td><td>14.774071</td><td>0.9142712135570336</td><td>0.00361546776657723</td></tr>\n",
       "<tr><td>5004396</td><td>DR8-3477m642-1289</td><td>347.9542723775159</td><td>-64.31861510589302</td><td>0.38900438</td><td>16.91634</td><td>16.307493</td><td>15.799666</td><td>1.9741741086518734</td><td>0.00639968645152138</td></tr>\n",
       "<tr><td>5004497</td><td>DR8-1267p130-494</td><td>126.87370883967041</td><td>12.903288197127205</td><td>0.39124998</td><td>-1.0</td><td>-1.0</td><td>-1.0</td><td>1.7004247503254462</td><td>0.005544092976774962</td></tr>\n",
       "<tr><td>5004930</td><td>DR8-1532p102-2745</td><td>153.16304437097622</td><td>10.287093051397438</td><td>0.41092587</td><td>16.879251</td><td>16.336458</td><td>15.921709</td><td>0.8693766111417515</td><td>0.002977077800790754</td></tr>\n",
       "</table></div>"
      ],
      "text/plain": [
       "<Table length=10000>\n",
       " SGA_ID          GALAXY         ...      norm_shift             SHIFT        \n",
       " int64          bytes29         ...       float64              float64       \n",
       "------- ----------------------- ... ------------------- ---------------------\n",
       "     24              PGC2162969 ...  0.5481583832730266  0.002481046101567214\n",
       "     77 SDSSJ151648.69+140504.0 ...  1.1174140481157553   0.00371714244553448\n",
       "    181              PGC1400374 ...  0.1583330141237253 0.0005596631223448383\n",
       "    308              PGC2094581 ...  0.6420719294433813 0.0035840208367221675\n",
       "    351 SDSSJ102543.09+093119.8 ...  1.3967152434054175  0.006663528829698766\n",
       "    556              PGC1593038 ...  1.1502682965307567  0.006601218856165379\n",
       "    707              PGC2030436 ...  0.9392656536462491  0.005660234365969868\n",
       "    720              PGC2545412 ...   1.092611838144155  0.003708377474885814\n",
       "    740              PGC2279002 ...  0.7470894825864692   0.00460362380057496\n",
       "    780              PGC1762180 ... 0.41392247457823117 0.0023630455491995333\n",
       "    ...                     ... ...                 ...                   ...\n",
       "5003485        DR8-2539p425-829 ...  1.5642010829279762  0.004809658671180753\n",
       "5003572       DR8-2628p620-1916 ...   1.564389708474275  0.005369070847172353\n",
       "5003685       DR8-0667m512-2109 ...  1.1547852978030386  0.003930547472085127\n",
       "5004018       DR8-2223m067-6408 ...  0.7752613676690546  0.004614134335406521\n",
       "5004191       DR8-1405m035-1669 ...  0.8880785339264357 0.0033382849623155176\n",
       "5004286       DR8-0393p027-1250 ...   1.243493431563075  0.004806296190438973\n",
       "5004296       DR8-0373m190-5085 ...  0.9142712135570336   0.00361546776657723\n",
       "5004396       DR8-3477m642-1289 ...  1.9741741086518734   0.00639968645152138\n",
       "5004497        DR8-1267p130-494 ...  1.7004247503254462  0.005544092976774962\n",
       "5004930       DR8-1532p102-2745 ...  0.8693766111417515  0.002977077800790754"
      ]
     },
     "execution_count": 11,
     "metadata": {},
     "output_type": "execute_result"
    }
   ],
   "source": [
    "offset.sort('SGA_ID')\n",
    "offset"
   ]
  },
  {
   "cell_type": "code",
   "execution_count": 39,
   "id": "eca03cb8-2d1a-49de-88aa-2805e07bb498",
   "metadata": {
    "tags": []
   },
   "outputs": [],
   "source": [
    "offset.write('/pscratch/sd/s/sgmoore1/SGA2024/catalogs/sga2020-offset.fits', overwrite=True)"
   ]
  },
  {
   "cell_type": "code",
   "execution_count": 4,
   "id": "aae429fa-1b33-42bf-9222-70b5f13e04bb",
   "metadata": {
    "tags": []
   },
   "outputs": [
    {
     "data": {
      "text/html": [
       "<div><i>Table length=254</i>\n",
       "<table id=\"table139763699941440\" class=\"table-striped table-bordered table-condensed\">\n",
       "<thead><tr><th>GALAXY</th><th>RA</th><th>DEC</th><th>DIAM</th><th>MAG_G</th><th>MAG_R</th><th>MAG_Z</th></tr></thead>\n",
       "<thead><tr><th></th><th>deg</th><th>deg</th><th>arcmin</th><th></th><th></th><th></th></tr></thead>\n",
       "<thead><tr><th>bytes30</th><th>float64</th><th>float64</th><th>float32</th><th>int64</th><th>int64</th><th>int64</th></tr></thead>\n",
       "<tr><td>2MASXJ00000256+0817537</td><td>0.0106</td><td>8.298</td><td>1.0</td><td>18</td><td>18</td><td>18</td></tr>\n",
       "<tr><td>2MASXJ00000896+0817338</td><td>0.0373</td><td>8.2927</td><td>1.0</td><td>18</td><td>18</td><td>18</td></tr>\n",
       "<tr><td>DR10-0001m365-1293</td><td>0.0414</td><td>-36.5683</td><td>1.0</td><td>18</td><td>18</td><td>18</td></tr>\n",
       "<tr><td>DR10-0001m405-3541</td><td>0.085</td><td>-40.4098</td><td>1.0</td><td>18</td><td>18</td><td>18</td></tr>\n",
       "<tr><td>PGC000026</td><td>0.115</td><td>-7.8823</td><td>1.0</td><td>18</td><td>18</td><td>18</td></tr>\n",
       "<tr><td>AGC102729</td><td>0.1338</td><td>30.8696</td><td>1.0</td><td>18</td><td>18</td><td>18</td></tr>\n",
       "<tr><td>PGC618004</td><td>0.1584</td><td>-37.7653</td><td>1.0</td><td>18</td><td>18</td><td>18</td></tr>\n",
       "<tr><td>2MASXJ00003907-4938479</td><td>0.1627</td><td>-49.6467</td><td>1.0</td><td>18</td><td>18</td><td>18</td></tr>\n",
       "<tr><td>PGC616134</td><td>0.1669</td><td>-37.6938</td><td>1.0</td><td>18</td><td>18</td><td>18</td></tr>\n",
       "<tr><td>...</td><td>...</td><td>...</td><td>...</td><td>...</td><td>...</td><td>...</td></tr>\n",
       "<tr><td>2MASXJ23170645+2128375</td><td>349.276944</td><td>21.477074</td><td>1.034</td><td>18</td><td>18</td><td>18</td></tr>\n",
       "<tr><td>AGC335954</td><td>349.445409</td><td>21.099168</td><td>1.386</td><td>18</td><td>18</td><td>18</td></tr>\n",
       "<tr><td>PGC141104</td><td>349.832489</td><td>24.933847</td><td>1.018</td><td>18</td><td>18</td><td>18</td></tr>\n",
       "<tr><td>UGC12515</td><td>349.963097</td><td>26.262785</td><td>1.56</td><td>18</td><td>18</td><td>18</td></tr>\n",
       "<tr><td>AGC333528</td><td>350.600419</td><td>28.734446</td><td>1.162</td><td>18</td><td>18</td><td>18</td></tr>\n",
       "<tr><td>AGC333395</td><td>352.243542</td><td>31.397056</td><td>1.038</td><td>18</td><td>18</td><td>18</td></tr>\n",
       "<tr><td>PGC141114</td><td>352.299424</td><td>11.849819</td><td>1.132</td><td>18</td><td>18</td><td>18</td></tr>\n",
       "<tr><td>AGC334606</td><td>352.745826</td><td>16.591389</td><td>1.1</td><td>18</td><td>18</td><td>18</td></tr>\n",
       "<tr><td>PGC072071</td><td>355.07925</td><td>27.561472</td><td>1.142</td><td>18</td><td>18</td><td>18</td></tr>\n",
       "<tr><td>2MASXJ23590614+0643271</td><td>359.775708</td><td>6.724179</td><td>1.044</td><td>18</td><td>18</td><td>18</td></tr>\n",
       "</table></div>"
      ],
      "text/plain": [
       "<Table length=254>\n",
       "        GALAXY             RA        DEC      DIAM  MAG_G MAG_R MAG_Z\n",
       "                          deg        deg     arcmin                  \n",
       "       bytes30          float64    float64  float32 int64 int64 int64\n",
       "---------------------- ---------- --------- ------- ----- ----- -----\n",
       "2MASXJ00000256+0817537     0.0106     8.298     1.0    18    18    18\n",
       "2MASXJ00000896+0817338     0.0373    8.2927     1.0    18    18    18\n",
       "    DR10-0001m365-1293     0.0414  -36.5683     1.0    18    18    18\n",
       "    DR10-0001m405-3541      0.085  -40.4098     1.0    18    18    18\n",
       "             PGC000026      0.115   -7.8823     1.0    18    18    18\n",
       "             AGC102729     0.1338   30.8696     1.0    18    18    18\n",
       "             PGC618004     0.1584  -37.7653     1.0    18    18    18\n",
       "2MASXJ00003907-4938479     0.1627  -49.6467     1.0    18    18    18\n",
       "             PGC616134     0.1669  -37.6938     1.0    18    18    18\n",
       "                   ...        ...       ...     ...   ...   ...   ...\n",
       "2MASXJ23170645+2128375 349.276944 21.477074   1.034    18    18    18\n",
       "             AGC335954 349.445409 21.099168   1.386    18    18    18\n",
       "             PGC141104 349.832489 24.933847   1.018    18    18    18\n",
       "              UGC12515 349.963097 26.262785    1.56    18    18    18\n",
       "             AGC333528 350.600419 28.734446   1.162    18    18    18\n",
       "             AGC333395 352.243542 31.397056   1.038    18    18    18\n",
       "             PGC141114 352.299424 11.849819   1.132    18    18    18\n",
       "             AGC334606 352.745826 16.591389     1.1    18    18    18\n",
       "             PGC072071  355.07925 27.561472   1.142    18    18    18\n",
       "2MASXJ23590614+0643271 359.775708  6.724179   1.044    18    18    18"
      ]
     },
     "execution_count": 4,
     "metadata": {},
     "output_type": "execute_result"
    }
   ],
   "source": [
    "missing"
   ]
  },
  {
   "cell_type": "code",
   "execution_count": 4,
   "id": "3d347915-2ff0-4fed-8198-e6b29744f740",
   "metadata": {
    "tags": []
   },
   "outputs": [
    {
     "data": {
      "text/html": [
       "<div><i>Table length=383620</i>\n",
       "<table id=\"table140705005408784\" class=\"table-striped table-bordered table-condensed\">\n",
       "<thead><tr><th>SGA_ID</th><th>SGA_GALAXY</th><th>GALAXY</th><th>PGC</th><th>RA_LEDA</th><th>DEC_LEDA</th><th>MORPHTYPE</th><th>PA_LEDA</th><th>D25_LEDA</th><th>BA_LEDA</th><th>Z_LEDA</th><th>SB_D25_LEDA</th><th>MAG_LEDA</th><th>BYHAND</th><th>REF</th><th>GROUP_ID</th><th>GROUP_NAME</th><th>GROUP_MULT</th><th>GROUP_PRIMARY</th><th>GROUP_RA</th><th>GROUP_DEC</th><th>GROUP_DIAMETER</th><th>BRICKNAME</th><th>RA</th><th>DEC</th><th>D26</th><th>D26_REF</th><th>PA</th><th>BA</th><th>RA_MOMENT</th><th>DEC_MOMENT</th><th>SMA_MOMENT</th><th>G_SMA50</th><th>R_SMA50</th><th>Z_SMA50</th><th>SMA_SB22</th><th>SMA_SB22.5</th><th>SMA_SB23</th><th>SMA_SB23.5</th><th>SMA_SB24</th><th>SMA_SB24.5</th><th>SMA_SB25</th><th>SMA_SB25.5</th><th>SMA_SB26</th><th>G_MAG_SB22</th><th>R_MAG_SB22</th><th>Z_MAG_SB22</th><th>G_MAG_SB22.5</th><th>R_MAG_SB22.5</th><th>Z_MAG_SB22.5</th><th>G_MAG_SB23</th><th>R_MAG_SB23</th><th>Z_MAG_SB23</th><th>G_MAG_SB23.5</th><th>R_MAG_SB23.5</th><th>Z_MAG_SB23.5</th><th>G_MAG_SB24</th><th>R_MAG_SB24</th><th>Z_MAG_SB24</th><th>G_MAG_SB24.5</th><th>R_MAG_SB24.5</th><th>Z_MAG_SB24.5</th><th>G_MAG_SB25</th><th>R_MAG_SB25</th><th>Z_MAG_SB25</th><th>G_MAG_SB25.5</th><th>R_MAG_SB25.5</th><th>Z_MAG_SB25.5</th><th>G_MAG_SB26</th><th>R_MAG_SB26</th><th>Z_MAG_SB26</th><th>SMA_SB22_ERR</th><th>SMA_SB22.5_ERR</th><th>SMA_SB23_ERR</th><th>SMA_SB23.5_ERR</th><th>SMA_SB24_ERR</th><th>SMA_SB24.5_ERR</th><th>SMA_SB25_ERR</th><th>SMA_SB25.5_ERR</th><th>SMA_SB26_ERR</th><th>G_MAG_SB22_ERR</th><th>R_MAG_SB22_ERR</th><th>Z_MAG_SB22_ERR</th><th>G_MAG_SB22.5_ERR</th><th>R_MAG_SB22.5_ERR</th><th>Z_MAG_SB22.5_ERR</th><th>G_MAG_SB23_ERR</th><th>R_MAG_SB23_ERR</th><th>Z_MAG_SB23_ERR</th><th>G_MAG_SB23.5_ERR</th><th>R_MAG_SB23.5_ERR</th><th>Z_MAG_SB23.5_ERR</th><th>G_MAG_SB24_ERR</th><th>R_MAG_SB24_ERR</th><th>Z_MAG_SB24_ERR</th><th>G_MAG_SB24.5_ERR</th><th>R_MAG_SB24.5_ERR</th><th>Z_MAG_SB24.5_ERR</th><th>G_MAG_SB25_ERR</th><th>R_MAG_SB25_ERR</th><th>Z_MAG_SB25_ERR</th><th>G_MAG_SB25.5_ERR</th><th>R_MAG_SB25.5_ERR</th><th>Z_MAG_SB25.5_ERR</th><th>G_MAG_SB26_ERR</th><th>R_MAG_SB26_ERR</th><th>Z_MAG_SB26_ERR</th><th>G_COG_PARAMS_MTOT</th><th>G_COG_PARAMS_M0</th><th>G_COG_PARAMS_ALPHA1</th><th>G_COG_PARAMS_ALPHA2</th><th>G_COG_PARAMS_CHI2</th><th>R_COG_PARAMS_MTOT</th><th>R_COG_PARAMS_M0</th><th>R_COG_PARAMS_ALPHA1</th><th>R_COG_PARAMS_ALPHA2</th><th>R_COG_PARAMS_CHI2</th><th>Z_COG_PARAMS_MTOT</th><th>Z_COG_PARAMS_M0</th><th>Z_COG_PARAMS_ALPHA1</th><th>Z_COG_PARAMS_ALPHA2</th><th>Z_COG_PARAMS_CHI2</th><th>ELLIPSEBIT</th></tr></thead>\n",
       "<thead><tr><th>int64</th><th>bytes16</th><th>bytes29</th><th>int64</th><th>float64</th><th>float64</th><th>bytes21</th><th>float32</th><th>float32</th><th>float32</th><th>float32</th><th>float32</th><th>float32</th><th>bool</th><th>bytes13</th><th>int64</th><th>bytes35</th><th>int16</th><th>bool</th><th>float64</th><th>float64</th><th>float32</th><th>bytes8</th><th>float64</th><th>float64</th><th>float32</th><th>bytes4</th><th>float32</th><th>float32</th><th>float64</th><th>float64</th><th>float32</th><th>float32</th><th>float32</th><th>float32</th><th>float32</th><th>float32</th><th>float32</th><th>float32</th><th>float32</th><th>float32</th><th>float32</th><th>float32</th><th>float32</th><th>float32</th><th>float32</th><th>float32</th><th>float32</th><th>float32</th><th>float32</th><th>float32</th><th>float32</th><th>float32</th><th>float32</th><th>float32</th><th>float32</th><th>float32</th><th>float32</th><th>float32</th><th>float32</th><th>float32</th><th>float32</th><th>float32</th><th>float32</th><th>float32</th><th>float32</th><th>float32</th><th>float32</th><th>float32</th><th>float32</th><th>float32</th><th>float32</th><th>float32</th><th>float32</th><th>float32</th><th>float32</th><th>float32</th><th>float32</th><th>float32</th><th>float32</th><th>float32</th><th>float32</th><th>float32</th><th>float32</th><th>float32</th><th>float32</th><th>float32</th><th>float32</th><th>float32</th><th>float32</th><th>float32</th><th>float32</th><th>float32</th><th>float32</th><th>float32</th><th>float32</th><th>float32</th><th>float32</th><th>float32</th><th>float32</th><th>float32</th><th>float32</th><th>float32</th><th>float32</th><th>float32</th><th>float32</th><th>float32</th><th>float32</th><th>float32</th><th>float32</th><th>float32</th><th>float32</th><th>float32</th><th>float32</th><th>float32</th><th>float32</th><th>float32</th><th>float32</th><th>float32</th><th>float32</th><th>float32</th><th>float32</th><th>int32</th></tr></thead>\n",
       "<tr><td>2</td><td>SGA-2020 2</td><td>PGC1283207</td><td>1283207</td><td>228.3770865</td><td>5.4232017</td><td>S?</td><td>152.2</td><td>0.36307806</td><td>0.724436</td><td>0.03463229</td><td>23.40448</td><td>16.976</td><td>False</td><td>LEDA-20181114</td><td>0</td><td>PGC1283207</td><td>1</td><td>True</td><td>228.3770865</td><td>5.4232017</td><td>0.36307806</td><td>2283p055</td><td>228.3770803831908</td><td>5.423191398593787</td><td>0.49470574</td><td>SB26</td><td>158.20142</td><td>0.545691</td><td>228.37700918822188</td><td>5.4232652570544015</td><td>10.897086</td><td>3.3509698</td><td>3.1147978</td><td>3.240862</td><td>5.902337</td><td>6.9126143</td><td>7.941369</td><td>8.997992</td><td>10.073601</td><td>11.199986</td><td>12.391357</td><td>13.561038</td><td>14.841172</td><td>16.966799</td><td>16.108246</td><td>15.486356</td><td>16.879545</td><td>16.024958</td><td>15.400715</td><td>16.818878</td><td>15.967034</td><td>15.341793</td><td>16.776297</td><td>15.925804</td><td>15.300776</td><td>16.746685</td><td>15.897334</td><td>15.272053</td><td>16.725166</td><td>15.876816</td><td>15.2521105</td><td>16.708357</td><td>15.862035</td><td>15.237181</td><td>16.696539</td><td>15.851936</td><td>15.226998</td><td>16.689613</td><td>15.844313</td><td>15.21976</td><td>0.013392451</td><td>0.02354</td><td>0.021872982</td><td>0.01736985</td><td>0.024445537</td><td>0.039866067</td><td>0.05026544</td><td>0.08455789</td><td>0.122911856</td><td>0.005682776</td><td>0.0054258136</td><td>0.0049038026</td><td>0.005588406</td><td>0.005323561</td><td>0.0047632363</td><td>0.00543534</td><td>0.005177031</td><td>0.0046343105</td><td>0.0053025587</td><td>0.005040888</td><td>0.0045181247</td><td>0.005206092</td><td>0.0049438984</td><td>0.0044374703</td><td>0.0051483097</td><td>0.0048758644</td><td>0.0043834248</td><td>0.0051032505</td><td>0.0048264163</td><td>0.004344248</td><td>0.0050705094</td><td>0.004792021</td><td>0.004319857</td><td>0.005054293</td><td>0.004765629</td><td>0.0043044444</td><td>16.65942</td><td>0.34037337</td><td>0.2978292</td><td>3.0239506</td><td>0.07928849</td><td>15.820566</td><td>0.2640441</td><td>0.34559453</td><td>3.3033552</td><td>0.003811298</td><td>15.195567</td><td>0.29826432</td><td>0.3001073</td><td>3.2333765</td><td>0.011723555</td><td>0</td></tr>\n",
       "<tr><td>3</td><td>SGA-2020 3</td><td>PGC1310416</td><td>1310416</td><td>202.54443750000002</td><td>6.9345944</td><td>Sc</td><td>159.26</td><td>0.4017908</td><td>0.7816278</td><td>0.073888786</td><td>23.498482</td><td>16.85</td><td>False</td><td>LEDA-20181114</td><td>1</td><td>PGC1310416</td><td>1</td><td>True</td><td>202.54443750000002</td><td>6.9345944</td><td>0.4017908</td><td>2025p070</td><td>202.5444619671207</td><td>6.9346244322326624</td><td>0.55350494</td><td>SB26</td><td>161.5937</td><td>0.7291764</td><td>202.54432739596137</td><td>6.934806737209989</td><td>15.746941</td><td>5.6416235</td><td>5.2647552</td><td>5.0895185</td><td>5.9838247</td><td>7.4356494</td><td>8.728868</td><td>10.087478</td><td>11.529764</td><td>12.818195</td><td>14.115497</td><td>15.319822</td><td>16.605148</td><td>16.963299</td><td>16.307854</td><td>15.806882</td><td>16.729511</td><td>16.097378</td><td>15.615527</td><td>16.606344</td><td>15.990707</td><td>15.518403</td><td>16.525967</td><td>15.917321</td><td>15.450624</td><td>16.462585</td><td>15.859485</td><td>15.397182</td><td>16.419558</td><td>15.820947</td><td>15.36243</td><td>16.390558</td><td>15.796369</td><td>15.338905</td><td>16.376112</td><td>15.782492</td><td>15.323709</td><td>16.364115</td><td>15.773462</td><td>15.313725</td><td>0.036992554</td><td>0.034982767</td><td>0.037769336</td><td>0.049429573</td><td>0.052699674</td><td>0.074114166</td><td>0.07914538</td><td>0.09781406</td><td>0.15534972</td><td>0.016095797</td><td>0.019181909</td><td>0.021539452</td><td>0.013955905</td><td>0.016594552</td><td>0.018640138</td><td>0.012786752</td><td>0.015244632</td><td>0.01715491</td><td>0.011973826</td><td>0.014366956</td><td>0.016208366</td><td>0.011358372</td><td>0.013676575</td><td>0.015474222</td><td>0.010944939</td><td>0.013225297</td><td>0.015011175</td><td>0.010691595</td><td>0.012931233</td><td>0.014687982</td><td>0.010546411</td><td>0.012796015</td><td>0.014518412</td><td>0.010457551</td><td>0.012685407</td><td>0.014379212</td><td>16.284733</td><td>1.0914493</td><td>0.24674739</td><td>2.4320207</td><td>0.68685365</td><td>15.704403</td><td>0.8764323</td><td>0.27360612</td><td>2.4995425</td><td>0.49343896</td><td>15.235263</td><td>1.3098688</td><td>0.17866786</td><td>2.1750498</td><td>0.20391206</td><td>0</td></tr>\n",
       "<tr><td>4</td><td>SGA-2020 4</td><td>SDSSJ145059.93+135143.0</td><td>4435547</td><td>222.749787</td><td>13.8619111</td><td>S?</td><td>44.57</td><td>0.33342642</td><td>0.6637431</td><td>0.07567602</td><td>24.457481</td><td>18.214</td><td>False</td><td>LEDA-20181114</td><td>2</td><td>SDSSJ145059.93+135143.0</td><td>1</td><td>True</td><td>222.749787</td><td>13.8619111</td><td>0.33342642</td><td>2228p137</td><td>222.7497050504303</td><td>13.861929561160224</td><td>0.37067476</td><td>SB26</td><td>45.28537</td><td>0.70922077</td><td>222.749650475464</td><td>13.862052070022896</td><td>8.877115</td><td>4.652771</td><td>4.4837785</td><td>4.4959745</td><td>2.01033</td><td>3.3967943</td><td>4.76257</td><td>6.043787</td><td>7.242806</td><td>8.250407</td><td>9.158723</td><td>10.083457</td><td>11.120243</td><td>19.97595</td><td>19.190666</td><td>18.649523</td><td>19.098536</td><td>18.397219</td><td>17.899643</td><td>18.624952</td><td>17.967802</td><td>17.50231</td><td>18.35278</td><td>17.718002</td><td>17.265854</td><td>18.192762</td><td>17.5654</td><td>17.115404</td><td>18.10496</td><td>17.480022</td><td>17.033989</td><td>18.053415</td><td>17.430794</td><td>16.982971</td><td>18.020155</td><td>17.399996</td><td>16.948252</td><td>17.994783</td><td>17.377092</td><td>16.924469</td><td>0.02113719</td><td>0.03639431</td><td>0.051901262</td><td>0.06539029</td><td>0.08552586</td><td>0.07008602</td><td>0.070394725</td><td>0.08394975</td><td>0.113649584</td><td>0.013428732</td><td>0.017600043</td><td>0.016373685</td><td>0.012251812</td><td>0.014566466</td><td>0.013732588</td><td>0.012644532</td><td>0.014030071</td><td>0.013153961</td><td>0.012747069</td><td>0.013512552</td><td>0.012818239</td><td>0.012865601</td><td>0.01324455</td><td>0.012532208</td><td>0.012762528</td><td>0.013058522</td><td>0.012420634</td><td>0.01252645</td><td>0.012827468</td><td>0.012283978</td><td>0.012320441</td><td>0.012607317</td><td>0.012104107</td><td>0.0121167945</td><td>0.01244376</td><td>0.011985352</td><td>17.896797</td><td>0.5557265</td><td>0.25455818</td><td>3.167909</td><td>1.0522435</td><td>17.28287</td><td>0.4885815</td><td>0.2782499</td><td>3.2144456</td><td>1.3733263</td><td>16.807674</td><td>0.5177045</td><td>0.32264626</td><td>2.900518</td><td>1.8054093</td><td>0</td></tr>\n",
       "<tr><td>7</td><td>SGA-2020 7</td><td>PGC1742504</td><td>1742504</td><td>182.0888085</td><td>25.6022764</td><td>Sbc</td><td>84.97</td><td>0.548277</td><td>0.25118864</td><td>0.10090814</td><td>24.91348</td><td>17.59</td><td>False</td><td>LEDA-20181114</td><td>3</td><td>PGC1742504</td><td>1</td><td>True</td><td>182.0888085</td><td>25.6022764</td><td>0.548277</td><td>1820p255</td><td>182.08882232629614</td><td>25.60226821438983</td><td>0.8883204</td><td>SB26</td><td>84.857475</td><td>0.19753796</td><td>182.08873760544392</td><td>25.602311195157757</td><td>19.779116</td><td>6.5958204</td><td>6.0386286</td><td>5.8089786</td><td>9.279068</td><td>10.949478</td><td>12.652142</td><td>14.446171</td><td>16.323679</td><td>18.392954</td><td>20.915508</td><td>23.566542</td><td>26.649612</td><td>17.390274</td><td>16.360935</td><td>15.531964</td><td>17.285898</td><td>16.262264</td><td>15.440768</td><td>17.2167</td><td>16.195492</td><td>15.380734</td><td>17.16217</td><td>16.144245</td><td>15.334935</td><td>17.130178</td><td>16.110302</td><td>15.304758</td><td>17.104496</td><td>16.084463</td><td>15.280803</td><td>17.081282</td><td>16.061373</td><td>15.2589855</td><td>17.063671</td><td>16.045204</td><td>15.243196</td><td>17.046705</td><td>16.031244</td><td>15.23268</td><td>0.04351465</td><td>0.055440858</td><td>0.052207235</td><td>0.07507412</td><td>0.0793679</td><td>0.10347854</td><td>0.13569456</td><td>0.13104819</td><td>0.17234002</td><td>0.03885276</td><td>0.03744209</td><td>0.03786608</td><td>0.035534665</td><td>0.03441038</td><td>0.03503794</td><td>0.033557214</td><td>0.032548346</td><td>0.033348277</td><td>0.031964395</td><td>0.03106612</td><td>0.031957533</td><td>0.031133845</td><td>0.030202182</td><td>0.031190341</td><td>0.030430589</td><td>0.029511228</td><td>0.030530946</td><td>0.02975241</td><td>0.028853998</td><td>0.029866546</td><td>0.02928568</td><td>0.0284345</td><td>0.029445464</td><td>0.028843498</td><td>0.028076617</td><td>0.029169334</td><td>16.995174</td><td>21.083004</td><td>0.0164273</td><td>1.9079465</td><td>0.029703742</td><td>15.991165</td><td>0.7657307</td><td>0.52285546</td><td>2.3045986</td><td>0.006013103</td><td>15.191324</td><td>1.0408205</td><td>0.32956335</td><td>2.1520333</td><td>0.004725194</td><td>0</td></tr>\n",
       "<tr><td>18</td><td>SGA-2020 18</td><td>2MASXJ12340801+4535444</td><td>3550748</td><td>188.5335525</td><td>45.5956434</td><td>E</td><td>168.65</td><td>0.53088444</td><td>0.6950243</td><td>0.07609531</td><td>23.97948</td><td>16.726</td><td>False</td><td>LEDA-20181114</td><td>4</td><td>2MASXJ12340801+4535444</td><td>1</td><td>True</td><td>188.5335525</td><td>45.5956434</td><td>0.53088444</td><td>1883p455</td><td>188.53364923054596</td><td>45.595620212931856</td><td>0.73435897</td><td>SB26</td><td>166.25127</td><td>0.70995796</td><td>188.53349052789085</td><td>45.59567446403057</td><td>15.694805</td><td>5.091253</td><td>4.670616</td><td>2.9429996</td><td>5.219665</td><td>6.6119533</td><td>8.228266</td><td>10.109745</td><td>12.170589</td><td>14.364073</td><td>16.722517</td><td>19.18709</td><td>22.03077</td><td>17.208511</td><td>16.224203</td><td>15.566424</td><td>17.050343</td><td>16.080097</td><td>15.443468</td><td>16.921791</td><td>15.962402</td><td>15.347263</td><td>16.814959</td><td>15.864242</td><td>15.27134</td><td>16.729906</td><td>15.787886</td><td>15.218466</td><td>16.664564</td><td>15.730083</td><td>15.182751</td><td>16.61991</td><td>15.686324</td><td>15.1601305</td><td>16.585676</td><td>15.654064</td><td>15.148039</td><td>16.558054</td><td>15.629669</td><td>15.141826</td><td>0.032001704</td><td>0.043849397</td><td>0.045203492</td><td>0.072918765</td><td>0.06263939</td><td>0.07675708</td><td>0.10399303</td><td>0.07780949</td><td>0.14017467</td><td>0.016467415</td><td>0.021250801</td><td>0.032092847</td><td>0.0149329165</td><td>0.019061867</td><td>0.028947951</td><td>0.01369758</td><td>0.01736746</td><td>0.026648495</td><td>0.012623343</td><td>0.015980754</td><td>0.024998168</td><td>0.011793644</td><td>0.014977396</td><td>0.023862366</td><td>0.011184664</td><td>0.014255281</td><td>0.023120966</td><td>0.010785815</td><td>0.013740733</td><td>0.022603082</td><td>0.010472503</td><td>0.013351409</td><td>0.022360764</td><td>0.010212836</td><td>0.013043255</td><td>0.022296576</td><td>16.471447</td><td>0.3236818</td><td>1.9206839</td><td>2.3249283</td><td>0.0973919</td><td>15.540598</td><td>0.3247282</td><td>1.7439244</td><td>2.1774826</td><td>0.023485765</td><td>15.124181</td><td>0.16547345</td><td>1.4694684</td><td>3.3948786</td><td>0.028653827</td><td>0</td></tr>\n",
       "<tr><td>20</td><td>SGA-2020 20</td><td>SDSSJ173412.71+572041.6</td><td>3331584</td><td>263.5529355</td><td>57.34490699999999</td><td>S?</td><td>152.58</td><td>0.4487454</td><td>0.5333349</td><td>0.08364453</td><td>24.92448</td><td>18.036</td><td>False</td><td>LEDA-20181114</td><td>5</td><td>SDSSJ173412.71+572041.6</td><td>1</td><td>True</td><td>263.5529355</td><td>57.34490699999999</td><td>0.4487454</td><td>2635p572</td><td>263.55294849855886</td><td>57.344862145664294</td><td>0.4460123</td><td>SB26</td><td>152.3756</td><td>0.5778338</td><td>263.5528114673963</td><td>57.34481025685253</td><td>10.459747</td><td>5.9780583</td><td>5.751067</td><td>4.821581</td><td>1.4858595</td><td>3.4448266</td><td>5.1149526</td><td>6.748707</td><td>8.426254</td><td>9.720271</td><td>11.022999</td><td>12.0887985</td><td>13.380368</td><td>20.656942</td><td>20.044735</td><td>19.40886</td><td>19.194794</td><td>18.66572</td><td>18.231262</td><td>18.599888</td><td>18.123905</td><td>17.745926</td><td>18.256256</td><td>17.807074</td><td>17.476473</td><td>18.040592</td><td>17.60353</td><td>17.319197</td><td>17.926336</td><td>17.500519</td><td>17.228865</td><td>17.85259</td><td>17.42695</td><td>17.180876</td><td>17.811844</td><td>17.39206</td><td>17.151228</td><td>17.783718</td><td>17.36542</td><td>17.143204</td><td>0.02069058</td><td>0.026094317</td><td>0.03480586</td><td>0.05076174</td><td>0.08751116</td><td>0.10309491</td><td>0.08337893</td><td>0.10982923</td><td>0.13734566</td><td>0.031223593</td><td>0.046367057</td><td>0.0777883</td><td>0.015935475</td><td>0.020728666</td><td>0.032657374</td><td>0.012760426</td><td>0.014699919</td><td>0.022893604</td><td>0.010505663</td><td>0.011998588</td><td>0.018923525</td><td>0.010358521</td><td>0.011374098</td><td>0.017719442</td><td>0.010557283</td><td>0.0112259</td><td>0.017149422</td><td>0.010553381</td><td>0.011049819</td><td>0.017135512</td><td>0.010413324</td><td>0.010993488</td><td>0.01699026</td><td>0.010291049</td><td>0.010862263</td><td>0.017057167</td><td>17.6411</td><td>0.6362121</td><td>0.53480667</td><td>2.8045392</td><td>1.7123051</td><td>17.22401</td><td>0.6144014</td><td>0.53440714</td><td>2.7180903</td><td>2.1161501</td><td>17.062769</td><td>0.44818503</td><td>0.43006793</td><td>3.1755726</td><td>0.97457016</td><td>0</td></tr>\n",
       "<tr><td>24</td><td>SGA-2020 24</td><td>PGC2162969</td><td>2162969</td><td>247.42443000000003</td><td>40.24824</td><td>S?</td><td>0.0</td><td>0.43451023</td><td>0.91201085</td><td>0.030465743</td><td>23.110481</td><td>16.292</td><td>False</td><td>LEDA-20181114</td><td>6</td><td>PGC200157_GROUP</td><td>2</td><td>False</td><td>247.41561265388845</td><td>40.24057507998105</td><td>1.0561523</td><td>2474p402</td><td>247.42445048371366</td><td>40.24820033835744</td><td>0.5431378</td><td>LEDA</td><td>101.95022</td><td>0.89250207</td><td>247.42434880302983</td><td>40.24826160366282</td><td>15.888059</td><td>-1.0</td><td>-1.0</td><td>-1.0</td><td>-1.0</td><td>-1.0</td><td>-1.0</td><td>-1.0</td><td>-1.0</td><td>-1.0</td><td>-1.0</td><td>-1.0</td><td>-1.0</td><td>-1.0</td><td>-1.0</td><td>-1.0</td><td>-1.0</td><td>-1.0</td><td>-1.0</td><td>-1.0</td><td>-1.0</td><td>-1.0</td><td>-1.0</td><td>-1.0</td><td>-1.0</td><td>-1.0</td><td>-1.0</td><td>-1.0</td><td>-1.0</td><td>-1.0</td><td>-1.0</td><td>-1.0</td><td>-1.0</td><td>-1.0</td><td>-1.0</td><td>-1.0</td><td>-1.0</td><td>-1.0</td><td>-1.0</td><td>-1.0</td><td>-1.0</td><td>-1.0</td><td>-1.0</td><td>-1.0</td><td>-1.0</td><td>-1.0</td><td>-1.0</td><td>-1.0</td><td>-1.0</td><td>-1.0</td><td>-1.0</td><td>-1.0</td><td>-1.0</td><td>-1.0</td><td>-1.0</td><td>-1.0</td><td>-1.0</td><td>-1.0</td><td>-1.0</td><td>-1.0</td><td>-1.0</td><td>-1.0</td><td>-1.0</td><td>-1.0</td><td>-1.0</td><td>-1.0</td><td>-1.0</td><td>-1.0</td><td>-1.0</td><td>-1.0</td><td>-1.0</td><td>-1.0</td><td>-1.0</td><td>-1.0</td><td>-1.0</td><td>-1.0</td><td>-1.0</td><td>-1.0</td><td>-1.0</td><td>-1.0</td><td>-1.0</td><td>-1.0</td><td>-1.0</td><td>-1.0</td><td>-1.0</td><td>-1.0</td><td>-1.0</td><td>-1.0</td><td>-1.0</td><td>-1.0</td><td>-1.0</td><td>0</td></tr>\n",
       "<tr><td>25</td><td>SGA-2020 25</td><td>PGC054121</td><td>54121</td><td>227.47036350000002</td><td>13.2562981</td><td>Sbc</td><td>70.64</td><td>0.8165824</td><td>0.86496794</td><td>0.022379482</td><td>23.42948</td><td>15.241</td><td>False</td><td>LEDA-20181114</td><td>7</td><td>PGC054121</td><td>1</td><td>True</td><td>227.47036350000002</td><td>13.2562981</td><td>0.8165824</td><td>2275p132</td><td>227.47031353123606</td><td>13.256402782093659</td><td>0.9032927</td><td>SB26</td><td>54.9372</td><td>0.9290268</td><td>227.4700429472929</td><td>13.256485984671057</td><td>23.756569</td><td>9.900074</td><td>9.4958725</td><td>9.147629</td><td>10.191483</td><td>12.735173</td><td>14.82731</td><td>16.736444</td><td>18.73402</td><td>20.828588</td><td>22.853401</td><td>24.907934</td><td>27.098782</td><td>15.6729</td><td>15.045083</td><td>14.593568</td><td>15.3769245</td><td>14.774321</td><td>14.341049</td><td>15.246051</td><td>14.654672</td><td>14.2298155</td><td>15.173311</td><td>14.588186</td><td>14.167052</td><td>15.122127</td><td>14.541565</td><td>14.123228</td><td>15.083035</td><td>14.505676</td><td>14.089516</td><td>15.057359</td><td>14.482468</td><td>14.068062</td><td>15.040025</td><td>14.467183</td><td>14.055928</td><td>15.028107</td><td>14.457384</td><td>14.047177</td><td>0.018359262</td><td>0.017375102</td><td>0.016255992</td><td>0.019816728</td><td>0.038647514</td><td>0.037284017</td><td>0.04342706</td><td>0.071717694</td><td>0.099439405</td><td>0.0058437292</td><td>0.0069466177</td><td>0.008048645</td><td>0.0045692935</td><td>0.005496873</td><td>0.006436989</td><td>0.004073469</td><td>0.0049413145</td><td>0.0058239037</td><td>0.003822102</td><td>0.0046530096</td><td>0.0054966044</td><td>0.0036556777</td><td>0.004464092</td><td>0.0052853883</td><td>0.0035357797</td><td>0.004325215</td><td>0.005129757</td><td>0.0034596229</td><td>0.00423875</td><td>0.005034937</td><td>0.0034086278</td><td>0.00418244</td><td>0.0049834424</td><td>0.0033738492</td><td>0.0041466616</td><td>0.0049476875</td><td>14.970135</td><td>2.6651645</td><td>0.3175275</td><td>2.7061899</td><td>0.84036297</td><td>14.407399</td><td>1.8774098</td><td>0.4264286</td><td>2.8085065</td><td>0.7415527</td><td>14.005723</td><td>1.1530024</td><td>0.7036117</td><td>3.0188198</td><td>0.7843209</td><td>0</td></tr>\n",
       "<tr><td>26</td><td>SGA-2020 26</td><td>PGC2468893</td><td>2468893</td><td>163.598436</td><td>54.4129738</td><td>--</td><td>64.51</td><td>0.35892195</td><td>0.53703177</td><td>0.17676328</td><td>24.926481</td><td>18.523</td><td>False</td><td>LEDA-20181114</td><td>8</td><td>PGC2468893</td><td>1</td><td>True</td><td>163.598436</td><td>54.4129738</td><td>0.35892195</td><td>1635p545</td><td>163.5984039051307</td><td>54.41298240323229</td><td>0.3833318</td><td>SB26</td><td>46.26398</td><td>0.8524061</td><td>163.5982638998639</td><td>54.41303380382761</td><td>8.821292</td><td>3.2359526</td><td>2.924398</td><td>2.021345</td><td>2.7333577</td><td>3.383293</td><td>4.131329</td><td>5.008367</td><td>6.0306945</td><td>7.188326</td><td>8.429446</td><td>9.863966</td><td>11.499954</td><td>18.91375</td><td>17.621288</td><td>16.865643</td><td>18.731339</td><td>17.469679</td><td>16.733221</td><td>18.59152</td><td>17.350786</td><td>16.62865</td><td>18.480558</td><td>17.254736</td><td>16.545355</td><td>18.388554</td><td>17.175478</td><td>16.476664</td><td>18.312742</td><td>17.111551</td><td>16.42716</td><td>18.256575</td><td>17.062248</td><td>16.38989</td><td>18.215641</td><td>17.022528</td><td>16.365273</td><td>18.179653</td><td>16.990267</td><td>16.35279</td><td>0.0023302117</td><td>0.005615393</td><td>0.008432587</td><td>0.009294833</td><td>0.0114881545</td><td>0.029902346</td><td>0.050029624</td><td>0.0698561</td><td>0.10298213</td><td>0.008917422</td><td>0.008953597</td><td>0.015666634</td><td>0.0076031582</td><td>0.007837551</td><td>0.013918447</td><td>0.006716909</td><td>0.0069769695</td><td>0.012487223</td><td>0.006135703</td><td>0.0064592385</td><td>0.011609407</td><td>0.0057196575</td><td>0.0060675964</td><td>0.010953607</td><td>0.005430515</td><td>0.005781204</td><td>0.010553227</td><td>0.005267251</td><td>0.0056759133</td><td>0.010439154</td><td>0.005154885</td><td>0.00546258</td><td>0.010156198</td><td>0.005106954</td><td>0.0054070675</td><td>0.010169683</td><td>18.01642</td><td>1.2385604</td><td>0.17051077</td><td>1.4091581</td><td>0.99601644</td><td>16.817999</td><td>1.4139539</td><td>0.1533624</td><td>1.2380737</td><td>0.13531691</td><td>16.309488</td><td>0.29089946</td><td>0.21375196</td><td>2.5342278</td><td>0.2944147</td><td>0</td></tr>\n",
       "<tr><td>29</td><td>SGA-2020 29</td><td>2MASXJ11122927+6014431</td><td>3382669</td><td>168.12193649999998</td><td>60.245229599999995</td><td>--</td><td>95.18</td><td>0.37153524</td><td>0.40550855</td><td>0.13134186</td><td>24.756481</td><td>18.278</td><td>False</td><td>LEDA-20181114</td><td>9</td><td>2MASXJ11122927+6014431</td><td>1</td><td>True</td><td>168.12193649999998</td><td>60.245229599999995</td><td>0.37153524</td><td>1682p602</td><td>168.12195030280432</td><td>60.24520943972748</td><td>0.5254904</td><td>SB26</td><td>93.27518</td><td>0.4504665</td><td>168.12174206037417</td><td>60.24526113391869</td><td>10.063886</td><td>4.9710255</td><td>4.2121243</td><td>2.955684</td><td>3.917081</td><td>5.031503</td><td>6.3397484</td><td>7.859549</td><td>9.5116625</td><td>11.106687</td><td>12.624502</td><td>14.035045</td><td>15.764712</td><td>18.788036</td><td>17.645203</td><td>16.76298</td><td>18.56597</td><td>17.444305</td><td>16.599722</td><td>18.396406</td><td>17.29114</td><td>16.477816</td><td>18.250896</td><td>17.16368</td><td>16.373098</td><td>18.136703</td><td>17.062458</td><td>16.293201</td><td>18.053637</td><td>16.990055</td><td>16.23756</td><td>17.998623</td><td>16.947845</td><td>16.209606</td><td>17.968748</td><td>16.91967</td><td>16.198694</td><td>17.937456</td><td>16.901102</td><td>16.190332</td><td>0.043608252</td><td>0.068593405</td><td>0.08251232</td><td>0.114085354</td><td>0.18821189</td><td>0.14581837</td><td>0.13098465</td><td>0.18873167</td><td>0.16190481</td><td>0.048937622</td><td>0.053202</td><td>0.070389636</td><td>0.043584738</td><td>0.047049206</td><td>0.0624863</td><td>0.039282635</td><td>0.042405277</td><td>0.056875147</td><td>0.035782997</td><td>0.038730845</td><td>0.05225435</td><td>0.033184648</td><td>0.03600609</td><td>0.049067486</td><td>0.03135153</td><td>0.034110624</td><td>0.046893198</td><td>0.030152028</td><td>0.033022434</td><td>0.045820117</td><td>0.029458879</td><td>0.032266933</td><td>0.045367915</td><td>0.028717741</td><td>0.03176078</td><td>0.045077246</td><td>17.832409</td><td>0.3196674</td><td>1.3563452</td><td>2.7893887</td><td>0.122701444</td><td>16.831856</td><td>0.25142962</td><td>1.251332</td><td>3.1430612</td><td>0.10823416</td><td>16.170433</td><td>0.12689392</td><td>1.2175424</td><td>4.702156</td><td>0.06635867</td><td>0</td></tr>\n",
       "<tr><td>...</td><td>...</td><td>...</td><td>...</td><td>...</td><td>...</td><td>...</td><td>...</td><td>...</td><td>...</td><td>...</td><td>...</td><td>...</td><td>...</td><td>...</td><td>...</td><td>...</td><td>...</td><td>...</td><td>...</td><td>...</td><td>...</td><td>...</td><td>...</td><td>...</td><td>...</td><td>...</td><td>...</td><td>...</td><td>...</td><td>...</td><td>...</td><td>...</td><td>...</td><td>...</td><td>...</td><td>...</td><td>...</td><td>...</td><td>...</td><td>...</td><td>...</td><td>...</td><td>...</td><td>...</td><td>...</td><td>...</td><td>...</td><td>...</td><td>...</td><td>...</td><td>...</td><td>...</td><td>...</td><td>...</td><td>...</td><td>...</td><td>...</td><td>...</td><td>...</td><td>...</td><td>...</td><td>...</td><td>...</td><td>...</td><td>...</td><td>...</td><td>...</td><td>...</td><td>...</td><td>...</td><td>...</td><td>...</td><td>...</td><td>...</td><td>...</td><td>...</td><td>...</td><td>...</td><td>...</td><td>...</td><td>...</td><td>...</td><td>...</td><td>...</td><td>...</td><td>...</td><td>...</td><td>...</td><td>...</td><td>...</td><td>...</td><td>...</td><td>...</td><td>...</td><td>...</td><td>...</td><td>...</td><td>...</td><td>...</td><td>...</td><td>...</td><td>...</td><td>...</td><td>...</td><td>...</td><td>...</td><td>...</td><td>...</td><td>...</td><td>...</td><td>...</td><td>...</td><td>...</td><td>...</td><td>...</td><td>...</td><td>...</td><td>...</td><td>...</td><td>...</td><td>...</td><td>...</td></tr>\n",
       "<tr><td>5005195</td><td>SGA-2020 5005195</td><td>DR8-1793p222-2771</td><td>-1</td><td>179.2945122945355</td><td>22.29616673952341</td><td>PSF</td><td>0.0</td><td>0.454</td><td>1.0</td><td>-1.0</td><td>23.489079</td><td>16.57532</td><td>True</td><td>DR8</td><td>531667</td><td>DR8-1793p222-2771</td><td>1</td><td>True</td><td>179.2945122945355</td><td>22.29616673952341</td><td>0.454</td><td>1793p222</td><td>179.29452573552422</td><td>22.296163107090134</td><td>0.5214359</td><td>SB26</td><td>127.51099</td><td>0.78787744</td><td>179.29444415024022</td><td>22.29623465794375</td><td>13.120567</td><td>2.7214403</td><td>2.8788998</td><td>2.9398167</td><td>4.8742156</td><td>5.801377</td><td>6.8204255</td><td>8.000418</td><td>9.449444</td><td>11.111418</td><td>12.836514</td><td>14.157148</td><td>15.643078</td><td>16.650414</td><td>15.89828</td><td>15.354585</td><td>16.580677</td><td>15.822675</td><td>15.278564</td><td>16.525764</td><td>15.764598</td><td>15.220373</td><td>16.482847</td><td>15.719043</td><td>15.173113</td><td>16.446579</td><td>15.680529</td><td>15.132261</td><td>16.41512</td><td>15.647504</td><td>15.098009</td><td>16.388647</td><td>15.620344</td><td>15.070625</td><td>16.374023</td><td>15.605029</td><td>15.054689</td><td>16.36363</td><td>15.594609</td><td>15.042309</td><td>0.0067810663</td><td>0.015470861</td><td>0.018868009</td><td>0.0351804</td><td>0.076819085</td><td>0.07189938</td><td>0.120865904</td><td>0.10774231</td><td>0.103403516</td><td>0.0147291105</td><td>0.01178085</td><td>0.013183858</td><td>0.013833475</td><td>0.011010024</td><td>0.012317104</td><td>0.013170283</td><td>0.010456909</td><td>0.01169949</td><td>0.012684415</td><td>0.010054476</td><td>0.01124069</td><td>0.012298655</td><td>0.009740337</td><td>0.010866755</td><td>0.011978752</td><td>0.009489733</td><td>0.010574576</td><td>0.011722459</td><td>0.009297767</td><td>0.010351114</td><td>0.011582096</td><td>0.009186632</td><td>0.010223667</td><td>0.011238392</td><td>0.009114673</td><td>0.010145772</td><td>16.250698</td><td>2708.8188</td><td>6.736398e-05</td><td>1.0888201</td><td>0.09743817</td><td>15.483401</td><td>4893.218</td><td>3.7431706e-05</td><td>1.1349467</td><td>0.15635559</td><td>14.918242</td><td>5183.1113</td><td>3.8652575e-05</td><td>1.0811251</td><td>0.046546273</td><td>0</td></tr>\n",
       "<tr><td>5005198</td><td>SGA-2020 5005198</td><td>DR8-0256p000-5752</td><td>-1</td><td>25.66029589306415</td><td>0.08743418519336531</td><td>PSF</td><td>0.0</td><td>0.309</td><td>1.0</td><td>-1.0</td><td>23.935808</td><td>17.857534</td><td>True</td><td>DR8</td><td>531668</td><td>DR8-0256p000-5752</td><td>1</td><td>True</td><td>25.66029589306415</td><td>0.08743418519336531</td><td>0.309</td><td>0256p000</td><td>25.660288526922393</td><td>0.08741395667094204</td><td>0.3246461</td><td>SB26</td><td>160.40857</td><td>0.85456085</td><td>25.660240751556803</td><td>0.08748824034356358</td><td>8.672835</td><td>1.9243348</td><td>2.555829</td><td>2.5514677</td><td>2.9639468</td><td>3.8987544</td><td>4.880886</td><td>5.855751</td><td>6.773247</td><td>7.6435313</td><td>8.407569</td><td>9.137488</td><td>9.739383</td><td>17.689413</td><td>17.376947</td><td>16.915255</td><td>17.534771</td><td>17.178392</td><td>16.713324</td><td>17.418633</td><td>17.03344</td><td>16.567991</td><td>17.337229</td><td>16.934195</td><td>16.47001</td><td>17.282885</td><td>16.866545</td><td>16.405144</td><td>17.247772</td><td>16.8236</td><td>16.364075</td><td>17.22954</td><td>16.799465</td><td>16.339987</td><td>17.21656</td><td>16.783209</td><td>16.325134</td><td>17.208654</td><td>16.772375</td><td>16.31503</td><td>0.011542733</td><td>0.016534021</td><td>0.019527653</td><td>0.024528828</td><td>0.03779441</td><td>0.048323542</td><td>0.04859576</td><td>0.05760323</td><td>0.07877746</td><td>0.023304751</td><td>0.025683159</td><td>0.032197252</td><td>0.020571876</td><td>0.022260716</td><td>0.027982213</td><td>0.018585382</td><td>0.019629896</td><td>0.024599757</td><td>0.017328093</td><td>0.018026909</td><td>0.022563023</td><td>0.016312363</td><td>0.016467035</td><td>0.020473186</td><td>0.015828367</td><td>0.015871944</td><td>0.019749861</td><td>0.015790295</td><td>0.016050369</td><td>0.020129</td><td>0.015616682</td><td>0.015829667</td><td>0.019871147</td><td>0.015310911</td><td>0.015198509</td><td>0.018939396</td><td>17.183558</td><td>0.12294183</td><td>0.19957551</td><td>4.690979</td><td>0.015809352</td><td>16.732452</td><td>0.18256688</td><td>0.21783169</td><td>4.126847</td><td>0.034576368</td><td>16.275085</td><td>0.19656372</td><td>0.20016503</td><td>3.9645846</td><td>0.018176466</td><td>0</td></tr>\n",
       "<tr><td>5005201</td><td>SGA-2020 5005201</td><td>DR8-2520p150-1872</td><td>-1</td><td>252.09096973935718</td><td>14.954508758448847</td><td>PSF</td><td>0.0</td><td>0.967</td><td>1.0</td><td>-1.0</td><td>24.163757</td><td>15.608146</td><td>True</td><td>DR8</td><td>531669</td><td>DR8-2520p150-1872</td><td>1</td><td>True</td><td>252.09096973935718</td><td>14.954508758448847</td><td>0.967</td><td>2520p150</td><td>252.0909699562764</td><td>14.954490607770563</td><td>1.0171216</td><td>SB26</td><td>112.36276</td><td>0.61695623</td><td>252.09092494608447</td><td>14.954535770121065</td><td>20.834295</td><td>12.39982</td><td>7.332598</td><td>6.8353333</td><td>7.0953846</td><td>8.452131</td><td>10.091814</td><td>12.392418</td><td>15.340454</td><td>19.13829</td><td>23.344776</td><td>27.21821</td><td>30.513645</td><td>15.844413</td><td>15.052782</td><td>14.536271</td><td>15.789438</td><td>14.995881</td><td>14.477499</td><td>15.742477</td><td>14.9468355</td><td>14.427818</td><td>15.6968775</td><td>14.900328</td><td>14.379317</td><td>15.654422</td><td>14.85738</td><td>14.334618</td><td>15.606853</td><td>14.809873</td><td>14.284192</td><td>15.563575</td><td>14.767267</td><td>14.240876</td><td>15.533223</td><td>14.739131</td><td>14.213739</td><td>15.516148</td><td>14.722022</td><td>14.1978445</td><td>0.03697918</td><td>0.06280282</td><td>0.04608013</td><td>0.07195521</td><td>0.1295921</td><td>0.13037108</td><td>0.18624833</td><td>0.15069625</td><td>0.17974436</td><td>0.03642822</td><td>0.03608817</td><td>0.040244225</td><td>0.03466639</td><td>0.034279592</td><td>0.03820263</td><td>0.033226386</td><td>0.032795798</td><td>0.03652344</td><td>0.031890143</td><td>0.031462073</td><td>0.034934707</td><td>0.030661047</td><td>0.030226108</td><td>0.033543944</td><td>0.02937417</td><td>0.028967626</td><td>0.032026157</td><td>0.028236996</td><td>0.02786266</td><td>0.030784043</td><td>0.027463831</td><td>0.027154623</td><td>0.030030306</td><td>0.027024347</td><td>0.026709788</td><td>0.029604135</td><td>14.945451</td><td>2005.111</td><td>0.00040117942</td><td>0.30879036</td><td>0.091645196</td><td>14.286089</td><td>2944.6145</td><td>0.00022691571</td><td>0.38378695</td><td>0.08670762</td><td>13.791493</td><td>1679.2966</td><td>0.00038279407</td><td>0.4148775</td><td>0.067777455</td><td>0</td></tr>\n",
       "<tr><td>5005221</td><td>SGA-2020 5005221</td><td>DR8-0412p207-1198</td><td>-1</td><td>41.18047671803841</td><td>20.694042548652554</td><td>PSF</td><td>0.0</td><td>0.471</td><td>1.0</td><td>-1.0</td><td>24.246716</td><td>17.25313</td><td>True</td><td>DR8</td><td>531670</td><td>DR8-0412p207-1198</td><td>1</td><td>True</td><td>41.18047671803841</td><td>20.694042548652554</td><td>0.471</td><td>0412p207</td><td>41.18048574648146</td><td>20.69404158299538</td><td>0.47098938</td><td>SB26</td><td>24.310091</td><td>0.7885375</td><td>41.180405404117785</td><td>20.694120216548455</td><td>10.360117</td><td>2.8015852</td><td>2.7884948</td><td>2.6935434</td><td>3.6186233</td><td>4.4927197</td><td>5.522982</td><td>6.6685233</td><td>7.905727</td><td>9.264321</td><td>10.691406</td><td>12.297847</td><td>14.129682</td><td>17.711948</td><td>16.890347</td><td>16.294775</td><td>17.585072</td><td>16.764051</td><td>16.17261</td><td>17.480307</td><td>16.658499</td><td>16.068928</td><td>17.394457</td><td>16.572569</td><td>15.983902</td><td>17.33007</td><td>16.506886</td><td>15.919504</td><td>17.280218</td><td>16.457634</td><td>15.867954</td><td>17.245039</td><td>16.42228</td><td>15.832606</td><td>17.216467</td><td>16.392227</td><td>15.803128</td><td>17.192717</td><td>16.370075</td><td>15.781465</td><td>0.006780971</td><td>0.010371835</td><td>0.011661904</td><td>0.014844196</td><td>0.021120988</td><td>0.038650826</td><td>0.05184053</td><td>0.07415352</td><td>0.14769338</td><td>0.008487011</td><td>0.008379533</td><td>0.010376132</td><td>0.0076383264</td><td>0.00754701</td><td>0.009338417</td><td>0.0069949273</td><td>0.0069124824</td><td>0.008536573</td><td>0.0065273605</td><td>0.0064387866</td><td>0.007945147</td><td>0.00619924</td><td>0.006105768</td><td>0.0075339405</td><td>0.005975615</td><td>0.005874753</td><td>0.007227205</td><td>0.005815386</td><td>0.005709461</td><td>0.007027677</td><td>0.0057047377</td><td>0.0055858823</td><td>0.006874229</td><td>0.005629476</td><td>0.005510496</td><td>0.006785888</td><td>17.120892</td><td>0.3279772</td><td>0.5309596</td><td>2.2173948</td><td>0.09612841</td><td>16.301027</td><td>0.3084072</td><td>0.55606824</td><td>2.2989004</td><td>0.085739866</td><td>15.718236</td><td>0.26173127</td><td>0.64325035</td><td>2.4841642</td><td>0.042753268</td><td>0</td></tr>\n",
       "<tr><td>5005223</td><td>SGA-2020 5005223</td><td>DR8-2276m017-4087</td><td>-1</td><td>227.64094321975787</td><td>-1.6981529262567927</td><td>PSF</td><td>0.0</td><td>0.607</td><td>1.0</td><td>-1.0</td><td>24.982948</td><td>17.438524</td><td>True</td><td>DR8</td><td>531671</td><td>DR8-2276m017-4087</td><td>1</td><td>True</td><td>227.64094321975787</td><td>-1.6981529262567927</td><td>0.607</td><td>2276m017</td><td>227.64087801284978</td><td>-1.69817359815747</td><td>0.6267315</td><td>SB26</td><td>88.710266</td><td>0.41053277</td><td>227.64060153036226</td><td>-1.698142220551913</td><td>13.871249</td><td>4.8801594</td><td>4.561895</td><td>4.4663424</td><td>4.637326</td><td>5.8509827</td><td>7.062148</td><td>8.3112545</td><td>9.802893</td><td>11.619408</td><td>13.734685</td><td>16.200775</td><td>18.801945</td><td>18.138233</td><td>17.271214</td><td>16.475805</td><td>17.985514</td><td>17.081915</td><td>16.29826</td><td>17.878677</td><td>16.971369</td><td>16.185461</td><td>17.806702</td><td>16.894045</td><td>16.103714</td><td>17.742344</td><td>16.827522</td><td>16.0391</td><td>17.681814</td><td>16.768332</td><td>15.988243</td><td>17.63443</td><td>16.726484</td><td>15.948485</td><td>17.59487</td><td>16.694088</td><td>15.911636</td><td>17.561165</td><td>16.661354</td><td>15.881864</td><td>0.074944876</td><td>0.078999035</td><td>0.0779275</td><td>0.1000401</td><td>0.11301166</td><td>0.1259314</td><td>0.1631884</td><td>0.17922209</td><td>0.17365636</td><td>0.13491407</td><td>0.10655037</td><td>0.07736688</td><td>0.119502485</td><td>0.092207536</td><td>0.067632765</td><td>0.10865148</td><td>0.08376383</td><td>0.061735567</td><td>0.10058281</td><td>0.07734296</td><td>0.057560686</td><td>0.09488179</td><td>0.07289161</td><td>0.054465514</td><td>0.09090397</td><td>0.069909394</td><td>0.052149493</td><td>0.087058425</td><td>0.0673016</td><td>0.050325148</td><td>0.08294334</td><td>0.064598925</td><td>0.048608597</td><td>0.0804247</td><td>0.06269838</td><td>0.04731585</td><td>17.348944</td><td>2215.7397</td><td>0.00017354474</td><td>0.9362168</td><td>0.0016087268</td><td>16.531103</td><td>11765.006</td><td>2.4469497e-05</td><td>1.2244116</td><td>0.0093818195</td><td>15.758231</td><td>4405.8867</td><td>6.278418e-05</td><td>1.2418394</td><td>0.015200222</td><td>0</td></tr>\n",
       "<tr><td>5005230</td><td>SGA-2020 5005230</td><td>DR8-0774m270-618</td><td>-1</td><td>77.3975106136412</td><td>-27.106348434308803</td><td>PSF</td><td>0.0</td><td>0.332</td><td>1.0</td><td>-1.0</td><td>23.547586</td><td>17.313416</td><td>True</td><td>DR8</td><td>531672</td><td>DR8-0774m270-618</td><td>1</td><td>True</td><td>77.3975106136412</td><td>-27.106348434308803</td><td>0.332</td><td>0774m270</td><td>77.3975059709664</td><td>-27.106359637272558</td><td>0.35891744</td><td>SB26</td><td>111.56699</td><td>0.75475377</td><td>77.39739623804046</td><td>-27.106283004349642</td><td>8.411317</td><td>1.5404403</td><td>2.1904042</td><td>2.2546275</td><td>3.380961</td><td>4.237079</td><td>5.1402497</td><td>6.015476</td><td>6.929567</td><td>7.8893332</td><td>8.840655</td><td>9.867512</td><td>10.767524</td><td>17.413584</td><td>16.993366</td><td>16.49279</td><td>17.313818</td><td>16.864426</td><td>16.35793</td><td>17.234362</td><td>16.76295</td><td>16.253544</td><td>17.179771</td><td>16.696907</td><td>16.187393</td><td>17.142206</td><td>16.651445</td><td>16.141762</td><td>17.115921</td><td>16.620028</td><td>16.109167</td><td>17.097752</td><td>16.595303</td><td>16.084223</td><td>17.083128</td><td>16.578005</td><td>16.067503</td><td>17.075493</td><td>16.567142</td><td>16.058277</td><td>0.02643086</td><td>0.031345174</td><td>0.035310734</td><td>0.04256188</td><td>0.04243312</td><td>0.08359334</td><td>0.06686159</td><td>0.08592497</td><td>0.0841673</td><td>0.04186574</td><td>0.040063415</td><td>0.044546094</td><td>0.03840889</td><td>0.035972457</td><td>0.03978237</td><td>0.035699315</td><td>0.03274588</td><td>0.03573635</td><td>0.034136016</td><td>0.031140357</td><td>0.03432494</td><td>0.03301214</td><td>0.029928898</td><td>0.03298083</td><td>0.032247484</td><td>0.029115444</td><td>0.032043472</td><td>0.03161836</td><td>0.02829384</td><td>0.030819874</td><td>0.031205405</td><td>0.027862772</td><td>0.030369842</td><td>0.030991472</td><td>0.027592061</td><td>0.030123282</td><td>17.052347</td><td>0.1408417</td><td>0.23734568</td><td>3.6229866</td><td>0.006182706</td><td>16.530476</td><td>0.23168655</td><td>0.21942548</td><td>3.1118705</td><td>0.01690107</td><td>16.022186</td><td>0.24194787</td><td>0.20102008</td><td>3.1345527</td><td>0.011277596</td><td>0</td></tr>\n",
       "<tr><td>5005238</td><td>SGA-2020 5005238</td><td>DR8-3541p242-2263</td><td>-1</td><td>354.0254056671457</td><td>24.266276344902867</td><td>PSF</td><td>0.0</td><td>0.553</td><td>1.0</td><td>-1.0</td><td>23.834211</td><td>16.492105</td><td>True</td><td>DR8</td><td>531673</td><td>DR8-3541p242-2263</td><td>1</td><td>True</td><td>354.0254056671457</td><td>24.266276344902867</td><td>0.553</td><td>3541p242</td><td>354.02541432263376</td><td>24.266268718736388</td><td>0.49792165</td><td>SB26</td><td>176.78943</td><td>0.80814004</td><td>354.0253076392978</td><td>24.2663371152309</td><td>12.073684</td><td>2.3774166</td><td>2.3172183</td><td>2.1728494</td><td>4.87311</td><td>5.8856797</td><td>6.899788</td><td>7.8992434</td><td>8.894083</td><td>10.047215</td><td>11.390644</td><td>13.084164</td><td>14.93765</td><td>16.594566</td><td>15.884674</td><td>15.318247</td><td>16.507622</td><td>15.800316</td><td>15.236118</td><td>16.44361</td><td>15.739594</td><td>15.178294</td><td>16.399588</td><td>15.697594</td><td>15.139128</td><td>16.370625</td><td>15.668677</td><td>15.11076</td><td>16.348858</td><td>15.647803</td><td>15.090749</td><td>16.331417</td><td>15.63063</td><td>15.073454</td><td>16.316664</td><td>15.615721</td><td>15.059018</td><td>16.303864</td><td>15.603283</td><td>15.049853</td><td>0.010577562</td><td>0.022966072</td><td>0.021998236</td><td>0.019190194</td><td>0.02975555</td><td>0.050584648</td><td>0.051846568</td><td>0.08969881</td><td>0.16201551</td><td>0.010917041</td><td>0.016026055</td><td>0.010949657</td><td>0.010120528</td><td>0.014857519</td><td>0.010206339</td><td>0.009596533</td><td>0.014086385</td><td>0.009730353</td><td>0.00926139</td><td>0.013581817</td><td>0.009423394</td><td>0.0089795785</td><td>0.013141614</td><td>0.009135103</td><td>0.008878088</td><td>0.012995436</td><td>0.0090526445</td><td>0.008682937</td><td>0.012702772</td><td>0.008857431</td><td>0.008571938</td><td>0.012533876</td><td>0.008756143</td><td>0.008475702</td><td>0.012394868</td><td>0.008699074</td><td>16.284523</td><td>0.23109037</td><td>0.321907</td><td>3.0286288</td><td>0.1996051</td><td>15.582087</td><td>0.24166907</td><td>0.31360328</td><td>2.8916779</td><td>0.06815668</td><td>15.030018</td><td>0.21598968</td><td>0.32428586</td><td>2.999769</td><td>0.03202154</td><td>0</td></tr>\n",
       "<tr><td>5005241</td><td>SGA-2020 5005241</td><td>DR8-3598p237-618</td><td>-1</td><td>359.77852409632925</td><td>23.672069316241558</td><td>PSF</td><td>0.0</td><td>0.647</td><td>1.0</td><td>-1.0</td><td>25.045397</td><td>17.362394</td><td>True</td><td>DR8</td><td>531674</td><td>DR8-3598p237-618</td><td>1</td><td>True</td><td>359.77852409632925</td><td>23.672069316241558</td><td>0.647</td><td>3598p237</td><td>359.778505813862</td><td>23.672055843828268</td><td>0.52567357</td><td>SB26</td><td>43.59699</td><td>0.3849364</td><td>359.77844356539794</td><td>23.67212226911349</td><td>14.239333</td><td>2.7190483</td><td>2.5388463</td><td>3.4868765</td><td>5.064195</td><td>6.143888</td><td>7.345775</td><td>8.588504</td><td>9.922591</td><td>11.140817</td><td>12.440238</td><td>13.989121</td><td>15.770206</td><td>17.490839</td><td>16.795784</td><td>16.202568</td><td>17.390589</td><td>16.696184</td><td>16.077631</td><td>17.31184</td><td>16.618877</td><td>15.981386</td><td>17.254414</td><td>16.560314</td><td>15.908254</td><td>17.211702</td><td>16.51628</td><td>15.852895</td><td>17.18435</td><td>16.488472</td><td>15.819614</td><td>17.163921</td><td>16.466606</td><td>15.792798</td><td>17.146704</td><td>16.45154</td><td>15.770247</td><td>17.136053</td><td>16.44288</td><td>15.755591</td><td>0.03923253</td><td>0.060786158</td><td>0.075307116</td><td>0.07167815</td><td>0.10213532</td><td>0.118702866</td><td>0.109218694</td><td>0.17001276</td><td>0.30682173</td><td>0.06043335</td><td>0.06313121</td><td>0.049299486</td><td>0.055580575</td><td>0.05806445</td><td>0.044674117</td><td>0.05192368</td><td>0.05431531</td><td>0.04128313</td><td>0.04938822</td><td>0.051617604</td><td>0.038845673</td><td>0.04756912</td><td>0.049662363</td><td>0.037100296</td><td>0.04641092</td><td>0.04843731</td><td>0.03603239</td><td>0.045583606</td><td>0.047508307</td><td>0.035224166</td><td>0.04488352</td><td>0.0468671</td><td>0.03452928</td><td>0.04443932</td><td>0.046488073</td><td>0.034055505</td><td>17.105066</td><td>0.20155075</td><td>0.6774843</td><td>3.1475794</td><td>0.0012115352</td><td>16.41944</td><td>0.15052226</td><td>0.86735916</td><td>3.7459996</td><td>0.0050168973</td><td>15.713827</td><td>0.25167242</td><td>0.72501904</td><td>3.094475</td><td>0.004562201</td><td>0</td></tr>\n",
       "<tr><td>5005244</td><td>SGA-2020 5005244</td><td>DR8-1933p245-3598</td><td>-1</td><td>193.43358024178627</td><td>24.573038628154837</td><td>PSF</td><td>0.0</td><td>0.508</td><td>1.0</td><td>-1.0</td><td>24.127928</td><td>16.970129</td><td>True</td><td>DR8</td><td>531675</td><td>DR8-1933p245-3598</td><td>1</td><td>True</td><td>193.43358024178627</td><td>24.573038628154837</td><td>0.508</td><td>1933p245</td><td>193.43361884886178</td><td>24.573017822491643</td><td>0.53991914</td><td>SB26</td><td>160.01337</td><td>0.84648865</td><td>193.4335470099531</td><td>24.573120358078633</td><td>12.787097</td><td>2.6927412</td><td>3.120592</td><td>3.2718627</td><td>3.4533505</td><td>4.2570386</td><td>5.133758</td><td>6.1663985</td><td>7.42829</td><td>9.149172</td><td>11.350036</td><td>13.795546</td><td>16.197575</td><td>16.94666</td><td>16.586605</td><td>16.36889</td><td>16.861969</td><td>16.492382</td><td>16.262115</td><td>16.791409</td><td>16.415943</td><td>16.173903</td><td>16.734713</td><td>16.35735</td><td>16.109213</td><td>16.688421</td><td>16.309566</td><td>16.055555</td><td>16.640509</td><td>16.258156</td><td>15.998193</td><td>16.594383</td><td>16.207026</td><td>15.942949</td><td>16.557802</td><td>16.166492</td><td>15.901134</td><td>16.529823</td><td>16.13316</td><td>15.869967</td><td>0.021029804</td><td>0.032481723</td><td>0.030171089</td><td>0.03087946</td><td>0.04853705</td><td>0.057573788</td><td>0.083974585</td><td>0.14294735</td><td>0.13371769</td><td>0.04259182</td><td>0.044959683</td><td>0.036545504</td><td>0.0398303</td><td>0.042167664</td><td>0.033850912</td><td>0.037131604</td><td>0.03866477</td><td>0.030868268</td><td>0.035289127</td><td>0.036671363</td><td>0.02913518</td><td>0.034093525</td><td>0.035771117</td><td>0.028184779</td><td>0.03262886</td><td>0.034125715</td><td>0.026756087</td><td>0.031034768</td><td>0.031958297</td><td>0.025058959</td><td>0.03024934</td><td>0.03138346</td><td>0.024512257</td><td>0.029254926</td><td>0.02987554</td><td>0.02347292</td><td>16.309258</td><td>6206.177</td><td>4.9772905e-05</td><td>0.6787563</td><td>0.039588377</td><td>15.876677</td><td>8809.709</td><td>4.0338142e-05</td><td>0.6443549</td><td>0.11273734</td><td>15.642013</td><td>9365.627</td><td>3.5140136e-05</td><td>0.7403613</td><td>0.1392315</td><td>0</td></tr>\n",
       "<tr><td>5005247</td><td>SGA-2020 5005247</td><td>DR8-2208p192-2734</td><td>-1</td><td>220.7266310748538</td><td>19.28717944405682</td><td>PSF</td><td>0.0</td><td>0.413</td><td>1.0</td><td>-1.0</td><td>23.6957</td><td>16.987469</td><td>True</td><td>DR8</td><td>531676</td><td>DR8-2208p192-2734</td><td>1</td><td>True</td><td>220.7266310748538</td><td>19.28717944405682</td><td>0.413</td><td>2208p192</td><td>220.72663283312835</td><td>19.28717319595711</td><td>0.4214595</td><td>SB26</td><td>46.15227</td><td>0.951637</td><td>220.7265690159664</td><td>19.287246237710338</td><td>11.1560335</td><td>1.7477361</td><td>1.7075597</td><td>2.1156445</td><td>3.262774</td><td>4.0869102</td><td>5.1091228</td><td>6.3436913</td><td>7.7602787</td><td>9.086886</td><td>10.342417</td><td>11.58312</td><td>12.6437845</td><td>17.41811</td><td>16.605528</td><td>16.10175</td><td>17.31933</td><td>16.505455</td><td>15.987479</td><td>17.236889</td><td>16.421755</td><td>15.89216</td><td>17.15656</td><td>16.337141</td><td>15.799027</td><td>17.08641</td><td>16.26287</td><td>15.717607</td><td>17.041885</td><td>16.217678</td><td>15.668846</td><td>17.009306</td><td>16.184057</td><td>15.632661</td><td>16.986383</td><td>16.16401</td><td>15.609863</td><td>16.973982</td><td>16.151237</td><td>15.5966015</td><td>0.010865588</td><td>0.016143147</td><td>0.015274725</td><td>0.018334098</td><td>0.026965143</td><td>0.036046986</td><td>0.0410594</td><td>0.08184487</td><td>0.10371635</td><td>0.012916043</td><td>0.01948388</td><td>0.010131742</td><td>0.011561066</td><td>0.017431566</td><td>0.009162709</td><td>0.010774649</td><td>0.016174529</td><td>0.008470013</td><td>0.010339528</td><td>0.015345446</td><td>0.007933513</td><td>0.009432234</td><td>0.014002881</td><td>0.007277823</td><td>0.009343426</td><td>0.013771767</td><td>0.0070921364</td><td>0.008820328</td><td>0.013042888</td><td>0.0067780362</td><td>0.008909435</td><td>0.013126014</td><td>0.006761116</td><td>0.008822591</td><td>0.012979464</td><td>0.0066987765</td><td>16.92055</td><td>0.11899936</td><td>1.2582198</td><td>3.492993</td><td>0.27475503</td><td>16.11808</td><td>0.092085116</td><td>1.2426668</td><td>4.5006905</td><td>0.1382566</td><td>15.551954</td><td>0.12238101</td><td>1.0828819</td><td>3.9065025</td><td>0.63464415</td><td>0</td></tr>\n",
       "</table></div>"
      ],
      "text/plain": [
       "<Table length=383620>\n",
       " SGA_ID    SGA_GALAXY    ... Z_COG_PARAMS_CHI2 ELLIPSEBIT\n",
       " int64      bytes16      ...      float32        int32   \n",
       "------- ---------------- ... ----------------- ----------\n",
       "      2       SGA-2020 2 ...       0.011723555          0\n",
       "      3       SGA-2020 3 ...        0.20391206          0\n",
       "      4       SGA-2020 4 ...         1.8054093          0\n",
       "      7       SGA-2020 7 ...       0.004725194          0\n",
       "     18      SGA-2020 18 ...       0.028653827          0\n",
       "     20      SGA-2020 20 ...        0.97457016          0\n",
       "     24      SGA-2020 24 ...              -1.0          0\n",
       "     25      SGA-2020 25 ...         0.7843209          0\n",
       "     26      SGA-2020 26 ...         0.2944147          0\n",
       "     29      SGA-2020 29 ...        0.06635867          0\n",
       "    ...              ... ...               ...        ...\n",
       "5005195 SGA-2020 5005195 ...       0.046546273          0\n",
       "5005198 SGA-2020 5005198 ...       0.018176466          0\n",
       "5005201 SGA-2020 5005201 ...       0.067777455          0\n",
       "5005221 SGA-2020 5005221 ...       0.042753268          0\n",
       "5005223 SGA-2020 5005223 ...       0.015200222          0\n",
       "5005230 SGA-2020 5005230 ...       0.011277596          0\n",
       "5005238 SGA-2020 5005238 ...        0.03202154          0\n",
       "5005241 SGA-2020 5005241 ...       0.004562201          0\n",
       "5005244 SGA-2020 5005244 ...         0.1392315          0\n",
       "5005247 SGA-2020 5005247 ...        0.63464415          0"
      ]
     },
     "execution_count": 4,
     "metadata": {},
     "output_type": "execute_result"
    }
   ],
   "source": [
    "\n"
   ]
  },
  {
   "cell_type": "code",
   "execution_count": 5,
   "id": "ac7d6f10-e991-4929-9f75-2cd3ce1e7ca6",
   "metadata": {},
   "outputs": [
    {
     "data": {
      "text/html": [
       "<div><i>Table length=4096</i>\n",
       "<table id=\"table140704202131104\" class=\"table-striped table-bordered table-condensed\">\n",
       "<thead><tr><th>SGA_ID</th><th>GALAXY</th><th>RA</th><th>DEC</th><th>D26</th><th>G_MAG_SB26</th><th>R_MAG_SB26</th><th>Z_MAG_SB26</th></tr></thead>\n",
       "<thead><tr><th>int64</th><th>bytes29</th><th>float64</th><th>float64</th><th>float32</th><th>float32</th><th>float32</th><th>float32</th></tr></thead>\n",
       "<tr><td>1124542</td><td>PGC2284265</td><td>285.76484806273606</td><td>46.61915211315246</td><td>0.543673</td><td>16.840738</td><td>16.150396</td><td>15.776626</td></tr>\n",
       "<tr><td>333794</td><td>PGC1005872</td><td>71.05058720372335</td><td>-8.271502492025583</td><td>0.7995004</td><td>16.424429</td><td>15.474097</td><td>14.7874975</td></tr>\n",
       "<tr><td>977036</td><td>PGC705877</td><td>8.052927476994988</td><td>-31.377953085071276</td><td>0.5899052</td><td>18.459743</td><td>17.272573</td><td>16.518524</td></tr>\n",
       "<tr><td>314144</td><td>PGC947262</td><td>315.0368779082185</td><td>-12.810440883819604</td><td>0.7997221</td><td>16.653307</td><td>15.702285</td><td>15.054771</td></tr>\n",
       "<tr><td>69798</td><td>PGC866594</td><td>76.40908976066305</td><td>-18.563872537341794</td><td>0.62792826</td><td>-1.0</td><td>-1.0</td><td>-1.0</td></tr>\n",
       "<tr><td>1385078</td><td>PGC2072267</td><td>213.5129676741262</td><td>35.93476138975581</td><td>0.9732259</td><td>16.199339</td><td>15.656358</td><td>15.374508</td></tr>\n",
       "<tr><td>411069</td><td>PGC1052082</td><td>31.740346720769168</td><td>-4.892680204561648</td><td>0.66989154</td><td>16.458628</td><td>15.824331</td><td>15.369906</td></tr>\n",
       "<tr><td>1204357</td><td>PGC2696150</td><td>189.11624478705633</td><td>67.18030742634083</td><td>0.41621464</td><td>17.249083</td><td>16.64695</td><td>16.275515</td></tr>\n",
       "<tr><td>765200</td><td>PGC1255268</td><td>347.6945096847362</td><td>3.5983692137140944</td><td>0.45315737</td><td>16.633718</td><td>16.03178</td><td>15.589279</td></tr>\n",
       "<tr><td>1097292</td><td>2MASXJ16140130+4910588</td><td>243.50558500950078</td><td>49.18302823566473</td><td>0.8174291</td><td>16.345444</td><td>15.449534</td><td>15.258272</td></tr>\n",
       "<tr><td>...</td><td>...</td><td>...</td><td>...</td><td>...</td><td>...</td><td>...</td><td>...</td></tr>\n",
       "<tr><td>369668</td><td>2MASXJ16302666+2436404</td><td>247.61107194739816</td><td>24.611170224944537</td><td>0.4972281</td><td>16.965776</td><td>16.051088</td><td>15.358518</td></tr>\n",
       "<tr><td>101319</td><td>PGC2485693</td><td>260.9691268784442</td><td>54.95446472681722</td><td>0.72854775</td><td>17.345535</td><td>16.419651</td><td>16.707827</td></tr>\n",
       "<tr><td>1376415</td><td>PGC1635406</td><td>11.961300375945434</td><td>20.765500961378734</td><td>0.47105318</td><td>17.547573</td><td>16.563719</td><td>15.841228</td></tr>\n",
       "<tr><td>1341201</td><td>PGC373124</td><td>47.6372758164806</td><td>-59.2141235304366</td><td>0.658867</td><td>16.740196</td><td>15.891607</td><td>15.327451</td></tr>\n",
       "<tr><td>1369452</td><td>2MASXJ15110357+1032269</td><td>227.76486281171094</td><td>10.540889850720534</td><td>0.59751534</td><td>16.82775</td><td>16.060745</td><td>15.5262</td></tr>\n",
       "<tr><td>154102</td><td>SDSSJ081232.52+562001.3</td><td>123.13311652913919</td><td>56.33166997837368</td><td>0.5476426</td><td>16.965456</td><td>16.248857</td><td>15.807022</td></tr>\n",
       "<tr><td>1375632</td><td>2MASXJ12435489+2753389</td><td>190.97894547576072</td><td>27.894184380302</td><td>0.36109436</td><td>17.68379</td><td>16.88698</td><td>16.291431</td></tr>\n",
       "<tr><td>984549</td><td>PGC2219446</td><td>106.84321600455007</td><td>43.38193748802152</td><td>0.5779514</td><td>16.728895</td><td>16.10618</td><td>15.698817</td></tr>\n",
       "<tr><td>176895</td><td>PGC594702</td><td>33.153458197377525</td><td>-39.736801284708896</td><td>0.37088743</td><td>18.421787</td><td>17.359467</td><td>16.66758</td></tr>\n",
       "<tr><td>5001738</td><td>DR8-2075p167-3828</td><td>207.46168107344076</td><td>16.840604783024112</td><td>0.32940677</td><td>17.857342</td><td>17.106268</td><td>16.550072</td></tr>\n",
       "</table></div>"
      ],
      "text/plain": [
       "<Table length=4096>\n",
       " SGA_ID          GALAXY                 RA         ... R_MAG_SB26 Z_MAG_SB26\n",
       " int64          bytes29              float64       ...  float32    float32  \n",
       "------- ----------------------- ------------------ ... ---------- ----------\n",
       "1124542              PGC2284265 285.76484806273606 ...  16.150396  15.776626\n",
       " 333794              PGC1005872  71.05058720372335 ...  15.474097 14.7874975\n",
       " 977036               PGC705877  8.052927476994988 ...  17.272573  16.518524\n",
       " 314144               PGC947262  315.0368779082185 ...  15.702285  15.054771\n",
       "  69798               PGC866594  76.40908976066305 ...       -1.0       -1.0\n",
       "1385078              PGC2072267  213.5129676741262 ...  15.656358  15.374508\n",
       " 411069              PGC1052082 31.740346720769168 ...  15.824331  15.369906\n",
       "1204357              PGC2696150 189.11624478705633 ...   16.64695  16.275515\n",
       " 765200              PGC1255268  347.6945096847362 ...   16.03178  15.589279\n",
       "1097292  2MASXJ16140130+4910588 243.50558500950078 ...  15.449534  15.258272\n",
       "    ...                     ...                ... ...        ...        ...\n",
       " 369668  2MASXJ16302666+2436404 247.61107194739816 ...  16.051088  15.358518\n",
       " 101319              PGC2485693  260.9691268784442 ...  16.419651  16.707827\n",
       "1376415              PGC1635406 11.961300375945434 ...  16.563719  15.841228\n",
       "1341201               PGC373124   47.6372758164806 ...  15.891607  15.327451\n",
       "1369452  2MASXJ15110357+1032269 227.76486281171094 ...  16.060745    15.5262\n",
       " 154102 SDSSJ081232.52+562001.3 123.13311652913919 ...  16.248857  15.807022\n",
       "1375632  2MASXJ12435489+2753389 190.97894547576072 ...   16.88698  16.291431\n",
       " 984549              PGC2219446 106.84321600455007 ...   16.10618  15.698817\n",
       " 176895               PGC594702 33.153458197377525 ...  17.359467   16.66758\n",
       "5001738       DR8-2075p167-3828 207.46168107344076 ...  17.106268  16.550072"
      ]
     },
     "execution_count": 5,
     "metadata": {},
     "output_type": "execute_result"
    }
   ],
   "source": [
    "sga2020"
   ]
  },
  {
   "cell_type": "code",
   "execution_count": 40,
   "id": "11468014-f87c-4e58-8a0a-8042c561c0f2",
   "metadata": {},
   "outputs": [
    {
     "data": {
      "text/html": [
       "<div><i>Table length=128</i>\n",
       "<table id=\"table140374317969232\" class=\"table-striped table-bordered table-condensed\">\n",
       "<thead><tr><th>RA</th><th>DEC</th><th>DESI_TARGET</th><th>HPXPIXEL</th><th>MAG_G</th><th>MAG_R</th><th>MAG_Z</th><th>FLUX_G</th><th>FLUX_R</th><th>FLUX_Z</th></tr></thead>\n",
       "<thead><tr><th>float64</th><th>float64</th><th>int64</th><th>int64</th><th>int64</th><th>int64</th><th>int64</th><th>int64</th><th>int64</th><th>int64</th></tr></thead>\n",
       "<tr><td>46.29542347920933</td><td>5.817355354123844</td><td>68719476736</td><td>27</td><td>20</td><td>20</td><td>20</td><td>10</td><td>10</td><td>10</td></tr>\n",
       "<tr><td>29.15345938642771</td><td>16.643333698912397</td><td>4294967296</td><td>646</td><td>20</td><td>20</td><td>20</td><td>10</td><td>10</td><td>10</td></tr>\n",
       "<tr><td>123.53750231248975</td><td>35.38264479360898</td><td>4294967296</td><td>6415</td><td>20</td><td>20</td><td>20</td><td>10</td><td>10</td><td>10</td></tr>\n",
       "<tr><td>129.70572107142664</td><td>44.900797970542214</td><td>4294967296</td><td>6518</td><td>20</td><td>20</td><td>20</td><td>10</td><td>10</td><td>10</td></tr>\n",
       "<tr><td>120.85665365921263</td><td>41.64858028926321</td><td>4294967296</td><td>6547</td><td>20</td><td>20</td><td>20</td><td>10</td><td>10</td><td>10</td></tr>\n",
       "<tr><td>119.18730724026115</td><td>46.034236351698944</td><td>4294967296</td><td>6624</td><td>20</td><td>20</td><td>20</td><td>10</td><td>10</td><td>10</td></tr>\n",
       "<tr><td>100.353908930381</td><td>34.57854459808884</td><td>4294967296</td><td>6670</td><td>20</td><td>20</td><td>20</td><td>10</td><td>10</td><td>10</td></tr>\n",
       "<tr><td>105.15925402912588</td><td>40.9862037896435</td><td>4294967296</td><td>6756</td><td>20</td><td>20</td><td>20</td><td>10</td><td>10</td><td>10</td></tr>\n",
       "<tr><td>99.06656483573545</td><td>39.61160317823219</td><td>4294967296</td><td>6801</td><td>20</td><td>20</td><td>20</td><td>10</td><td>10</td><td>10</td></tr>\n",
       "<tr><td>99.71295397007862</td><td>46.7060303906952</td><td>4294967296</td><td>6866</td><td>20</td><td>20</td><td>20</td><td>10</td><td>10</td><td>10</td></tr>\n",
       "<tr><td>...</td><td>...</td><td>...</td><td>...</td><td>...</td><td>...</td><td>...</td><td>...</td><td>...</td><td>...</td></tr>\n",
       "<tr><td>291.24841650835833</td><td>56.76050130242371</td><td>4294967296</td><td>15219</td><td>20</td><td>20</td><td>20</td><td>10</td><td>10</td><td>10</td></tr>\n",
       "<tr><td>280.18901841074177</td><td>49.636091123222236</td><td>4294967296</td><td>15234</td><td>20</td><td>20</td><td>20</td><td>10</td><td>10</td><td>10</td></tr>\n",
       "<tr><td>283.0073563699738</td><td>56.26151702451054</td><td>4294967296</td><td>15299</td><td>20</td><td>20</td><td>20</td><td>10</td><td>10</td><td>10</td></tr>\n",
       "<tr><td>296.3302850088009</td><td>59.06048848830733</td><td>4294967296</td><td>15886</td><td>20</td><td>20</td><td>20</td><td>10</td><td>10</td><td>10</td></tr>\n",
       "<tr><td>296.6049130329636</td><td>65.90625293461699</td><td>4294967296</td><td>15976</td><td>20</td><td>20</td><td>20</td><td>10</td><td>10</td><td>10</td></tr>\n",
       "<tr><td>288.6191146789187</td><td>67.56050348748686</td><td>4294967296</td><td>16023</td><td>20</td><td>20</td><td>20</td><td>10</td><td>10</td><td>10</td></tr>\n",
       "<tr><td>276.1049566648051</td><td>71.38388248855337</td><td>4294967296</td><td>16104</td><td>20</td><td>20</td><td>20</td><td>10</td><td>10</td><td>10</td></tr>\n",
       "<tr><td>277.81091507523246</td><td>78.75581989387413</td><td>4294967296</td><td>16297</td><td>20</td><td>20</td><td>20</td><td>10</td><td>10</td><td>10</td></tr>\n",
       "<tr><td>356.4227292232377</td><td>-36.79122853554369</td><td>4294967296</td><td>16418</td><td>20</td><td>20</td><td>20</td><td>10</td><td>10</td><td>10</td></tr>\n",
       "<tr><td>5.207024285930884</td><td>-27.556147983163303</td><td>4294967296</td><td>16505</td><td>20</td><td>20</td><td>20</td><td>10</td><td>10</td><td>10</td></tr>\n",
       "</table></div>"
      ],
      "text/plain": [
       "<Table length=128>\n",
       "        RA                 DEC         DESI_TARGET ... FLUX_G FLUX_R FLUX_Z\n",
       "     float64             float64          int64    ... int64  int64  int64 \n",
       "------------------ ------------------- ----------- ... ------ ------ ------\n",
       " 46.29542347920933   5.817355354123844 68719476736 ...     10     10     10\n",
       " 29.15345938642771  16.643333698912397  4294967296 ...     10     10     10\n",
       "123.53750231248975   35.38264479360898  4294967296 ...     10     10     10\n",
       "129.70572107142664  44.900797970542214  4294967296 ...     10     10     10\n",
       "120.85665365921263   41.64858028926321  4294967296 ...     10     10     10\n",
       "119.18730724026115  46.034236351698944  4294967296 ...     10     10     10\n",
       "  100.353908930381   34.57854459808884  4294967296 ...     10     10     10\n",
       "105.15925402912588    40.9862037896435  4294967296 ...     10     10     10\n",
       " 99.06656483573545   39.61160317823219  4294967296 ...     10     10     10\n",
       " 99.71295397007862    46.7060303906952  4294967296 ...     10     10     10\n",
       "               ...                 ...         ... ...    ...    ...    ...\n",
       "291.24841650835833   56.76050130242371  4294967296 ...     10     10     10\n",
       "280.18901841074177  49.636091123222236  4294967296 ...     10     10     10\n",
       " 283.0073563699738   56.26151702451054  4294967296 ...     10     10     10\n",
       " 296.3302850088009   59.06048848830733  4294967296 ...     10     10     10\n",
       " 296.6049130329636   65.90625293461699  4294967296 ...     10     10     10\n",
       " 288.6191146789187   67.56050348748686  4294967296 ...     10     10     10\n",
       " 276.1049566648051   71.38388248855337  4294967296 ...     10     10     10\n",
       "277.81091507523246   78.75581989387413  4294967296 ...     10     10     10\n",
       " 356.4227292232377  -36.79122853554369  4294967296 ...     10     10     10\n",
       " 5.207024285930884 -27.556147983163303  4294967296 ...     10     10     10"
      ]
     },
     "execution_count": 40,
     "metadata": {},
     "output_type": "execute_result"
    }
   ],
   "source": [
    "skies\n"
   ]
  },
  {
   "cell_type": "code",
   "execution_count": 7,
   "id": "038403f9-7acd-4167-bfcf-9ea6289936b6",
   "metadata": {},
   "outputs": [
    {
     "data": {
      "text/html": [
       "<div><i>Table length=264</i>\n",
       "<table id=\"table140704201914928\" class=\"table-striped table-bordered table-condensed\">\n",
       "<thead><tr><th>GALAXY</th><th>RA</th><th>DEC</th><th>DIAM</th></tr></thead>\n",
       "<thead><tr><th></th><th>deg</th><th>deg</th><th>arcmin</th></tr></thead>\n",
       "<thead><tr><th>bytes30</th><th>float64</th><th>float64</th><th>float32</th></tr></thead>\n",
       "<tr><td>GALEXASC J010318.95-044018.0</td><td>15.8297</td><td>-4.671559</td><td>0.8</td></tr>\n",
       "<tr><td>UGCA020</td><td>25.811359</td><td>19.975461</td><td>1.5</td></tr>\n",
       "<tr><td>PGC061664</td><td>274.039</td><td>42.6564</td><td>2.0</td></tr>\n",
       "<tr><td>MCG +07-37-031</td><td>274.048125</td><td>42.660333</td><td>0.8</td></tr>\n",
       "<tr><td>UGC 06073 NED02</td><td>164.94372</td><td>17.65347</td><td>0.5</td></tr>\n",
       "<tr><td>ARP 148 NED02</td><td>165.969792</td><td>40.849083</td><td>0.5</td></tr>\n",
       "<tr><td>PGC070787</td><td>348.643309</td><td>-43.603653</td><td>4.498</td></tr>\n",
       "<tr><td>[KKH2007]J1228+4358</td><td>187.183803</td><td>43.973394</td><td>4.0</td></tr>\n",
       "<tr><td>UGC08614</td><td>187.183803</td><td>43.973394</td><td>4.0</td></tr>\n",
       "<tr><td>...</td><td>...</td><td>...</td><td>...</td></tr>\n",
       "<tr><td>WISEAJ160521.71+565808.8</td><td>241.340508</td><td>56.968762</td><td>1.0</td></tr>\n",
       "<tr><td>SDSSJ084132.44+522928.7</td><td>130.385205</td><td>52.491318</td><td>0.9</td></tr>\n",
       "<tr><td>SDSSJ084132.44+522928.7</td><td>130.385205</td><td>52.491318</td><td>0.9</td></tr>\n",
       "<tr><td>2MASXJ07432805+5103525</td><td>115.866958</td><td>51.064611</td><td>0.6</td></tr>\n",
       "<tr><td>2MASXJ19570783-5524231</td><td>299.282542</td><td>-55.406639</td><td>0.6</td></tr>\n",
       "<tr><td>2MASXJ22343061-4703051</td><td>338.627625</td><td>-47.051417</td><td>0.8</td></tr>\n",
       "<tr><td>APMBGC235+059-099</td><td>314.193406</td><td>-48.085643</td><td>0.7</td></tr>\n",
       "<tr><td>PGC711419</td><td>43.666231</td><td>-30.917811</td><td>1.0</td></tr>\n",
       "<tr><td>UGC11671 NED02</td><td>316.14125</td><td>9.661667</td><td>1.0</td></tr>\n",
       "<tr><td>2MASSJ21043400+0939390</td><td>316.141687</td><td>9.660846</td><td>1.0</td></tr>\n",
       "</table></div>"
      ],
      "text/plain": [
       "<Table length=264>\n",
       "           GALAXY                RA        DEC       DIAM \n",
       "                                deg        deg      arcmin\n",
       "          bytes30             float64    float64   float32\n",
       "---------------------------- ---------- ---------- -------\n",
       "GALEXASC J010318.95-044018.0    15.8297  -4.671559     0.8\n",
       "                     UGCA020  25.811359  19.975461     1.5\n",
       "                   PGC061664    274.039    42.6564     2.0\n",
       "              MCG +07-37-031 274.048125  42.660333     0.8\n",
       "             UGC 06073 NED02  164.94372   17.65347     0.5\n",
       "               ARP 148 NED02 165.969792  40.849083     0.5\n",
       "                   PGC070787 348.643309 -43.603653   4.498\n",
       "         [KKH2007]J1228+4358 187.183803  43.973394     4.0\n",
       "                    UGC08614 187.183803  43.973394     4.0\n",
       "                         ...        ...        ...     ...\n",
       "    WISEAJ160521.71+565808.8 241.340508  56.968762     1.0\n",
       "     SDSSJ084132.44+522928.7 130.385205  52.491318     0.9\n",
       "     SDSSJ084132.44+522928.7 130.385205  52.491318     0.9\n",
       "      2MASXJ07432805+5103525 115.866958  51.064611     0.6\n",
       "      2MASXJ19570783-5524231 299.282542 -55.406639     0.6\n",
       "      2MASXJ22343061-4703051 338.627625 -47.051417     0.8\n",
       "           APMBGC235+059-099 314.193406 -48.085643     0.7\n",
       "                   PGC711419  43.666231 -30.917811     1.0\n",
       "              UGC11671 NED02  316.14125   9.661667     1.0\n",
       "      2MASSJ21043400+0939390 316.141687   9.660846     1.0"
      ]
     },
     "execution_count": 7,
     "metadata": {},
     "output_type": "execute_result"
    }
   ],
   "source": [
    "gals"
   ]
  },
  {
   "cell_type": "code",
   "execution_count": null,
   "id": "59aa2847-8eda-4ccd-96b6-c84b19ce767f",
   "metadata": {},
   "outputs": [],
   "source": []
  },
  {
   "cell_type": "code",
   "execution_count": 13,
   "id": "1af28fc0-007f-455d-90ff-1ae22cb864da",
   "metadata": {},
   "outputs": [],
   "source": [
    "#Create column to organize morphologies by Hubble type\n",
    "skies.add_column(20, name='MAG_G')\n",
    "skies.add_column(20, name='MAG_R')\n",
    "skies.add_column(20, name='MAG_Z')\n",
    "skies.add_column(10, name='FLUX_G')\n",
    "skies.add_column(10, name='FLUX_R')\n",
    "skies.add_column(10, name='FLUX_Z')\n"
   ]
  },
  {
   "cell_type": "code",
   "execution_count": 50,
   "id": "4b0084d0-1655-4bf8-8537-52f44193b38e",
   "metadata": {},
   "outputs": [],
   "source": [
    "skies.write('/pscratch/sd/s/sgmoore1/SGA2024/catalogs/skies.fits', overwrite=True)"
   ]
  },
  {
   "cell_type": "code",
   "execution_count": 40,
   "id": "590edacb-5edb-47b1-ab17-719abb3845c0",
   "metadata": {},
   "outputs": [
    {
     "data": {
      "text/html": [
       "<div><i>Table length=999</i>\n",
       "<table id=\"table139815467132304\" class=\"table-striped table-bordered table-condensed\">\n",
       "<thead><tr><th>RA</th><th>DEC</th><th>DESI_TARGET</th><th>HPXPIXEL</th><th>MAG_G</th><th>MAG_R</th><th>MAG_Z</th><th>FLUX_G</th><th>FLUX_R</th><th>FLUX_Z</th></tr></thead>\n",
       "<thead><tr><th>float64</th><th>float64</th><th>int64</th><th>int64</th><th>int64</th><th>int64</th><th>int64</th><th>int64</th><th>int64</th><th>int64</th></tr></thead>\n",
       "<tr><td>0.2920276794798619</td><td>-44.87814795867059</td><td>4294967296</td><td>35466</td><td>20</td><td>20</td><td>20</td><td>10</td><td>10</td><td>10</td></tr>\n",
       "<tr><td>0.5341639203503453</td><td>-59.49849861072</td><td>4294967296</td><td>34944</td><td>20</td><td>20</td><td>20</td><td>10</td><td>10</td><td>10</td></tr>\n",
       "<tr><td>0.7606003269661052</td><td>-49.21480403228082</td><td>4294967296</td><td>35368</td><td>20</td><td>20</td><td>20</td><td>10</td><td>10</td><td>10</td></tr>\n",
       "<tr><td>0.7814842926587906</td><td>-50.25584512268481</td><td>4294967296</td><td>35360</td><td>20</td><td>20</td><td>20</td><td>10</td><td>10</td><td>10</td></tr>\n",
       "<tr><td>1.0587581644624027</td><td>33.34086219603896</td><td>4294967296</td><td>20423</td><td>20</td><td>20</td><td>20</td><td>10</td><td>10</td><td>10</td></tr>\n",
       "<tr><td>1.3817393636371509</td><td>-2.6894125040057566</td><td>4294967296</td><td>17396</td><td>20</td><td>20</td><td>20</td><td>10</td><td>10</td><td>10</td></tr>\n",
       "<tr><td>2.0546265762975318</td><td>3.6771100916395585</td><td>4294967296</td><td>19474</td><td>20</td><td>20</td><td>20</td><td>10</td><td>10</td><td>10</td></tr>\n",
       "<tr><td>2.5447625524523763</td><td>-0.10076063065626206</td><td>4294967296</td><td>18089</td><td>20</td><td>20</td><td>20</td><td>10</td><td>10</td><td>10</td></tr>\n",
       "<tr><td>2.8502859824092304</td><td>17.69382709968802</td><td>4294967296</td><td>19872</td><td>20</td><td>20</td><td>20</td><td>10</td><td>10</td><td>10</td></tr>\n",
       "<tr><td>3.239335092358262</td><td>-65.96600504105076</td><td>4294967296</td><td>33451</td><td>20</td><td>20</td><td>20</td><td>10</td><td>10</td><td>10</td></tr>\n",
       "<tr><td>...</td><td>...</td><td>...</td><td>...</td><td>...</td><td>...</td><td>...</td><td>...</td><td>...</td><td>...</td></tr>\n",
       "<tr><td>356.697280063107</td><td>-9.018651091781681</td><td>4294967296</td><td>17308</td><td>20</td><td>20</td><td>20</td><td>10</td><td>10</td><td>10</td></tr>\n",
       "<tr><td>356.82646194616325</td><td>24.604398530380113</td><td>4294967296</td><td>20265</td><td>20</td><td>20</td><td>20</td><td>10</td><td>10</td><td>10</td></tr>\n",
       "<tr><td>356.9138588562081</td><td>33.12645063983152</td><td>4294967296</td><td>20448</td><td>20</td><td>20</td><td>20</td><td>10</td><td>10</td><td>10</td></tr>\n",
       "<tr><td>357.56575219226124</td><td>-37.909775933046205</td><td>4294967296</td><td>16416</td><td>20</td><td>20</td><td>20</td><td>10</td><td>10</td><td>10</td></tr>\n",
       "<tr><td>357.73265506204774</td><td>-14.247403560010612</td><td>4294967296</td><td>17190</td><td>20</td><td>20</td><td>20</td><td>10</td><td>10</td><td>10</td></tr>\n",
       "<tr><td>358.09696846822834</td><td>-47.12050816202612</td><td>4294967296</td><td>46402</td><td>20</td><td>20</td><td>20</td><td>10</td><td>10</td><td>10</td></tr>\n",
       "<tr><td>358.92370946946215</td><td>15.96632051767311</td><td>4294967296</td><td>19698</td><td>20</td><td>20</td><td>20</td><td>10</td><td>10</td><td>10</td></tr>\n",
       "<tr><td>359.21399505163214</td><td>30.609187969277414</td><td>4294967296</td><td>20373</td><td>20</td><td>20</td><td>20</td><td>10</td><td>10</td><td>10</td></tr>\n",
       "<tr><td>359.8213547966271</td><td>-3.304181603690082</td><td>4294967296</td><td>17395</td><td>20</td><td>20</td><td>20</td><td>10</td><td>10</td><td>10</td></tr>\n",
       "<tr><td>359.9223751591831</td><td>-11.032200148134084</td><td>4294967296</td><td>17212</td><td>20</td><td>20</td><td>20</td><td>10</td><td>10</td><td>10</td></tr>\n",
       "</table></div>"
      ],
      "text/plain": [
       "<Table length=999>\n",
       "        RA                 DEC          DESI_TARGET ... FLUX_G FLUX_R FLUX_Z\n",
       "     float64             float64           int64    ... int64  int64  int64 \n",
       "------------------ -------------------- ----------- ... ------ ------ ------\n",
       "0.2920276794798619   -44.87814795867059  4294967296 ...     10     10     10\n",
       "0.5341639203503453      -59.49849861072  4294967296 ...     10     10     10\n",
       "0.7606003269661052   -49.21480403228082  4294967296 ...     10     10     10\n",
       "0.7814842926587906   -50.25584512268481  4294967296 ...     10     10     10\n",
       "1.0587581644624027    33.34086219603896  4294967296 ...     10     10     10\n",
       "1.3817393636371509  -2.6894125040057566  4294967296 ...     10     10     10\n",
       "2.0546265762975318   3.6771100916395585  4294967296 ...     10     10     10\n",
       "2.5447625524523763 -0.10076063065626206  4294967296 ...     10     10     10\n",
       "2.8502859824092304    17.69382709968802  4294967296 ...     10     10     10\n",
       " 3.239335092358262   -65.96600504105076  4294967296 ...     10     10     10\n",
       "               ...                  ...         ... ...    ...    ...    ...\n",
       "  356.697280063107   -9.018651091781681  4294967296 ...     10     10     10\n",
       "356.82646194616325   24.604398530380113  4294967296 ...     10     10     10\n",
       " 356.9138588562081    33.12645063983152  4294967296 ...     10     10     10\n",
       "357.56575219226124  -37.909775933046205  4294967296 ...     10     10     10\n",
       "357.73265506204774  -14.247403560010612  4294967296 ...     10     10     10\n",
       "358.09696846822834   -47.12050816202612  4294967296 ...     10     10     10\n",
       "358.92370946946215    15.96632051767311  4294967296 ...     10     10     10\n",
       "359.21399505163214   30.609187969277414  4294967296 ...     10     10     10\n",
       " 359.8213547966271   -3.304181603690082  4294967296 ...     10     10     10\n",
       " 359.9223751591831  -11.032200148134084  4294967296 ...     10     10     10"
      ]
     },
     "execution_count": 40,
     "metadata": {},
     "output_type": "execute_result"
    }
   ],
   "source": [
    "skies"
   ]
  },
  {
   "cell_type": "code",
   "execution_count": 15,
   "id": "2f405d1b-da38-4171-8735-c3a90cc90d48",
   "metadata": {
    "tags": []
   },
   "outputs": [
    {
     "data": {
      "text/html": [
       "<div><i>Table length=254</i>\n",
       "<table id=\"table140078997210832\" class=\"table-striped table-bordered table-condensed\">\n",
       "<thead><tr><th>GALAXY</th><th>RA</th><th>DEC</th><th>DIAM</th><th>MAG_G</th><th>MAG_R</th><th>MAG_Z</th></tr></thead>\n",
       "<thead><tr><th></th><th>deg</th><th>deg</th><th>arcmin</th><th></th><th></th><th></th></tr></thead>\n",
       "<thead><tr><th>bytes30</th><th>float64</th><th>float64</th><th>float32</th><th>int64</th><th>int64</th><th>int64</th></tr></thead>\n",
       "<tr><td>2MASXJ00000256+0817537</td><td>0.0106</td><td>8.298</td><td>1.0</td><td>18</td><td>18</td><td>18</td></tr>\n",
       "<tr><td>2MASXJ00000896+0817338</td><td>0.0373</td><td>8.2927</td><td>1.0</td><td>18</td><td>18</td><td>18</td></tr>\n",
       "<tr><td>DR10-0001m365-1293</td><td>0.0414</td><td>-36.5683</td><td>1.0</td><td>18</td><td>18</td><td>18</td></tr>\n",
       "<tr><td>DR10-0001m405-3541</td><td>0.085</td><td>-40.4098</td><td>1.0</td><td>18</td><td>18</td><td>18</td></tr>\n",
       "<tr><td>PGC000026</td><td>0.115</td><td>-7.8823</td><td>1.0</td><td>18</td><td>18</td><td>18</td></tr>\n",
       "<tr><td>AGC102729</td><td>0.1338</td><td>30.8696</td><td>1.0</td><td>18</td><td>18</td><td>18</td></tr>\n",
       "<tr><td>PGC618004</td><td>0.1584</td><td>-37.7653</td><td>1.0</td><td>18</td><td>18</td><td>18</td></tr>\n",
       "<tr><td>2MASXJ00003907-4938479</td><td>0.1627</td><td>-49.6467</td><td>1.0</td><td>18</td><td>18</td><td>18</td></tr>\n",
       "<tr><td>PGC616134</td><td>0.1669</td><td>-37.6938</td><td>1.0</td><td>18</td><td>18</td><td>18</td></tr>\n",
       "<tr><td>...</td><td>...</td><td>...</td><td>...</td><td>...</td><td>...</td><td>...</td></tr>\n",
       "<tr><td>2MASXJ23170645+2128375</td><td>349.276944</td><td>21.477074</td><td>1.034</td><td>18</td><td>18</td><td>18</td></tr>\n",
       "<tr><td>AGC335954</td><td>349.445409</td><td>21.099168</td><td>1.386</td><td>18</td><td>18</td><td>18</td></tr>\n",
       "<tr><td>PGC141104</td><td>349.832489</td><td>24.933847</td><td>1.018</td><td>18</td><td>18</td><td>18</td></tr>\n",
       "<tr><td>UGC12515</td><td>349.963097</td><td>26.262785</td><td>1.56</td><td>18</td><td>18</td><td>18</td></tr>\n",
       "<tr><td>AGC333528</td><td>350.600419</td><td>28.734446</td><td>1.162</td><td>18</td><td>18</td><td>18</td></tr>\n",
       "<tr><td>AGC333395</td><td>352.243542</td><td>31.397056</td><td>1.038</td><td>18</td><td>18</td><td>18</td></tr>\n",
       "<tr><td>PGC141114</td><td>352.299424</td><td>11.849819</td><td>1.132</td><td>18</td><td>18</td><td>18</td></tr>\n",
       "<tr><td>AGC334606</td><td>352.745826</td><td>16.591389</td><td>1.1</td><td>18</td><td>18</td><td>18</td></tr>\n",
       "<tr><td>PGC072071</td><td>355.07925</td><td>27.561472</td><td>1.142</td><td>18</td><td>18</td><td>18</td></tr>\n",
       "<tr><td>2MASXJ23590614+0643271</td><td>359.775708</td><td>6.724179</td><td>1.044</td><td>18</td><td>18</td><td>18</td></tr>\n",
       "</table></div>"
      ],
      "text/plain": [
       "<Table length=254>\n",
       "        GALAXY             RA        DEC      DIAM  MAG_G MAG_R MAG_Z\n",
       "                          deg        deg     arcmin                  \n",
       "       bytes30          float64    float64  float32 int64 int64 int64\n",
       "---------------------- ---------- --------- ------- ----- ----- -----\n",
       "2MASXJ00000256+0817537     0.0106     8.298     1.0    18    18    18\n",
       "2MASXJ00000896+0817338     0.0373    8.2927     1.0    18    18    18\n",
       "    DR10-0001m365-1293     0.0414  -36.5683     1.0    18    18    18\n",
       "    DR10-0001m405-3541      0.085  -40.4098     1.0    18    18    18\n",
       "             PGC000026      0.115   -7.8823     1.0    18    18    18\n",
       "             AGC102729     0.1338   30.8696     1.0    18    18    18\n",
       "             PGC618004     0.1584  -37.7653     1.0    18    18    18\n",
       "2MASXJ00003907-4938479     0.1627  -49.6467     1.0    18    18    18\n",
       "             PGC616134     0.1669  -37.6938     1.0    18    18    18\n",
       "                   ...        ...       ...     ...   ...   ...   ...\n",
       "2MASXJ23170645+2128375 349.276944 21.477074   1.034    18    18    18\n",
       "             AGC335954 349.445409 21.099168   1.386    18    18    18\n",
       "             PGC141104 349.832489 24.933847   1.018    18    18    18\n",
       "              UGC12515 349.963097 26.262785    1.56    18    18    18\n",
       "             AGC333528 350.600419 28.734446   1.162    18    18    18\n",
       "             AGC333395 352.243542 31.397056   1.038    18    18    18\n",
       "             PGC141114 352.299424 11.849819   1.132    18    18    18\n",
       "             AGC334606 352.745826 16.591389     1.1    18    18    18\n",
       "             PGC072071  355.07925 27.561472   1.142    18    18    18\n",
       "2MASXJ23590614+0643271 359.775708  6.724179   1.044    18    18    18"
      ]
     },
     "execution_count": 15,
     "metadata": {},
     "output_type": "execute_result"
    }
   ],
   "source": [
    "missing"
   ]
  },
  {
   "cell_type": "code",
   "execution_count": 9,
   "id": "1829f981-d7ea-4a7d-8296-93a87315d86d",
   "metadata": {},
   "outputs": [],
   "source": [
    "#missing.write('/pscratch/sd/s/sgmoore1/SGA2024/catalogs/sga2020-missing.fits', overwrite=True)"
   ]
  },
  {
   "cell_type": "code",
   "execution_count": 6,
   "id": "f6489735-aabd-4606-9d85-68f3071f264c",
   "metadata": {},
   "outputs": [],
   "source": [
    "f = h5py.File('/pscratch/sd/s/sgmoore1/ssl-legacysurvey/data/disk_listed_offsets.h5','a')"
   ]
  },
  {
   "cell_type": "code",
   "execution_count": 7,
   "id": "72850b72-d3a1-4b61-ba34-cfe87340148b",
   "metadata": {},
   "outputs": [],
   "source": [
    "count = (5000+5000+999)\n",
    "pixel = 152\n",
    "#brickid = f.create_dataset('brickid',(count,), maxshape=(None,))\n",
    "# flux_g = f.create_dataset('flux_g',(count,), maxshape=(None,))       #needed\n",
    "# flux_r = f.create_dataset('flux_r',(count,), maxshape=(None,))       #needed\n",
    "# flux_z = f.create_dataset('flux_z',(count,), maxshape=(None,))       #needed\n",
    "#fiberflux_g = f.create_dataset('fiberflux_g',(count,), maxshape=(None,))\n",
    "#fiberflux_r = f.create_dataset('fiberflux_r',(count,), maxshape=(None,))\n",
    "#fiberflux_z = f.create_dataset('fiberflux_z',(count,), maxshape=(None,))\n",
    "#psfsize_g = f.create_dataset('psfsize_g',(count,), maxshape=(None,))       #needed\n",
    "#psfsize_r = f.create_dataset('psfsize_r',(count,), maxshape=(None,))       #needed\n",
    "#psfsize_z = f.create_dataset('psfsize_z',(count,), maxshape=(None,))       #needed\n",
    "#psfdepth_g = f.create_dataset('psfdepth_g',(count,), maxshape=(None,))       #needed\n",
    "#psfdepth_r = f.create_dataset('psfdepth_r',(count,), maxshape=(None,))       #needed\n",
    "#psfdepth_z = f.create_dataset('psfdepth_z',(count,), maxshape=(None,))       #needed\n",
    "#nobs_g = f.create_dataset('nobs_g',(count,), maxshape=(None,))\n",
    "#nobs_r = f.create_dataset('nobs_r',(count,), maxshape=(None,))\n",
    "#nobs_z = f.create_dataset('nobs_z',(count,), maxshape=(None,))\n",
    "# fracin_g = f.create_dataset('fracin_g',(count,), maxshape=(None,))\n",
    "# fracin_r = f.create_dataset('fracin_r',(count,), maxshape=(None,))\n",
    "# fracin_z = f.create_dataset('fracin_z',(count,), maxshape=(None,))\n",
    "# release = f.create_dataset('release',(count,), maxshape=(None,))\n",
    "# objid = f.create_dataset('objid',(count,), maxshape=(None,))\n",
    "# source_type = f.create_dataset('source_type',(count,), maxshape=(None,))\n",
    "# maskbits = f.create_dataset('maskbits',(count,), maxshape=(None,))\n",
    "# ebv = f.create_dataset('ebv',(count,), maxshape=(None,))       #needed\n",
    "images = f.create_dataset('images',(count,3,pixel,pixel), maxshape=(None, 3, pixel, pixel))       #needed\n",
    "ra = f.create_dataset('ra',(count,), maxshape=(None,))       #needed\n",
    "dec = f.create_dataset('dec',(count,), maxshape=(None,))       #needed\n",
    "mag_g = f.create_dataset('mag_g',(count,), maxshape=(None,))\n",
    "mag_r = f.create_dataset('mag_r',(count,), maxshape=(None,))\n",
    "mag_z = f.create_dataset('mag_z',(count,), maxshape=(None,))\n",
    "cutout_type = f.create_dataset('cutout_type',(count,), maxshape=(None,))\n",
    "umap_region = f.create_dataset('umap_region',(count,), maxshape=(None,))\n",
    "offsets = f.create_dataset('offset',(count,), maxshape=(None,))\n",
    "#morph = f.create_dataset('morphology',(count,), maxshape=(None,))\n",
    "#PROBLEMATIC ONE:\n",
    "#z_phot_median = f.create_dataset('z_phot_median',(count,), maxshape=(None,))"
   ]
  },
  {
   "cell_type": "code",
   "execution_count": 47,
   "id": "8455d4cc-2f4d-4543-960b-18628d2b0549",
   "metadata": {
    "tags": []
   },
   "outputs": [],
   "source": [
    "# ra = np.array((4096,))\n",
    "# dec = np.array((4096,))\n",
    "# mag_g = np.array((4096,))\n",
    "# mag_r = np.array((4096,))\n",
    "# mag_z = np.array((4096,))\n",
    "# count_type  = np.array((4096,))"
   ]
  },
  {
   "cell_type": "code",
   "execution_count": 8,
   "id": "ff493a0c-8fb7-48da-ad66-309b73778b2d",
   "metadata": {
    "tags": []
   },
   "outputs": [],
   "source": [
    "#NEEDED TO CORRECT FOR A REPEATING 9 THAT CAUSES PROBLEMS WITH FILE GRABBING\n",
    "#missing['RA'][42] = 0.56699"
   ]
  },
  {
   "cell_type": "code",
   "execution_count": 15,
   "id": "0d07e5a1-905c-4975-a737-130f88d17e19",
   "metadata": {
    "tags": []
   },
   "outputs": [],
   "source": [
    "j=0\n",
    "while j < 5000:\n",
    "    f1 = math.trunc(sga2020['RA'][j])\n",
    "    f2 = math.trunc((1000*sga2020['RA'][j]))\n",
    "    f3 = math.trunc((100000*sga2020['RA'][j]))\n",
    "    f4 = 'm' if sga2020['DEC'][j] < 0 else 'p'\n",
    "    f5 = abs(math.trunc((100000*sga2020['DEC'][j])))\n",
    "    \n",
    "    \n",
    "    img = fits.open('/pscratch/sd/s/sgmoore1/SGA2024/cutouts/{:03d}/{:06d}/{:08d}{}{:07d}.fits'.format(f1,f2,f3,f4,f5))\n",
    "    \n",
    "    #fill in rest of data for h5 file\n",
    "    images[j] = np.array(img[0].data)\n",
    "    # flux_g[j] = skies['FLUX_G'][j]\n",
    "    # flux_r[j] = skies['FLUX_R'][j]\n",
    "    # flux_z[j] = skies['FLUX_Z'][j]\n",
    "    ra[j] = sga2020['RA'][j]\n",
    "    dec[j] = sga2020['DEC'][j]\n",
    "    mag_g[j] = sga2020['G_MAG_SB26'][j]\n",
    "    mag_r[j] = sga2020['R_MAG_SB26'][j]\n",
    "    mag_z[j] = sga2020['Z_MAG_SB26'][j]\n",
    "    cutout_type[j] = 1\n",
    "    offsets[j] = 0\n",
    "    j+=1"
   ]
  },
  {
   "cell_type": "code",
   "execution_count": 16,
   "id": "324c1c80-abba-4924-a4d7-a5a68a9f0908",
   "metadata": {
    "tags": []
   },
   "outputs": [],
   "source": [
    "j=5000\n",
    "i=0\n",
    "while i < 5000:\n",
    "    f1 = math.trunc(offset['RA'][i])\n",
    "    f2 = math.trunc((1000*offset['RA'][i]))\n",
    "    f3 = math.trunc((100000*offset['RA'][i]))\n",
    "    f4 = 'm' if offset['DEC'][i] < 0 else 'p'\n",
    "    f5 = abs(math.trunc((100000*offset['DEC'][i])))\n",
    "    \n",
    "    \n",
    "    img = fits.open('/pscratch/sd/s/sgmoore1/SGA2024/off_cutouts/{:03d}/{:06d}/{:08d}{}{:07d}.fits'.format(f1,f2,f3,f4,f5))\n",
    "    \n",
    "    #fill in rest of data for h5 file\n",
    "    images[j] = np.array(img[0].data)\n",
    "    # flux_g[j] = skies['FLUX_G'][j]\n",
    "    # flux_r[j] = skies['FLUX_R'][j]\n",
    "    # flux_z[j] = skies['FLUX_Z'][j]\n",
    "    ra[j] = offset['RA'][i]\n",
    "    dec[j] = offset['DEC'][i]\n",
    "    mag_g[j] = offset['G_MAG_SB26'][i]\n",
    "    mag_r[j] = offset['R_MAG_SB26'][i]\n",
    "    mag_z[j] = offset['Z_MAG_SB26'][i]\n",
    "    cutout_type[j] = 2\n",
    "    offsets[j] = offset['norm_shift'][i]\n",
    "    \n",
    "    j+=1\n",
    "    i+=1"
   ]
  },
  {
   "cell_type": "code",
   "execution_count": 17,
   "id": "ea6ec513-c307-495f-b4cb-1b3229896302",
   "metadata": {
    "tags": []
   },
   "outputs": [],
   "source": [
    "j=(10000)\n",
    "jj=0\n",
    "while jj < 999:\n",
    "    f1 = math.trunc(skies['RA'][jj])\n",
    "    f2 = math.trunc((1000*skies['RA'][jj]))\n",
    "    f3 = math.trunc((100000*skies['RA'][jj]))\n",
    "    f4 = 'm' if skies['DEC'][jj] < 0 else 'p'\n",
    "    f5 = abs(math.trunc((100000*skies['DEC'][jj])))\n",
    "    \n",
    "    \n",
    "    img = fits.open('/pscratch/sd/s/sgmoore1/SGA2024/cutouts/{:03d}/{:06d}/{:08d}{}{:07d}.fits'.format(f1,f2,f3,f4,f5))\n",
    "    \n",
    "    #fill in rest of data for h5 file\n",
    "    images[j] = np.array(img[0].data)\n",
    "    # flux_g[j] = skies['FLUX_G'][j]\n",
    "    # flux_r[j] = skies['FLUX_R'][j]\n",
    "    # flux_z[j] = skies['FLUX_Z'][j]\n",
    "    ra[j] = skies['RA'][jj]\n",
    "    dec[j] = skies['DEC'][jj]\n",
    "    mag_g[j] = skies['MAG_G'][jj]\n",
    "    mag_r[j] = skies['MAG_R'][jj]\n",
    "    mag_z[j] = skies['MAG_Z'][jj]\n",
    "    cutout_type[j] = 3\n",
    "    offsets[j] = 5\n",
    "    j+=1\n",
    "    jj+=1"
   ]
  },
  {
   "cell_type": "code",
   "execution_count": 38,
   "id": "ce4a016c-f487-48d2-8fde-7db4fef2b146",
   "metadata": {},
   "outputs": [],
   "source": [
    "f = h5py.File('/pscratch/sd/s/sgmoore1/ssl-legacysurvey/data/disk_listed_offsets.h5','a').close"
   ]
  },
  {
   "cell_type": "code",
   "execution_count": 4,
   "id": "f3b62cfb-82d2-47e5-bfc4-a25e1a37b900",
   "metadata": {
    "tags": []
   },
   "outputs": [
    {
     "name": "stdout",
     "output_type": "stream",
     "text": [
      "2.7\n"
     ]
    }
   ],
   "source": [
    "with h5py.File('/pscratch/sd/s/sgmoore1/ssl-legacysurvey/data/disk_listed_offsets.h5', 'a') as hf:\n",
    "    print(hf['offset'][10900])"
   ]
  },
  {
   "cell_type": "code",
   "execution_count": 20,
   "id": "23229acb-5f31-4b36-906e-c734e94a19fc",
   "metadata": {},
   "outputs": [],
   "source": [
    "# j = (10000+999)\n",
    "# i=0\n",
    "# while i < 254:\n",
    "#     f1 = math.trunc(missing['RA'][i])\n",
    "#     f2 = math.trunc((1000*missing['RA'][i]))\n",
    "#     f3 = math.trunc((100000*missing['RA'][i]))\n",
    "#     f4 = 'm' if missing['DEC'][i] < 0 else 'p'\n",
    "#     f5 = abs(math.trunc((100000*missing['DEC'][i])))\n",
    "    \n",
    "    \n",
    "#     img = fits.open('/pscratch/sd/s/sgmoore1/SGA2024/cutouts/{:03d}/{:06d}/{:08d}{}{:07d}.fits'.format(f1,f2,f3,f4,f5))\n",
    "    \n",
    "#     #fill in rest of data for h5 file\n",
    "#     images[j] = np.array(img[0].data)\n",
    "#     # # flux_g[i] = skies['FLUX_G'][i]\n",
    "#     # # flux_r[i] = skies['FLUX_R'][i]\n",
    "#     # # flux_z[i] = skies['FLUX_Z'][i]\n",
    "#     ra[j] = missing['RA'][i]\n",
    "#     dec[j] = missing['DEC'][i]\n",
    "#     mag_g[j] = missing['MAG_G'][i]\n",
    "#     mag_r[j] = missing['MAG_R'][i]\n",
    "#     mag_z[j] = missing['MAG_Z'][i]\n",
    "#     cutout_type[j] = 3\n",
    "#     j+=1\n",
    "#     i+=1"
   ]
  },
  {
   "cell_type": "code",
   "execution_count": 48,
   "id": "ccf26766-432b-4b1a-b31f-40020691f6af",
   "metadata": {
    "tags": []
   },
   "outputs": [],
   "source": [
    "# j=0 \n",
    "# while j < 254:\n",
    "#     f1 = int(missing['RA'][j])\n",
    "#     f2 = int((1000*missing['RA'][j]))\n",
    "#     f3 = int((100000*missing['RA'][j]))\n",
    "#     f4 = 'm' if missing['DEC'][j] < 0 else 'p'\n",
    "#     f5 = int(100000*np.abs(missing['DEC'][j]))\n",
    "    \n",
    "    \n",
    "#     img = fits.open('/pscratch/sd/s/sgmoore1/SGA2024/cutouts/{:03d}/{:06d}/{:08d}{}{:07d}.fits'.format(f1,f2,f3,f4,f5))\n",
    "    \n",
    "#     #fill in rest of data for h5 file\n",
    "#     images[j] = np.array(img[0].data)\n",
    "#     # flux_g[j] = skies['FLUX_G'][j]\n",
    "#     # flux_r[j] = skies['FLUX_R'][j]\n",
    "#     # flux_z[j] = skies['FLUX_Z'][j]\n",
    "#     # ra[j] = sga2020['RA'][j]\n",
    "#     # dec[j] = sga2020['DEC'][j]\n",
    "#     # mag_g[j] = sga2020['G_MAG_SB26'][j]\n",
    "#     # mag_r[j] = sga2020['R_MAG_SB26'][j]\n",
    "#     # mag_z[j] = sga2020['Z_MAG_SB26'][j]\n",
    "#     # cutout_type[j] = 1\n",
    "#     j+=1"
   ]
  },
  {
   "cell_type": "code",
   "execution_count": 66,
   "id": "964ae473-8dd8-40e5-800d-b7463ed5a410",
   "metadata": {
    "tags": []
   },
   "outputs": [
    {
     "data": {
      "text/html": [
       "<div><i>Table length=254</i>\n",
       "<table id=\"table140348069424880\" class=\"table-striped table-bordered table-condensed\">\n",
       "<thead><tr><th>GALAXY</th><th>RA</th><th>DEC</th><th>DIAM</th><th>MAG_G</th><th>MAG_R</th><th>MAG_Z</th></tr></thead>\n",
       "<thead><tr><th></th><th>deg</th><th>deg</th><th>arcmin</th><th></th><th></th><th></th></tr></thead>\n",
       "<thead><tr><th>bytes30</th><th>float64</th><th>float64</th><th>float32</th><th>int64</th><th>int64</th><th>int64</th></tr></thead>\n",
       "<tr><td>PGC1814250</td><td>0.1731</td><td>27.6514</td><td>1.0</td><td>18</td><td>18</td><td>18</td></tr>\n",
       "<tr><td>PGC000057</td><td>0.1765</td><td>28.3691</td><td>0.28</td><td>18</td><td>18</td><td>18</td></tr>\n",
       "<tr><td>PGC124799</td><td>0.1787</td><td>-39.4361</td><td>1.0</td><td>18</td><td>18</td><td>18</td></tr>\n",
       "<tr><td>PGC508513</td><td>0.1935</td><td>-46.9581</td><td>1.0</td><td>18</td><td>18</td><td>18</td></tr>\n",
       "<tr><td>PGC000067</td><td>0.2341</td><td>-49.5213</td><td>1.0</td><td>18</td><td>18</td><td>18</td></tr>\n",
       "<tr><td>PGC783590</td><td>0.242</td><td>-25.0141</td><td>1.0</td><td>18</td><td>18</td><td>18</td></tr>\n",
       "<tr><td>DR10-0001m315-6306</td><td>0.2534</td><td>-31.3779</td><td>1.0</td><td>18</td><td>18</td><td>18</td></tr>\n",
       "<tr><td>PGC495312</td><td>0.2721</td><td>-47.8137</td><td>1.0</td><td>18</td><td>18</td><td>18</td></tr>\n",
       "<tr><td>DR10-0001m392-13376</td><td>0.2765</td><td>-39.1254</td><td>1.0</td><td>18</td><td>18</td><td>18</td></tr>\n",
       "<tr><td>...</td><td>...</td><td>...</td><td>...</td><td>...</td><td>...</td><td>...</td></tr>\n",
       "<tr><td>2MASXJ23170645+2128375</td><td>349.276944</td><td>21.477074</td><td>1.034</td><td>18</td><td>18</td><td>18</td></tr>\n",
       "<tr><td>AGC335954</td><td>349.445409</td><td>21.099168</td><td>1.386</td><td>18</td><td>18</td><td>18</td></tr>\n",
       "<tr><td>PGC141104</td><td>349.832489</td><td>24.933847</td><td>1.018</td><td>18</td><td>18</td><td>18</td></tr>\n",
       "<tr><td>UGC12515</td><td>349.963097</td><td>26.262785</td><td>1.56</td><td>18</td><td>18</td><td>18</td></tr>\n",
       "<tr><td>AGC333528</td><td>350.600419</td><td>28.734446</td><td>1.162</td><td>18</td><td>18</td><td>18</td></tr>\n",
       "<tr><td>AGC333395</td><td>352.243542</td><td>31.397056</td><td>1.038</td><td>18</td><td>18</td><td>18</td></tr>\n",
       "<tr><td>PGC141114</td><td>352.299424</td><td>11.849819</td><td>1.132</td><td>18</td><td>18</td><td>18</td></tr>\n",
       "<tr><td>AGC334606</td><td>352.745826</td><td>16.591389</td><td>1.1</td><td>18</td><td>18</td><td>18</td></tr>\n",
       "<tr><td>PGC072071</td><td>355.07925</td><td>27.561472</td><td>1.142</td><td>18</td><td>18</td><td>18</td></tr>\n",
       "<tr><td>2MASXJ23590614+0643271</td><td>359.775708</td><td>6.724179</td><td>1.044</td><td>18</td><td>18</td><td>18</td></tr>\n",
       "</table></div>"
      ],
      "text/plain": [
       "<Table length=254>\n",
       "        GALAXY             RA        DEC      DIAM  MAG_G MAG_R MAG_Z\n",
       "                          deg        deg     arcmin                  \n",
       "       bytes30          float64    float64  float32 int64 int64 int64\n",
       "---------------------- ---------- --------- ------- ----- ----- -----\n",
       "            PGC1814250     0.1731   27.6514     1.0    18    18    18\n",
       "             PGC000057     0.1765   28.3691    0.28    18    18    18\n",
       "             PGC124799     0.1787  -39.4361     1.0    18    18    18\n",
       "             PGC508513     0.1935  -46.9581     1.0    18    18    18\n",
       "             PGC000067     0.2341  -49.5213     1.0    18    18    18\n",
       "             PGC783590      0.242  -25.0141     1.0    18    18    18\n",
       "    DR10-0001m315-6306     0.2534  -31.3779     1.0    18    18    18\n",
       "             PGC495312     0.2721  -47.8137     1.0    18    18    18\n",
       "   DR10-0001m392-13376     0.2765  -39.1254     1.0    18    18    18\n",
       "                   ...        ...       ...     ...   ...   ...   ...\n",
       "2MASXJ23170645+2128375 349.276944 21.477074   1.034    18    18    18\n",
       "             AGC335954 349.445409 21.099168   1.386    18    18    18\n",
       "             PGC141104 349.832489 24.933847   1.018    18    18    18\n",
       "              UGC12515 349.963097 26.262785    1.56    18    18    18\n",
       "             AGC333528 350.600419 28.734446   1.162    18    18    18\n",
       "             AGC333395 352.243542 31.397056   1.038    18    18    18\n",
       "             PGC141114 352.299424 11.849819   1.132    18    18    18\n",
       "             AGC334606 352.745826 16.591389     1.1    18    18    18\n",
       "             PGC072071  355.07925 27.561472   1.142    18    18    18\n",
       "2MASXJ23590614+0643271 359.775708  6.724179   1.044    18    18    18"
      ]
     },
     "execution_count": 66,
     "metadata": {},
     "output_type": "execute_result"
    }
   ],
   "source": [
    "missing"
   ]
  },
  {
   "cell_type": "code",
   "execution_count": 33,
   "id": "fe8d3958-a60b-4652-9d93-987600002477",
   "metadata": {},
   "outputs": [
    {
     "data": {
      "text/plain": [
       "<HDF5 dataset \"images\": shape (4224, 3, 152, 152), type \"<f4\">"
      ]
     },
     "execution_count": 33,
     "metadata": {},
     "output_type": "execute_result"
    }
   ],
   "source": []
  },
  {
   "cell_type": "code",
   "execution_count": null,
   "id": "05f84b04-084c-4b43-8ea5-5aab5d904c42",
   "metadata": {},
   "outputs": [],
   "source": []
  },
  {
   "cell_type": "code",
   "execution_count": 49,
   "id": "8c6f200b-74a4-4c89-9dc1-d571db12d04e",
   "metadata": {},
   "outputs": [],
   "source": [
    "newsize = (4096 + 128 + 4096) + 254\n",
    "\n",
    "with h5py.File('/pscratch/sd/s/sgmoore1/ssl-legacysurvey/data/faroffs.h5', 'a') as hf:\n",
    "    hf['images'].resize(newsize, axis = 0)\n",
    "    hf['images'][-254:] = images\n",
    "\n",
    "    hf['mag_g'].resize(newsize, axis = 0)\n",
    "    hf['mag_g'][-254:] = 18\n",
    "\n",
    "    hf['mag_r'].resize(newsize, axis = 0)\n",
    "    hf['mag_r'][-254:] = 18\n",
    "    \n",
    "    hf['mag_z'].resize(newsize, axis = 0)\n",
    "    hf['mag_z'][-254:] = 18\n",
    "    \n",
    "    \n",
    "#     hf['flux_g'].resize((hf['flux_g'].shape[0] + skies['FLUX_G'].shape[0]), axis = 0)\n",
    "#     hf['flux_g'][-skies['FLUX_G'].shape[0]:] = skies['FLUX_G']\n",
    "\n",
    "#     hf['flux_r'].resize((hf['flux_r'].shape[0] + skies['FLUX_R'].shape[0]), axis = 0)\n",
    "#     hf['flux_r'][-skies['FLUX_R'].shape[0]:] = skies['FLUX_R']\n",
    "    \n",
    "#     hf['flux_z'].resize((hf['flux_z'].shape[0] + skies['FLUX_Z'].shape[0]), axis = 0)\n",
    "#     hf['flux_z'][-skies['FLUX_Z'].shape[0]:] = skies['FLUX_Z']\n",
    "\n",
    "#     hf['ebv'].resize(5628,axis=0)\n",
    "\n",
    "    hf['ra'].resize(newsize, axis = 0)\n",
    "    hf['ra'][-254:] = missing['RA']\n",
    "    hf['dec'].resize(newsize, axis = 0)\n",
    "    hf['dec'][-254:] = missing['DEC']\n",
    "    \n",
    "#     hf['brickid'].resize(newsize,axis=0)\n",
    "#     hf['fiberflux_g'].resize(newsize,axis=0)\n",
    "#     hf['fiberflux_r'].resize(newsize,axis=0)\n",
    "#     hf['fiberflux_z'].resize(newsize,axis=0)\n",
    "#     hf['fracin_g'].resize(newsize,axis=0)\n",
    "#     hf['fracin_r'].resize(newsize,axis=0)\n",
    "#     hf['fracin_z'].resize(newsize,axis=0)\n",
    "#     hf['nobs_g'].resize(newsize,axis=0)\n",
    "#     hf['nobs_r'].resize(newsize,axis=0)\n",
    "#     hf['nobs_z'].resize(newsize,axis=0)\n",
    "#     hf['psfdepth_g'].resize(newsize,axis=0)\n",
    "#     hf['psfdepth_r'].resize(newsize,axis=0)\n",
    "#     hf['psfdepth_z'].resize(newsize,axis=0)\n",
    "#     hf['psfsize_g'].resize(newsize,axis=0)\n",
    "#     hf['psfsize_r'].resize(newsize,axis=0)\n",
    "#     hf['psfsize_z'].resize(newsize,axis=0)\n",
    "#     hf['maskbits'].resize(newsize,axis=0) \n",
    "#     hf['objid'].resize(newsize,axis=0)\n",
    "#     hf['release'].resize(newsize,axis=0)\n",
    "#     hf['source_type'].resize(newsize,axis=0)\n",
    "#     hf['z_phot_median'].resize(newsize,axis=0)\n",
    "    \n",
    "#     hf['morphology'].resize(newsize,axis=0)\n",
    "#     hf['morphology'][-128:] = 20\n",
    "\n",
    "    # cutout_type = hf.create_dataset('cutout_type',(newsize,), maxshape=(None,)) \n",
    "    hf['cutout_type'].resize(newsize, axis = 0)\n",
    "    hf['cutout_type'][-254:] = 4"
   ]
  },
  {
   "cell_type": "code",
   "execution_count": 76,
   "id": "7e2b8b06-e679-4394-9ef9-9cf1e2a94688",
   "metadata": {
    "tags": []
   },
   "outputs": [],
   "source": [
    "with h5py.File('/pscratch/sd/s/sgmoore1/ssl-legacysurvey/data/disk.h5', 'a') as hf:\n",
    "    hf['cutout_type'].resize(4224, axis = 0)\n",
    "    hf['cutout_type'][0:4096] = 1\n",
    "    hf['cutout_type'][-128:] = 3"
   ]
  },
  {
   "cell_type": "code",
   "execution_count": 21,
   "id": "7f3b9ff7-cab4-40f3-a879-0fcd4b04c4d5",
   "metadata": {
    "tags": []
   },
   "outputs": [],
   "source": [
    "with h5py.File('/pscratch/sd/s/sgmoore1/ssl-legacysurvey/data/disk_offset+skies+gals.h5', 'a') as hf:\n",
    "    off = hf.create_dataset('offset',(9191,), maxshape=(None,))\n",
    "    i=0\n",
    "    while i < 4096:\n",
    "        hf['offset'][i] = 0\n",
    "\n",
    "        hf['offset'][i+4096] = ((hf['ra'][i] - hf['ra'][4096+i])**2 + (hf['dec'][i] - hf['dec'][4096+i])**2)**0.5\n",
    "        i+=1\n",
    "        \n",
    "    hf['offset'][8192:] = 0.01\n",
    "    "
   ]
  },
  {
   "cell_type": "code",
   "execution_count": null,
   "id": "a8a0b8cd-0f27-428c-88ae-f0d13dcc4a79",
   "metadata": {
    "tags": []
   },
   "outputs": [],
   "source": []
  },
  {
   "cell_type": "code",
   "execution_count": 3,
   "id": "9c57f150-86d8-4469-93b1-7671b96acfcb",
   "metadata": {
    "tags": []
   },
   "outputs": [],
   "source": [
    "# with h5py.File('/pscratch/sd/s/sgmoore1/ssl-legacysurvey/data/faroffs.h5', 'a') as hf:\n",
    "#     i=0\n",
    "#     while i < 4096:\n",
    "#         hf['offset'][i] = 0\n",
    "#         hf['offset'][i+4096] = ((hf['ra'][i] - hf['ra'][4096+i])**2 + (hf['dec'][i] - hf['dec'][4096+i])**2)\n",
    "#         print(hf['offset'][i+4096])\n",
    "#         i+=1\n",
    "#     #print( hf['offset'][5000])\n",
    "#     #hf['offset'][8192:8319] = 0.01\n",
    "    \n",
    "#     #mag_g = hf.create_dataset('offset',(8574,), maxshape=(None,))"
   ]
  },
  {
   "cell_type": "code",
   "execution_count": 10,
   "id": "d27f698f-a219-412b-b3bc-7eb587c26bd1",
   "metadata": {
    "tags": []
   },
   "outputs": [
    {
     "ename": "ValueError",
     "evalue": "Invalid location identifier (invalid location identifier)",
     "output_type": "error",
     "traceback": [
      "\u001b[0;31m---------------------------------------------------------------------------\u001b[0m",
      "\u001b[0;31mValueError\u001b[0m                                Traceback (most recent call last)",
      "Cell \u001b[0;32mIn[10], line 1\u001b[0m\n\u001b[0;32m----> 1\u001b[0m \u001b[38;5;28mprint\u001b[39m( \u001b[43mhf\u001b[49m\u001b[43m[\u001b[49m\u001b[38;5;124;43m'\u001b[39;49m\u001b[38;5;124;43moffset\u001b[39;49m\u001b[38;5;124;43m'\u001b[39;49m\u001b[43m]\u001b[49m[\u001b[38;5;241m5000\u001b[39m])\n",
      "File \u001b[0;32mh5py/_objects.pyx:54\u001b[0m, in \u001b[0;36mh5py._objects.with_phil.wrapper\u001b[0;34m()\u001b[0m\n",
      "File \u001b[0;32mh5py/_objects.pyx:55\u001b[0m, in \u001b[0;36mh5py._objects.with_phil.wrapper\u001b[0;34m()\u001b[0m\n",
      "File \u001b[0;32m/global/common/software/desi/perlmutter/desiconda/20230111-2.1.0/conda/lib/python3.10/site-packages/h5py/_hl/group.py:328\u001b[0m, in \u001b[0;36mGroup.__getitem__\u001b[0;34m(self, name)\u001b[0m\n\u001b[1;32m    326\u001b[0m         \u001b[38;5;28;01mraise\u001b[39;00m \u001b[38;5;167;01mValueError\u001b[39;00m(\u001b[38;5;124m\"\u001b[39m\u001b[38;5;124mInvalid HDF5 object reference\u001b[39m\u001b[38;5;124m\"\u001b[39m)\n\u001b[1;32m    327\u001b[0m \u001b[38;5;28;01melif\u001b[39;00m \u001b[38;5;28misinstance\u001b[39m(name, (\u001b[38;5;28mbytes\u001b[39m, \u001b[38;5;28mstr\u001b[39m)):\n\u001b[0;32m--> 328\u001b[0m     oid \u001b[38;5;241m=\u001b[39m \u001b[43mh5o\u001b[49m\u001b[38;5;241;43m.\u001b[39;49m\u001b[43mopen\u001b[49m\u001b[43m(\u001b[49m\u001b[38;5;28;43mself\u001b[39;49m\u001b[38;5;241;43m.\u001b[39;49m\u001b[43mid\u001b[49m\u001b[43m,\u001b[49m\u001b[43m \u001b[49m\u001b[38;5;28;43mself\u001b[39;49m\u001b[38;5;241;43m.\u001b[39;49m\u001b[43m_e\u001b[49m\u001b[43m(\u001b[49m\u001b[43mname\u001b[49m\u001b[43m)\u001b[49m\u001b[43m,\u001b[49m\u001b[43m \u001b[49m\u001b[43mlapl\u001b[49m\u001b[38;5;241;43m=\u001b[39;49m\u001b[38;5;28;43mself\u001b[39;49m\u001b[38;5;241;43m.\u001b[39;49m\u001b[43m_lapl\u001b[49m\u001b[43m)\u001b[49m\n\u001b[1;32m    329\u001b[0m \u001b[38;5;28;01melse\u001b[39;00m:\n\u001b[1;32m    330\u001b[0m     \u001b[38;5;28;01mraise\u001b[39;00m \u001b[38;5;167;01mTypeError\u001b[39;00m(\u001b[38;5;124m\"\u001b[39m\u001b[38;5;124mAccessing a group is done with bytes or str, \u001b[39m\u001b[38;5;124m\"\u001b[39m\n\u001b[1;32m    331\u001b[0m                     \u001b[38;5;124m\"\u001b[39m\u001b[38;5;124m not \u001b[39m\u001b[38;5;132;01m{}\u001b[39;00m\u001b[38;5;124m\"\u001b[39m\u001b[38;5;241m.\u001b[39mformat(\u001b[38;5;28mtype\u001b[39m(name)))\n",
      "File \u001b[0;32mh5py/_objects.pyx:54\u001b[0m, in \u001b[0;36mh5py._objects.with_phil.wrapper\u001b[0;34m()\u001b[0m\n",
      "File \u001b[0;32mh5py/_objects.pyx:55\u001b[0m, in \u001b[0;36mh5py._objects.with_phil.wrapper\u001b[0;34m()\u001b[0m\n",
      "File \u001b[0;32mh5py/h5o.pyx:190\u001b[0m, in \u001b[0;36mh5py.h5o.open\u001b[0;34m()\u001b[0m\n",
      "\u001b[0;31mValueError\u001b[0m: Invalid location identifier (invalid location identifier)"
     ]
    }
   ],
   "source": [
    "print( hf['offset'][5000])"
   ]
  },
  {
   "cell_type": "code",
   "execution_count": 7,
   "id": "2a2d46b0-f06e-4b93-9072-83efd3409d99",
   "metadata": {},
   "outputs": [],
   "source": [
    "f = h5py.File('/pscratch/sd/s/sgmoore1/ssl-legacysurvey/data/faroffs.h5','a').close"
   ]
  },
  {
   "cell_type": "code",
   "execution_count": 43,
   "id": "9f418276-9bfc-4cc3-92be-5d4793f66819",
   "metadata": {},
   "outputs": [
    {
     "data": {
      "text/html": [
       "&lt;Column name=&apos;MAG_Z&apos; dtype=&apos;int64&apos; length=128&gt;\n",
       "<table>\n",
       "<tr><td>20</td></tr>\n",
       "<tr><td>20</td></tr>\n",
       "<tr><td>20</td></tr>\n",
       "<tr><td>20</td></tr>\n",
       "<tr><td>20</td></tr>\n",
       "<tr><td>20</td></tr>\n",
       "<tr><td>20</td></tr>\n",
       "<tr><td>20</td></tr>\n",
       "<tr><td>20</td></tr>\n",
       "<tr><td>20</td></tr>\n",
       "<tr><td>20</td></tr>\n",
       "<tr><td>20</td></tr>\n",
       "<tr><td>...</td></tr>\n",
       "<tr><td>20</td></tr>\n",
       "<tr><td>20</td></tr>\n",
       "<tr><td>20</td></tr>\n",
       "<tr><td>20</td></tr>\n",
       "<tr><td>20</td></tr>\n",
       "<tr><td>20</td></tr>\n",
       "<tr><td>20</td></tr>\n",
       "<tr><td>20</td></tr>\n",
       "<tr><td>20</td></tr>\n",
       "<tr><td>20</td></tr>\n",
       "<tr><td>20</td></tr>\n",
       "<tr><td>20</td></tr>\n",
       "</table>"
      ],
      "text/plain": [
       "<Column name='MAG_Z' dtype='int64' length=128>\n",
       " 20\n",
       " 20\n",
       " 20\n",
       " 20\n",
       " 20\n",
       " 20\n",
       " 20\n",
       " 20\n",
       " 20\n",
       " 20\n",
       " 20\n",
       " 20\n",
       "...\n",
       " 20\n",
       " 20\n",
       " 20\n",
       " 20\n",
       " 20\n",
       " 20\n",
       " 20\n",
       " 20\n",
       " 20\n",
       " 20\n",
       " 20\n",
       " 20"
      ]
     },
     "execution_count": 43,
     "metadata": {},
     "output_type": "execute_result"
    }
   ],
   "source": [
    "skies['MAG_Z']"
   ]
  },
  {
   "cell_type": "code",
   "execution_count": 87,
   "id": "5dec4bc5-6e71-46e6-bdc2-16154c94cbca",
   "metadata": {},
   "outputs": [
    {
     "data": {
      "text/html": [
       "<i>Row index=185</i>\n",
       "<table id=\"table140348167486960\">\n",
       "<thead><tr><th>GALAXY</th><th>RA</th><th>DEC</th><th>DIAM</th><th>MAG_G</th><th>MAG_R</th><th>MAG_Z</th></tr></thead>\n",
       "<thead><tr><th></th><th>deg</th><th>deg</th><th>arcmin</th><th></th><th></th><th></th></tr></thead>\n",
       "<thead><tr><th>bytes30</th><th>float64</th><th>float64</th><th>float32</th><th>int64</th><th>int64</th><th>int64</th></tr></thead>\n",
       "<tr><td>UGC08614</td><td>187.183803</td><td>43.973394</td><td>4.0</td><td>18</td><td>18</td><td>18</td></tr>\n",
       "</table>"
      ],
      "text/plain": [
       "<Row index=185>\n",
       " GALAXY      RA        DEC      DIAM  MAG_G MAG_R MAG_Z\n",
       "            deg        deg     arcmin                  \n",
       "bytes30   float64    float64  float32 int64 int64 int64\n",
       "-------- ---------- --------- ------- ----- ----- -----\n",
       "UGC08614 187.183803 43.973394     4.0    18    18    18"
      ]
     },
     "execution_count": 87,
     "metadata": {},
     "output_type": "execute_result"
    }
   ],
   "source": [
    "missing[:][185]"
   ]
  },
  {
   "cell_type": "code",
   "execution_count": 86,
   "id": "d20019bd-205e-4977-9873-02022309874f",
   "metadata": {
    "tags": []
   },
   "outputs": [
    {
     "data": {
      "text/html": [
       "<i>Row index=186</i>\n",
       "<table id=\"table140348164619568\">\n",
       "<thead><tr><th>GALAXY</th><th>RA</th><th>DEC</th><th>DIAM</th><th>MAG_G</th><th>MAG_R</th><th>MAG_Z</th></tr></thead>\n",
       "<thead><tr><th></th><th>deg</th><th>deg</th><th>arcmin</th><th></th><th></th><th></th></tr></thead>\n",
       "<thead><tr><th>bytes30</th><th>float64</th><th>float64</th><th>float32</th><th>int64</th><th>int64</th><th>int64</th></tr></thead>\n",
       "<tr><td>[KKH2007]J1228+4358</td><td>187.183803</td><td>43.973394</td><td>4.0</td><td>18</td><td>18</td><td>18</td></tr>\n",
       "</table>"
      ],
      "text/plain": [
       "<Row index=186>\n",
       "       GALAXY           RA        DEC      DIAM  MAG_G MAG_R MAG_Z\n",
       "                       deg        deg     arcmin                  \n",
       "      bytes30        float64    float64  float32 int64 int64 int64\n",
       "------------------- ---------- --------- ------- ----- ----- -----\n",
       "[KKH2007]J1228+4358 187.183803 43.973394     4.0    18    18    18"
      ]
     },
     "execution_count": 86,
     "metadata": {},
     "output_type": "execute_result"
    }
   ],
   "source": [
    "missing[:][186]"
   ]
  },
  {
   "cell_type": "code",
   "execution_count": null,
   "id": "5efc0d11-093a-4c51-9c94-519ec494f1d6",
   "metadata": {},
   "outputs": [],
   "source": [
    "#THE FOLLOWING CODE WAS USED TO GRAB 1OO SMALL GALAXIES FROM THE LEGACYSURVEY VIEWER HTML"
   ]
  },
  {
   "cell_type": "code",
   "execution_count": 9,
   "id": "8a4a8f74-50cb-487a-9274-a6104da09279",
   "metadata": {},
   "outputs": [],
   "source": [
    "small_ras = [182.8797, 125.2038, 125.3536, 125.5098, 125.5553, 125.5998, 125.6920, 51.3533, 2.8784, 2.7559, \n",
    "             2.7556, 2.5267, 2.9239, 3.1751, 3.2240, 330.7580, 330.7674, 330.8968, 331.0626, 331.1307, \n",
    "             331.2130, 240.9218, 241.0043, 241.1663, 241.2771, 241.3181, 241.3472, 171.9610, 171.9701, 172.0442,\n",
    "             172.5672, 172.6798, 172.6774, 172.7510, 172.7755, 172.8694, 172.8736, 172.8432, 173.0476, 353.1904,\n",
    "             353.2904, 353.2647, 353.2358, 353.1608, 353.1850, 126.7882, 126.8119, 126.9087, 127.0289, 127.0416,\n",
    "             127.2208, 127.2634, 127.2587, 127.4682, 127.6290, 128.4711, 128.9184, 54.0452, 54.2801, 54.3117,\n",
    "             54.2893, 54.6743, 54.6125, 54.9459, 55.1109, 55.2546, 55.6254, 55.6584, 55.7089, 55.7602, \n",
    "             56.0658, 56.1750, 56.2749, 56.3925, 56.4981, 56.6040, 236.4994, 236.6720, 236.8201, 236.8657,\n",
    "             236.9138, 237.0237, 237.0026, 237.0058, 236.9947, 236.9620, 236.9925, 237.0064, 126.7318, 126.7812,\n",
    "             126.7670, 126.9084, 27.3559, 127.0468, 127.0005, 127.0755, 127.1877, 162.2132, 162.0866, 162.1425\n",
    "            ]\n",
    "small_decs = [12.2437, 19.4967, 19.3313, 19.3553, 19.3873, 19.3401, 19.3741, -16.2330, 29.0995, 29.3020, \n",
    "              29.2886, 29.2019, 29.3388, 29.5297, 29.5176, -9.7694, -9.7854, -9.7806, -9.7004, -9.6891,\n",
    "              -9.6210, 20.7174, 20.6915, 20.6089, 20.6212, 20.5920, 20.6138, 13.4707, 13.4606, 13.3916, \n",
    "              13.1317, 13.1040, 13.0914, 13.1526, 13.1108, 13.0876, 13.0679, 13.0525, 13.0284, 15.9761,\n",
    "              16.0269, 16.0541, 16.0491, 16.0490, 16.0285, 20.3141, 20.2132, 20.1832, 20.0283, 20.0484,\n",
    "              19.9119, 19.9031, 19.8340, 19.5671, 19.4285, 19.2134, 19.2207, -50.6613, -50.5904, -50.5805,\n",
    "              -50.6451, -50.5120, -50.5396, -50.4728, -50.4427, -50.4108, -50.4983, -50.5222, -50.4748, -50.5630,\n",
    "              -50.7472, -50.8463, -50.7663, -50.8427, -50.7626, -50.6324, 28.0748, 27.9051, 28.0054, 28.1764,\n",
    "              28.0990, 28.0719, 28.0541, 27.9935, 27.9656, 27.8552, 27.7911, 27.7020, 27.8081, 27.7575,\n",
    "              27.7149, 27.3559, 27.2299, 27.2936, 27.4180, 27.4248, 27.6474, 12.4287, 12.4580, 12.4592\n",
    "             ]"
   ]
  },
  {
   "cell_type": "code",
   "execution_count": null,
   "id": "7e1ba7ec-5644-49b4-b811-cf3966d74c87",
   "metadata": {},
   "outputs": [],
   "source": [
    "import time\n",
    "import requests\n",
    "import shutil\n",
    "\n",
    "#Command to retrieve url datas for FITS files\n",
    "def get_fitscut(galid,ra,dec):\n",
    "    url = 'https://www.legacysurvey.org/viewer/cutout.fits?ra={}&dec={}&%22/pix=0.25&layer=ls-dr9&size=152'.format(ra, dec)\n",
    "    #print(url)\n",
    "    res = requests.get(url, stream = True)\n",
    "    file_name = 'LittleGalaxies/Gal{}.fits'.format(galid)\n",
    "    \n",
    "    if res.status_code == 200:\n",
    "        with open(file_name,'wb') as f:\n",
    "            shutil.copyfileobj(res.raw, f)\n",
    "        #print('Image sucessfully Downloaded: ',file_name)\n",
    "    else:\n",
    "        print('Image Couldn\\'t be retrieved')"
   ]
  },
  {
   "cell_type": "code",
   "execution_count": 10,
   "id": "161edcc1-929e-4d94-a1f9-3d175693433b",
   "metadata": {},
   "outputs": [],
   "source": [
    "f = h5py.File('s.h5','w')\n",
    "images = f.create_dataset('images',(100,3,152,152), maxshape=(None,3,152,152))\n",
    "i=0\n",
    "while i < 100:\n",
    "    img = fits.open('LittleGalaxies/Gal{}.fits'.format(i))\n",
    "    images[i] = np.array(img[0].data)\n",
    "    i+=1\n"
   ]
  },
  {
   "cell_type": "code",
   "execution_count": 15,
   "id": "7d6bbde5-a0f2-4f36-a32c-c02101da9269",
   "metadata": {},
   "outputs": [],
   "source": [
    "# with h5py.File('/pscratch/sd/s/sgmoore1/ssl-legacysurvey/data/from_html/152pxdata/cutoutdata.h5', 'a') as hf:\n",
    "    \n",
    "# #     hf['images'].resize(5449, axis = 0)\n",
    "# #     hf['images'][-100:] = images\n",
    "\n",
    "# #     hf['ra'].resize(5449, axis = 0)\n",
    "# #     hf['dec'][-100:] = 18\n",
    "\n",
    "# #     hf['mag_r'].resize(5449, axis = 0)\n",
    "# #     hf['mag_r'][-100:] = 18\n",
    "    \n",
    "# #     hf['mag_z'].resize(5449, axis = 0)\n",
    "# #     hf['mag_z'][-100:] = 18\n",
    "    \n",
    "# #     hf['mag_g'].resize(5449, axis = 0)\n",
    "# #     hf['mag_g'][-100:] = 18   \n",
    "    \n",
    "# #    hf['umap_region'].resize(5449, axis = 0)\n",
    "    \n",
    "#     hf['morphology'].resize(5628, axis = 0) \n",
    "    \n",
    "#     hf['ra'].resize(5628, axis = 0) \n",
    "    \n",
    "#     hf['dec'].resize(5628, axis = 0)\n",
    "\n",
    "    "
   ]
  },
  {
   "cell_type": "code",
   "execution_count": 14,
   "id": "6af514bc-0e3f-437e-b827-0198da43d7f2",
   "metadata": {
    "tags": []
   },
   "outputs": [],
   "source": [
    "# f=h5py.File('/pscratch/sd/s/sgmoore1/ssl-legacysurvey/data/from_html/152pxdata/cutoutdata.h5', 'a').close"
   ]
  },
  {
   "cell_type": "code",
   "execution_count": null,
   "id": "89e21d85-235f-4595-832f-a55ede482858",
   "metadata": {},
   "outputs": [],
   "source": []
  }
 ],
 "metadata": {
  "kernelspec": {
   "display_name": "DESI main",
   "language": "python",
   "name": "desi-main"
  },
  "language_info": {
   "codemirror_mode": {
    "name": "ipython",
    "version": 3
   },
   "file_extension": ".py",
   "mimetype": "text/x-python",
   "name": "python",
   "nbconvert_exporter": "python",
   "pygments_lexer": "ipython3",
   "version": "3.10.8"
  }
 },
 "nbformat": 4,
 "nbformat_minor": 5
}
