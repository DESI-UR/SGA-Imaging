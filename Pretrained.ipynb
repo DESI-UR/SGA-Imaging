{
 "cells": [
  {
   "cell_type": "code",
   "execution_count": 1,
   "id": "d016b552-60e2-4c72-acac-82b1e4d70453",
   "metadata": {},
   "outputs": [
    {
     "name": "stdout",
     "output_type": "stream",
     "text": [
      "Current working directory: /pscratch/sd/s/sgmoore1/ssl-legacysurvey\n"
     ]
    }
   ],
   "source": [
    "#%load_ext autoreload\n",
    "#%autoreload 2\n",
    "\n",
    "import os\n",
    "# os.environ['OPENBLAS_NUM_THREADS'] = '1'\n",
    "import h5py\n",
    "\n",
    "import numpy as np\n",
    "import torch\n",
    "from ssl_legacysurvey.utils import load_data # Loading galaxy catalogue and image data from hdf5 file(s)\n",
    "from ssl_legacysurvey.utils import plotting_tools as plt_tools # Plotting images or catalogue info\n",
    "\n",
    "from ssl_legacysurvey.data_loaders import datamodules # Pytorch dataloaders and datamodules\n",
    "from ssl_legacysurvey.data_loaders import decals_augmentations # Augmentations for training\n",
    "\n",
    "from ssl_legacysurvey.data_analysis import dimensionality_reduction # PCA/UMAP functionality\n",
    "import matplotlib.pyplot as plt\n",
    "print(\"Current working directory: {0}\".format(os.getcwd()))\n",
    "\n",
    "data_path = '/pscratch/sd/s/sgmoore1/ssl-legacysurvey/data/disk_listed_offsets.h5'\n"
   ]
  },
  {
   "cell_type": "code",
   "execution_count": null,
   "id": "358ad323-a4a3-4c13-a473-d6c9d3cab111",
   "metadata": {},
   "outputs": [],
   "source": []
  },
  {
   "cell_type": "code",
   "execution_count": 2,
   "id": "31e82bf0-f554-4b75-8a0d-f38564460062",
   "metadata": {
    "tags": []
   },
   "outputs": [],
   "source": [
    "# Define matplotlib defaults\n",
    "plt.rcParams['figure.figsize']        = 8., 6.\n",
    "plt.rcParams['axes.labelsize']        = 18\n",
    "plt.rcParams['axes.titlesize']        = 18\n",
    "plt.rcParams['xtick.top']             = True\n",
    "plt.rcParams['xtick.bottom']          = True\n",
    "plt.rcParams['ytick.left']            = True\n",
    "plt.rcParams['ytick.right']           = True\n",
    "plt.rcParams['xtick.direction']       = 'in'\n",
    "plt.rcParams['ytick.direction']       = 'in'\n",
    "plt.rcParams['xtick.labelsize']       = 18\n",
    "plt.rcParams['ytick.labelsize']       = 18\n",
    "plt.rcParams['xtick.major.pad']       = 6.\n",
    "plt.rcParams['xtick.minor.pad']       = 6.\n",
    "plt.rcParams['ytick.major.pad']       = 6.\n",
    "plt.rcParams['ytick.minor.pad']       = 6.\n",
    "plt.rcParams['xtick.major.size']      = 6. # major tick size in points\n",
    "plt.rcParams['xtick.minor.size']      = 3. # minor tick size in points\n",
    "plt.rcParams['ytick.major.size']      = 6. # major tick size in points\n",
    "plt.rcParams['ytick.minor.size']      = 3. # minor tick size in points\n",
    "plt.rcParams['text.usetex']           = False\n",
    "plt.rcParams['font.family']           = 'serif'\n",
    "plt.rcParams['font.size']             = 18\n",
    "    "
   ]
  },
  {
   "cell_type": "code",
   "execution_count": 3,
   "id": "a5483772-5732-4b56-94d1-d300f03c6f7f",
   "metadata": {
    "tags": []
   },
   "outputs": [],
   "source": [
    "# with h5py.File(data_path, 'a') as hf:\n",
    "    # umap_region = hf.create_dataset('umap_region',(3428,), maxshape=(None,))"
   ]
  },
  {
   "cell_type": "code",
   "execution_count": 4,
   "id": "e2e1402d-a5d0-4b34-bff9-cf4d289906c1",
   "metadata": {},
   "outputs": [
    {
     "name": "stdout",
     "output_type": "stream",
     "text": [
      "Available keys & data shapes:\n",
      "inds shape: (10999,)\n",
      "cutout_type shape: (10999,)\n",
      "dec shape: (10999,)\n",
      "images shape: (10999, 3, 152, 152)\n",
      "mag_g shape: (10999,)\n",
      "mag_r shape: (10999,)\n",
      "mag_z shape: (10999,)\n",
      "offset shape: (10999,)\n",
      "ra shape: (10999,)\n",
      "umap_region shape: (10999,)\n"
     ]
    }
   ],
   "source": [
    "# Load h5py file into dictionary\n",
    "DDL = load_data.DecalsDataLoader(image_dir=data_path, npix_in=152)\n",
    "\n",
    "gals = DDL.get_data(-1, fields=DDL.fields_available,npix_out=152) # -1 to load all galaxies\n",
    "\n",
    "print(\"Available keys & data shapes:\")\n",
    "for k in gals:\n",
    "    print(f\"{k} shape:\", gals[k].shape)"
   ]
  },
  {
   "cell_type": "code",
   "execution_count": 5,
   "id": "9bd620f4-2530-416c-94a5-81e2d2a6b94d",
   "metadata": {
    "tags": []
   },
   "outputs": [],
   "source": [
    "# # Display some pretty galaxy pictures\n",
    "# nplt = 50\n",
    "# ncol = 5\n",
    "\n",
    "# npix_show = 96\n",
    "\n",
    "# # Display images in grid, with ra/dec for each galaxy. Colors are after grb transformation, not raw data\n",
    "# print('Original:')\n",
    "# plt_tools.show_galaxies(gals['images'][500:],\n",
    "#                         gals['ra'][500:], gals['dec'][500:], \n",
    "#                         nx=ncol, nplt=nplt, npix_show=npix_show)\n",
    "# #plt.savefig('figures/centered_gals.png')"
   ]
  },
  {
   "cell_type": "code",
   "execution_count": 6,
   "id": "6d8fe13e-9045-41f0-abd4-d065c6ae2137",
   "metadata": {},
   "outputs": [],
   "source": [
    "# Import necessary modules for self-supervised learning \n",
    "# To prevent OpenBLAS blas_thread_init\n",
    "# os.environ['OPENBLAS_NUM_THREADS'] = '1'\n",
    "\n",
    "import numpy as np\n",
    "import torch\n",
    "import torchvision\n",
    "import pytorch_lightning as pl\n",
    "import h5py\n",
    "\n",
    "import argparse\n",
    "import logging\n",
    "\n",
    "from pathlib import Path\n",
    "import os\n",
    "import sys\n",
    "import glob\n",
    "import math\n",
    "\n",
    "from pytorch_lightning import loggers as pl_loggers\n",
    "# from pl_bolts.models.self_supervised import Moco_v2\n",
    "from pytorch_lightning.plugins import DDPPlugin\n",
    "#strategy = 'ddp'\n",
    "from ssl_legacysurvey.moco.moco2_module import Moco_v2 \n",
    "\n",
    "from ssl_legacysurvey.data_loaders import datamodules\n",
    "from ssl_legacysurvey.utils import format_logger\n",
    "from scripts import predict\n",
    "from ssl_legacysurvey.finetune import extract_model_outputs\n",
    "from scripts import similarity_search_nxn"
   ]
  },
  {
   "cell_type": "code",
   "execution_count": 7,
   "id": "01402350-e993-4a83-8b71-21f654cb3ad4",
   "metadata": {},
   "outputs": [],
   "source": [
    "class Args: # In general codes in this project use argparse. Args() simplifies this for this example \n",
    "    # Data location and GPU availability \n",
    "    data_path = '/pscratch/sd/s/sgmoore1/ssl-legacysurvey/data/disk_listed_offsets.h5'\n",
    "    gpu = True # Use GPU?\n",
    "    gpus = 1 # Number of gpus to use\n",
    "    num_nodes = 1\n",
    "    ngals_tot = gals['images'].shape[0]\n",
    "    # Training\n",
    "    verbose = True\n",
    "    ssl_training = True\n",
    "    batch_size = ngals_tot\n",
    "    learning_rate = 0.03\n",
    "    max_epochs = 5\n",
    "    max_num_samples= ngals_tot\n",
    "    \n",
    "    \n",
    "    check_val_every_n_epoch = 999 # We haven't provided validation set, so don't use it!\n",
    "    num_sanity_val_steps = 0\n",
    "\n",
    "    augmentations = 'grrrssgbjcgnrg'\n",
    "    jitter_lim = 7\n",
    "    \n",
    "    strategy = 'dp' # Distributed training strategy,  ddp does not work in ipython notebook, only dp does\n",
    "    seed = 13579\n",
    "\n",
    "    checkpoint_every_n_epochs = 1\n",
    "    num_workers = 1 # Number of workers for data loader\n",
    "\n",
    "    # Model architecture and settings\n",
    "    backbone = 'resnet50' # Encoder architecture to use, Can use any in torchvision, i.e. ['resnet18', 'resnet34', 'resnet50', 'resnet152', .....]\n",
    "    use_mlp = True # use projection head\n",
    "\n",
    "    emb_dim = 128 # Dimensionality where loss is calculated\n",
    "    num_negatives = 16 #Number of negative samples to keep in queue for Mocov2\n",
    "    \n",
    "    # needed for predict.py script\n",
    "    out_dir = 'diskdata/representations/'\n",
    "    extract_representations = True\n",
    "    checkpoint_path = 'resnet50.ckpt'\n",
    "    use_mlp_representation = True\n",
    "    overwrite = True\n",
    "    file_head = 'diskdata'\n",
    "    chunksize= ngals_tot\n",
    "    batch_size_per_gpu = int(gals['images'].shape[0]/4)\n",
    "    num_gpus = 1\n",
    "    data_dim = 2048\n",
    "    predict_batch_size = ngals_tot\n",
    "    representation_directory = 'diskdata/representations/'\n",
    "    representation_file_head = file_head\n",
    "    umap_file_head = 'umap_diskdata_representations'\n",
    "    train_umap = True\n",
    "    \n",
    "    #For dimensionality reduction script\n",
    "    n_samples = 1000\n",
    "    sample_dimensionality = 100\n",
    "    n_pca_components = 8\n",
    "    n_umap_components = 2\n",
    "    umap_embedding_file_path = os.path.join(out_dir, f\"{umap_file_head}_{gals['images'].shape[0]}_embedding.npz\")\n",
    "    umap_transform_file_path = os.path.join(out_dir, f\"{umap_file_head}_{gals['images'].shape[0]}_transform.pkl\")\n",
    "\n",
    "    #for similarity search:\n",
    "    use_faiss = True\n",
    "    use_gpu = True\n",
    "    norm = True\n",
    "    \n",
    "    rep_dir = 'diskdata/representations/compiled/'\n",
    "    output_dir = 'diskdata/representations/similarity/'\n",
    "    knearest = 25\n",
    "    delta_mag = 20\n",
    "    start_on_chunk = 0\n",
    "    survey = 'south'\n",
    "    rep_file_head = file_head\n",
    "    decals_dir = '/global/cfs/projectdirs/cusp/LBL/decals_galaxy_survey/'\n",
    "    chunksize_similarity = ngals_tot\n",
    "    sim_chunksize= ngals_tot\n",
    "    rep_dim = 128\n",
    "    nchunks = int(math.ceil(ngals_tot/chunksize))\n",
    "    nchunks_similarity = int(math.ceil(ngals_tot/chunksize_similarity))\n",
    "    supervised_training = True\n",
    "    #batch_indices = [range(0,ngals_tot)]\n",
    "    \n",
    "params = vars(Args)\n",
    "p = {}\n",
    "for k, v in params.items():\n",
    "    p[k] = v\n",
    "params = p"
   ]
  },
  {
   "cell_type": "code",
   "execution_count": 8,
   "id": "baff3671-c463-4eb5-964a-e29c43884a68",
   "metadata": {},
   "outputs": [],
   "source": [
    "model = Moco_v2.load_from_checkpoint(\n",
    "        checkpoint_path=params['checkpoint_path']\n",
    "        )\n",
    "\n",
    "# #Generate model from checkpoint\n",
    "# model = Moco_v2(\n",
    "#     base_encoder=params['backbone'],\n",
    "#     emb_dim=params['emb_dim'],\n",
    "#     use_mlp=params['use_mlp'],\n",
    "#     learning_rate=params['learning_rate'],\n",
    "#     batch_size=params['batch_size'],\n",
    "# )\n",
    "# datamodule = datamodules.DecalsDataModule(params)\n",
    "# #checkpoint_path = 'resnet50.ckpt'\n",
    "# trainer = pl.Trainer()\n",
    "# model = model.load_from_checkpoint(params['checkpoint_path'])"
   ]
  },
  {
   "cell_type": "code",
   "execution_count": 9,
   "id": "6d862f5e-527e-43f2-a97f-893edba7cc52",
   "metadata": {},
   "outputs": [],
   "source": [
    "#from scripts import predict\n",
    "# Set self-supervised encoder as out backbone\n",
    "backbone = model.encoder_q\n",
    "\n",
    "# Remove the MLP projection head from the model, so output is now the representaion for each galaxy\n",
    "backbone.fc = torch.nn.Identity()\n",
    "\n",
    "params['ssl_training'] = False\n",
    "params['jitter_lim'] = 0\n",
    "params['augmentations'] = 'rrjc'#adjust to whatever parameters you want\n",
    "\n",
    "# Load all images as one batch\n",
    "\n",
    "transform = datamodules.DecalsTransforms(\n",
    "    params['augmentations'],\n",
    "    params\n",
    ")\n",
    "\n",
    "\n",
    "decals_dataloader = datamodules.DecalsDataset(\n",
    "    data_path,\n",
    "    None,\n",
    "    transform,\n",
    "    params,\n",
    ")\n",
    "#ngals = (4096+4096+128) #use when doing a subset/regenerating images without the sga-missing catalog\n",
    "ngals =  gals['images'].shape[0]\n",
    "im, label = decals_dataloader.__getitem__(0)\n",
    "images = torch.empty((ngals, im.shape[0], im.shape[1], im.shape[2]), dtype=im.dtype)\n",
    "for i in range(ngals):\n",
    "    images[i], _ = decals_dataloader.__getitem__(i)\n",
    "    "
   ]
  },
  {
   "cell_type": "code",
   "execution_count": 10,
   "id": "f84062fe-b3f1-4413-bd87-09a082738ebf",
   "metadata": {
    "tags": []
   },
   "outputs": [],
   "source": [
    "# Run images through model to get representations\n",
    "representations = backbone(images)"
   ]
  },
  {
   "cell_type": "code",
   "execution_count": 11,
   "id": "5255393e-997f-44b2-a1d3-99e976202ccb",
   "metadata": {
    "tags": []
   },
   "outputs": [],
   "source": [
    "# #Code pulled from predict.py script and modified in order so it would actually run\n",
    "\n",
    "# #params['supervised_training'] = True\n",
    "# Path(params['out_dir']).mkdir(parents=True, exist_ok=True)\n",
    "# #params['predict'] = not params['extract_representations'] # if not extracting representations then must want model predictions\n",
    "\n",
    "# if params['verbose']:\n",
    "#     print(\"\\nTraining with the following parameters:\")\n",
    "#     for k, v in params.items():\n",
    "#         print(k, v)\n",
    "# if params['extract_representations']: \n",
    "#     # Do not need any classification head, just SSL trained model\n",
    "#     moco_model = Moco_v2.load_from_checkpoint(\n",
    "#         checkpoint_path=os.path.join(params['checkpoint_path'])\n",
    "#         )\n",
    "#     # extract encoder_q from Moco_v2 model\n",
    "#     backbone = moco_model.encoder_q\n",
    "#     if not params['use_mlp_representation']:\n",
    "#         try:\n",
    "#             # check if model does not use mlp projection head\n",
    "#             emb_dim = backbone.fc.in_features\n",
    "#         except:\n",
    "#             # Model does use mlp projection head\n",
    "#             emb_dim = backbone.fc[0].in_features\n",
    "#         # Remove projection head by setting to Identity layer\n",
    "#         backbone.fc = torch.nn.Identity()\n",
    "#     else:\n",
    "#         emb_dim = params['emb_dim']\n",
    "#     print(f\"Representation dimensionality to be extracted: {emb_dim}\")\n",
    "#     model = extract_model_outputs.OutputExtractor(backbone)\n",
    "\n",
    "# # commented out because it caused some problems and I was only using this cell to extract the representations\n",
    "#     # else:\n",
    "# #     model = finetuning.SSLFineTuner.load_from_checkpoint(\n",
    "# #         checkpoint_path=params['checkpoint_path'],\n",
    "# #         )\n",
    "# # if params['verbose']:\n",
    "# #     print(model)\n",
    "# datamodule = datamodules.DecalsDataModule(params)\n",
    "# datamodule.setup(stage=\"predict\")\n",
    "# # Predictions are written during trainer.predict by this callback\n",
    "# prediction_dir = os.path.join(params['out_dir'], 'chunks/')\n",
    "# Path(prediction_dir).mkdir(parents=True, exist_ok=True)\n",
    "# # Clear previous files so chunks don't get incorrectly compiled\n",
    "# previous_files = glob.glob(prediction_dir + \"*\")\n",
    "# for f in previous_files:\n",
    "#     os.remove(f)\n",
    "\n",
    "# PredictionWriterCallback = extract_model_outputs.OutputWriter(\n",
    "#     prediction_dir,\n",
    "#     file_head=params['file_head'],\n",
    "#     overwrite=params['overwrite'],\n",
    "#     write_interval=\"batch\",\n",
    "# )\n",
    "\n",
    "# strategy = params['strategy']\n",
    "# trainer = pl.Trainer.from_argparse_args(\n",
    "#     Args,\n",
    "#     strategy=strategy,\n",
    "#     callbacks=[PredictionWriterCallback],\n",
    "# )\n",
    "# print(\"Predicting over dataset\")\n",
    "\n",
    "# #Predict over dataset and save each batch to disk                 \n",
    "# preds = trainer.predict(\n",
    "#     model,\n",
    "#     datamodule=datamodule,\n",
    "#     return_predictions=False, # On such a large dataset storing full predictions will crash, so write in batches\n",
    "# )\n",
    "\n",
    "\n",
    "# print(\"DEBUG\", torch.cuda.current_device())"
   ]
  },
  {
   "cell_type": "code",
   "execution_count": null,
   "id": "fdcbbdaf-643d-45ca-9408-e414c02af416",
   "metadata": {
    "tags": []
   },
   "outputs": [],
   "source": [
    "\n"
   ]
  },
  {
   "cell_type": "raw",
   "id": "b889bc5b-5f46-4522-a727-4457592d8698",
   "metadata": {},
   "source": []
  },
  {
   "cell_type": "code",
   "execution_count": 12,
   "id": "468e7a46-5c04-422e-bdef-e4f6b10056fd",
   "metadata": {
    "scrolled": true,
    "tags": []
   },
   "outputs": [],
   "source": [
    "# # Compile batches into final file\n",
    "# if torch.cuda.current_device() == 0:\n",
    "#     print('Saving compiled file:')\n",
    "#     predict.compile_chunks(params)"
   ]
  },
  {
   "cell_type": "code",
   "execution_count": null,
   "id": "2c8f5f42-bdc2-495c-8a33-6314f302f2e2",
   "metadata": {},
   "outputs": [],
   "source": []
  },
  {
   "cell_type": "code",
   "execution_count": 13,
   "id": "5168fb70-feac-4392-b310-d1b177023ac4",
   "metadata": {
    "scrolled": true,
    "tags": []
   },
   "outputs": [],
   "source": [
    "# x = np.load('/pscratch/sd/s/sgmoore1/ssl-legacysurvey/cutoutdata/representations/chunks/cutoutdata_batch_0000000_000.npz')\n",
    "# np.set_printoptions(threshold=sys.maxsize)\n",
    "# x['data']"
   ]
  },
  {
   "cell_type": "code",
   "execution_count": 14,
   "id": "2cb2449d-42b2-4338-b679-1b8653218814",
   "metadata": {
    "scrolled": true,
    "tags": []
   },
   "outputs": [],
   "source": [
    "# #similarity search, \n",
    "\n",
    "# params = vars(Args)\n",
    "# Path(params['output_dir']).mkdir(parents=True, exist_ok=True)\n",
    "# # params['use_faiss'] = True\n",
    "# # params['use_gpu'] = True\n",
    "# # params['norm'] = True # normalize vector lengths\n",
    "# if not params['use_faiss']:\n",
    "#     params['use_gpu'] = False\n",
    "# #params['chunksize'], params['rep_dim'], ngals_tot = similarity_search_nxn.get_dataset_size(params)\n",
    "# print(params['chunksize'], params['rep_dim'], params['ngals_tot'])\n",
    "# #params['ngals_tot'] = min(params['ngals_tot'], ngals_tot)\n",
    "\n",
    "# print(f\"\\nNumber of galaxies={params['ngals_tot']}, chunksize={params['chunksize']}, representation_dim={params['rep_dim']}\\n\")\n",
    "# # load in representations in chunks\n",
    "# #params['nchunks'] = int(math.ceil(params['ngals_tot']/params['chunksize']))\n",
    "# #params['nchunks_similarity'] = int(math.ceil(params['ngals_tot']/params['chunksize_similarity'])) + 1\n",
    "# # Search within certain magnitude range of queries requires magnitude\n",
    "# DDL = load_data.DecalsDataLoader(image_dir=params['data_path'])\n",
    "# print(\"\\nloading flux of all galaxies in survey. Be patient.\\n\")\n",
    "# zmag = gals['mag_z']\n",
    "# for ichunk_similarity in range(params['start_on_chunk'], params['nchunks_similarity']):\n",
    "#     print('Running on query chunk: ', ichunk_similarity)\n",
    "\n",
    "#     rep_query_start = ichunk_similarity*params['chunksize_similarity']\n",
    "#     rep_query_end = min(rep_query_start+params['chunksize_similarity'], params['ngals_tot'])\n",
    "#     print(rep_query_start , rep_query_end)\n",
    "#     inds_file_out = os.path.join(\n",
    "#         params['output_dir'],\n",
    "#         f\"inds_knearest{params['knearest']:03d}_{rep_query_start:09d}_{rep_query_end:09d}.npy\",\n",
    "#         )\n",
    "    \n",
    "#     dist_file_out = os.path.join(\n",
    "#         params['output_dir'],\n",
    "#         f\"dist_knearest{params['knearest']:03d}_{rep_query_start:09d}_{rep_query_end:09d}.npy\",\n",
    "#         )\n",
    "#     file_exists = os.path.isfile(inds_file_out) and os.path.isfile(dist_file_out)\n",
    "#     if not params['overwrite'] and file_exists:\n",
    "#         continue\n",
    "    \n",
    "#     np.save(inds_file_out, np.array([0])) # create output file first\n",
    "#     np.save(dist_file_out, np.array([0]))\n",
    "\n",
    "#     #inds_query = np.arange(rep_query_start, rep_query_end)\n",
    "#     inds_query = np.arange(0, params['ngals_tot'])\n",
    "#     rep_query = similarity_search_nxn.load_representatons_by_inds(params, inds_query) # load representations to query for\n",
    "#     # Narrow search size by galaxy magnitude\n",
    "#     zmag_min = zmag[inds_query[0]] - params['delta_mag']\n",
    "#     zmag_max = zmag[inds_query[-1]] + params['delta_mag']\n",
    "#     ind_min, zmag_min = similarity_search_nxn.find_nearest(zmag, zmag_min)\n",
    "#     ind_max, zmag_max = similarity_search_nxn.find_nearest(zmag, zmag_max)\n",
    "#     chunk_min = ind_min // params['chunksize']\n",
    "    \n",
    "#     chunk_max = math.ceil(ind_max / params['chunksize'])\n",
    "#     print(f'Magnitude range runs from index {ind_min}-{ind_max} (chunks {chunk_min}-{chunk_max})')\n",
    "#     # Now perform similarity search chunk by chunk\n",
    "#     # will return distance and index arrays of size (nquery, k)\n",
    "#     similarity_indexes, distance = similarity_search_nxn.calculate_similarity_for_chunk(params, rep_query, chunk_min, chunk_max)\n",
    "#     np.save(inds_file_out, similarity_indexes)\n",
    "#     np.save(dist_file_out, distance)"
   ]
  },
  {
   "cell_type": "code",
   "execution_count": 15,
   "id": "f08de067-c3fb-4088-bbcc-316366adb284",
   "metadata": {
    "tags": []
   },
   "outputs": [],
   "source": [
    "#x = similarity_search_nxn.load_rep_chunk('/pscratch/sd/s/sgmoore1/ssl-legacysurvey/cutoutdata/representations/compiled/cutoutdata_000000000_000005628.npy')"
   ]
  },
  {
   "cell_type": "code",
   "execution_count": 16,
   "id": "4e2373e7-8bac-4ac7-a5b5-40200c3c5146",
   "metadata": {
    "scrolled": true,
    "tags": []
   },
   "outputs": [],
   "source": [
    "# x = np.load('/pscratch/sd/s/sgmoore1/ssl-legacysurvey/cutoutdata/representations/similarity/inds_knearest1000_000000000_000005628.npy')\n",
    "# np.set_printoptions(threshold=sys.maxsize)\n",
    "# x"
   ]
  },
  {
   "cell_type": "code",
   "execution_count": 17,
   "id": "8ac31a3b-da38-485b-b531-c44bd6b1e5e5",
   "metadata": {
    "scrolled": true,
    "tags": []
   },
   "outputs": [],
   "source": [
    "# y = np.load('/pscratch/sd/s/sgmoore1/ssl-legacysurvey/cutoutdata/representations/similarity/dist_knearest1000_000000000_000005628.npy')\n",
    "# cleaner = np.around(y, decimals=3)\n",
    "# cleaner\n"
   ]
  },
  {
   "cell_type": "code",
   "execution_count": 18,
   "id": "0f672ec2-a54d-4961-830e-df1ea0d77025",
   "metadata": {
    "tags": []
   },
   "outputs": [],
   "source": [
    "# x = np.load('/pscratch/sd/s/sgmoore1/ssl-legacysurvey/representations/similarity/inds_knearest025_000000000_000000064.npy')\n",
    "# #np.set_printoptions(threshold=sys.maxsize)\n",
    "# print(x)"
   ]
  },
  {
   "cell_type": "code",
   "execution_count": 19,
   "id": "6972cee9-53a9-4330-832a-3341c62dacbf",
   "metadata": {
    "tags": []
   },
   "outputs": [],
   "source": [
    "# y = np.load('/pscratch/sd/s/sgmoore1/ssl-legacysurvey/representations/similarity/dist_knearest010_000000000_000000008.npy')\n",
    "# np.set_printoptions(threshold=sys.maxsize)\n",
    "# print(y[0:8])"
   ]
  },
  {
   "cell_type": "code",
   "execution_count": 11,
   "id": "6de191b5-a6b4-4ac0-b989-673d001e42c4",
   "metadata": {},
   "outputs": [],
   "source": [
    "# Move pytorch tensors to CPU (if on GPU) and to numpy\n",
    "\n",
    "if params['gpu']:\n",
    "    images, representations = images.detach(), representations.detach()\n",
    "images, representations = images.numpy(), representations.numpy()"
   ]
  },
  {
   "cell_type": "code",
   "execution_count": 21,
   "id": "c0b54174-1c1c-4068-aeb4-534170bef39f",
   "metadata": {
    "tags": []
   },
   "outputs": [],
   "source": [
    "# #np.random.seed(13579)\n",
    "# nplt = 1\n",
    "# inds_plt = np.arange(images.shape[0])\n",
    "# inds_plt = sorted(np.random.choice(inds_plt, min(nplt, inds_plt.shape[0]), replace=True))\n",
    "\n",
    "# for i in inds_plt:\n",
    "#     fig, ax = plt.subplots(1, 2, figsize=(10,4))\n",
    "    \n",
    "#     imi, repi = images[i], representations[i]\n",
    "    \n",
    "#     ax[0].imshow(np.swapaxes(imi, 0, 2))\n",
    "#     ax[1].plot(repi)\n",
    "#     ax[0].set_title(\"Input image\")\n",
    "#     ax[1].set_title(\"Output Representation\")\n"
   ]
  },
  {
   "cell_type": "code",
   "execution_count": 12,
   "id": "8b600375-7156-4ec5-b164-1d6fe3f9ebe5",
   "metadata": {
    "tags": []
   },
   "outputs": [
    {
     "name": "stdout",
     "output_type": "stream",
     "text": [
      "UMAP embedding is shape (10999, 2)\n"
     ]
    }
   ],
   "source": [
    "from ssl_legacysurvey.data_analysis import dimensionality_reduction\n",
    "from ssl_legacysurvey.utils import plotting_tools as plt_tools # Plotting images or catalogue info\n",
    "\n",
    "#pca_components, rep_pca, pca = dimensionality_reduction.pca_transform(representations, n_components=2)\n",
    "#Adjusted to create separate embeddings for the different distance metrics\n",
    "umap_embedding_cos, umap_trans_cos = dimensionality_reduction.umap_transform(representations, n_components=2, metric='cosine')\n",
    "#umap_embedding_euc, umap_trans_euc = dimensionality_reduction.umap_transform(representations, n_components=2, metric='euclidean')"
   ]
  },
  {
   "cell_type": "code",
   "execution_count": 23,
   "id": "d25a259f-d498-4a09-8aea-676d23e8758e",
   "metadata": {
    "tags": []
   },
   "outputs": [],
   "source": [
    "#f = h5py.File('/pscratch/sd/s/sgmoore1/ssl-legacysurvey/data/representations.h5','a')"
   ]
  },
  {
   "cell_type": "code",
   "execution_count": 24,
   "id": "9fd1cd19-d0a7-4f3e-9c2b-b28103fb5bb9",
   "metadata": {
    "tags": []
   },
   "outputs": [],
   "source": [
    "# count= ngals\n",
    "# dim= 2048\n",
    "# reps = f.create_dataset('representations',(count,dim,), maxshape=(None,None,))\n"
   ]
  },
  {
   "cell_type": "code",
   "execution_count": 25,
   "id": "0e151c69-d5af-4839-bc50-59af59bff4ec",
   "metadata": {
    "tags": []
   },
   "outputs": [],
   "source": [
    "# i=0\n",
    "# while i < ngals:\n",
    "#     reps[i] = representations[i]\n",
    "#     i+=1"
   ]
  },
  {
   "cell_type": "code",
   "execution_count": 26,
   "id": "74496299-7596-4fdd-b771-cf62ecd2564c",
   "metadata": {
    "tags": []
   },
   "outputs": [],
   "source": [
    "# f = h5py.File('/pscratch/sd/s/sgmoore1/ssl-legacysurvey/data/representations.h5','a').close"
   ]
  },
  {
   "cell_type": "code",
   "execution_count": 27,
   "id": "14a4f079-65cd-4159-a35a-2b44993922b0",
   "metadata": {
    "tags": []
   },
   "outputs": [],
   "source": [
    "# f = h5py.File('/pscratch/sd/s/sgmoore1/ssl-legacysurvey/data/representations.h5','r')"
   ]
  },
  {
   "cell_type": "code",
   "execution_count": 28,
   "id": "0ad46181-4981-478d-9333-e880300aa552",
   "metadata": {},
   "outputs": [],
   "source": [
    "# # Look at PCA decomposition\n",
    "\n",
    "# plt.figure()\n",
    "# plt.scatter(pca_components[:5500, 0], pca_components[:5500, 1], s=10, c='purple', label = 'Galaxies')\n",
    "# plt.scatter(pca_components[5500:, 0], pca_components[5500:, 1],s=10, c='orange', label = 'Blank Sky')\n",
    "# plt.xlabel('Dimension 0')\n",
    "# plt.ylabel('Dimension 1')\n",
    "# plt.title('PCA components, Colored by Cutout Type')\n",
    "# plt.legend(fancybox=True, framealpha=1, shadow=True, borderpad=1,loc='lower right',markerscale=3)\n",
    "# #plt.savefig('figures/sample_pca.png')\n",
    "\n",
    "# # Plot as images in a fancy plot\n",
    "# # nx, ny = 15,15\n",
    "# # inds_use = np.arange(images.shape[0])\n",
    "# # im = plt_tools.scatter_plot_as_images(DDL, pca_components, inds_use, nx=nx, ny=ny, npix_show=96)\n"
   ]
  },
  {
   "cell_type": "code",
   "execution_count": 29,
   "id": "949793e1-6d7f-4891-9b53-b59870239bd0",
   "metadata": {
    "tags": []
   },
   "outputs": [],
   "source": [
    "# lbl= np.empty(ngals, dtype=object)\n",
    "# print(len(label))\n",
    "# i=0\n",
    "# while i < ngals:\n",
    "#     if gals['cutout_type'][i] == 1:\n",
    "#         lbl[i] = 'Centered'\n",
    "#     elif gals['cutout_type'][i] == 2:\n",
    "#         lbl[i] = 'Off-Centered'\n",
    "#     elif gals['cutout_type'][i] == 3:\n",
    "#         lbl[i] = 'Blank Sky'\n",
    "#     i+=1\n",
    "# print(lbl)\n",
    "# # print(gals['cutout_type'])\n",
    "# # = 'Centered'\n",
    "# # gals['cutout_type'][gals['cutout_type'] == 2] = 'Off-Centered'\n",
    "# # gals['cutout_type'][gals['cutout_type'] == 3] = 'Blank Sky'\n",
    "# x = np.unique(lbl)\n"
   ]
  },
  {
   "cell_type": "code",
   "execution_count": 30,
   "id": "b4be02e7-a7c1-4f65-ae1f-e62fd227e506",
   "metadata": {
    "tags": []
   },
   "outputs": [],
   "source": [
    "#If cutout types weren't loaded together into the h5 file, \n",
    "#need to run this in order for the UMAP to separate into chunks that can be easily indexed\n",
    "\n",
    "#gals['cutout_type'].sort()"
   ]
  },
  {
   "cell_type": "code",
   "execution_count": 31,
   "id": "8d6254dc-9bcc-4cd2-a07e-56f8ccee13f2",
   "metadata": {
    "tags": []
   },
   "outputs": [],
   "source": [
    "#determine the bounds for the UMAP chunks\n",
    "# unique, counts = np.unique(gals['cutout_type'], return_counts = True)\n",
    "# print(unique, counts)"
   ]
  },
  {
   "cell_type": "code",
   "execution_count": 22,
   "id": "217e02fd-da45-4c99-a70a-136cc776f1d9",
   "metadata": {
    "tags": []
   },
   "outputs": [
    {
     "data": {
      "image/png": "[encoded data removed]",
      "text/plain": [
       "<Figure size 576x432 with 2 Axes>"
      ]
     },
     "metadata": {
      "needs_background": "light"
     },
     "output_type": "display_data"
    }
   ],
   "source": [
    "# # Look at UMAP embedding\n",
    "#plt.rcParams['axes.titlesize'] = 24\n",
    "plt.figure()\n",
    "plt.scatter(umap_embedding_cos[:, 0], umap_embedding_cos[:, 1],s=5, c=gals['offset']\n",
    "           )\n",
    "\n",
    "# plt.scatter(umap_embedding_euc[:, 0], umap_embedding_euc[:, 1],s=10, c=gals['mag_z']\n",
    "#            )\n",
    "\n",
    "#Split up the scatterplots into chunks of the same cutout_type so that labels can be given for each color\n",
    "\n",
    "# plt.scatter(umap_embedding_cos[:5000, 0], umap_embedding_cos[0:5000, 1],s=5, c='#3c1361', label = 'Centered'\n",
    "#            )\n",
    "# plt.scatter(umap_embedding_cos[5000:10000, 0], umap_embedding_cos[5000:10000, 1],s=5, c='#5BB450', label = 'Off-Centered'\n",
    "#            )\n",
    "# plt.scatter(umap_embedding_cos[10000:, 0], umap_embedding_cos[10000:, 1],s=5, c='#0044FF', label = 'Blank Sky'\n",
    "#            )\n",
    "\n",
    "# plt.scatter(umap_embedding_cos[5095:, 0], umap_embedding_cos[5095:, 1],s=5, c='#5BB450', label = 'Missing Galaxies'\n",
    "#           )\n",
    "\n",
    "# plt.scatter(umap_embedding_cos[8320:, 0], umap_embedding_cos[8320:, 1],s=10, c='#02198B', label = 'SGA-missing'\n",
    "#            )\n",
    "\n",
    "# alternate colors #FDFD66\n",
    "# plt.xlabel('Dimension 0')\n",
    "# plt.ylabel('Dimension 1')\n",
    "#Adjust bounds so that legend can display without covering up data\n",
    "# plt.xlim(-7)\n",
    "# plt.ylim(-8)\n",
    "# plt.title('UMAP with Blank Sky Images')\n",
    "#plt.legend(fancybox=True, framealpha=1, shadow=True, borderpad=1,loc='best',markerscale=5, fontsize=16)\n",
    "#plt.savefig('figures/hr_offsets.png',dpi=400)\n",
    "\n",
    "\n",
    "# # Plot as images in a fancy plot\n",
    "\n",
    "# nx, ny = 60,40\n",
    "# inds_use = np.arange(images.shape[0])\n",
    "# im = plt_tools.scatter_plot_as_images(DDL, umap_embedding_cos, inds_use, nx=nx, ny=ny, npix_show=96)\n",
    "plt.savefig('figures/colorbar_gals_offsets.png', dpi=400)"
   ]
  },
  {
   "cell_type": "code",
   "execution_count": null,
   "id": "ca867820-8af8-41c4-bb69-c9f434237cfd",
   "metadata": {
    "tags": []
   },
   "outputs": [],
   "source": [
    "# plt.figure()\n",
    "# plt.scatter(umap_embedding_euc[:, 0], umap_embedding_euc[:, 1],s=10, c=gals['morphology']\n",
    "#            )\n",
    "\n",
    "# nx, ny = 60,40\n",
    "# inds_use = np.arange(images.shape[0])\n",
    "# im = plt_tools.scatter_plot_as_images(DDL, umap_embedding_euc, inds_use, nx=nx, ny=ny, npix_show=96)\n",
    "# plt.savefig('figures/gals_euc.png')"
   ]
  },
  {
   "cell_type": "code",
   "execution_count": null,
   "id": "18bbaca3-2cb1-48f1-aab2-37904b0dc666",
   "metadata": {},
   "outputs": [],
   "source": [
    "# # # Look at UMAP embedding\n",
    "# plt.figure()\n",
    "# plt.scatter(umap_embedding_cos[:5500, 0], umap_embedding_cos[:5500, 1],s=10, c='purple', label = 'Galaxies'\n",
    "#            )\n",
    "# plt.scatter(umap_embedding_cos[5500:, 0], umap_embedding_cos[5500:, 1],s=10, c='orange', label = 'Blank Sky'\n",
    "#            )\n",
    "\n",
    "# # plt.scatter(umap_embedding_euc[:, 0], umap_embedding_euc[:, 1],s=10, c=gals['mag_z']\n",
    "# #            )\n",
    "\n",
    "# #Split up the scatterplots into chunks of the same cutout_type so that labels can be given for each color\n",
    "\n",
    "# # plt.scatter(umap_embedding_cos[0:10000, 0], umap_embedding_cos[0:10000, 1],s=10, c='#3c1361', label = 'SGA Galaxies'\n",
    "# #            )\n",
    "# # plt.scatter(umap_embedding_cos[10000:10999, 0], umap_embedding_cos[10000:10999, 1],s=10, c='#0044FF', label = 'Blank Sky'\n",
    "# #            )\n",
    "# # plt.scatter(umap_embedding_cos[10999:, 0], umap_embedding_cos[10999:, 1],s=10, c='#5BB450', label = 'SGA-missing'\n",
    "# #            )\n",
    "# # plt.scatter(umap_embedding_cos[8320:, 0], umap_embedding_cos[8320:, 1],s=10, c='#02198B', label = 'SGA-missing'\n",
    "# #            )\n",
    "\n",
    "# # alternate colors #FDFD66\n",
    "# plt.xlabel('Dimension 0')\n",
    "# plt.ylabel('Dimension 1')\n",
    "# #Adjust bounds so that legend can display without covering up data\n",
    "# #plt.xlim()\n",
    "# #plt.ylim(-10.5)\n",
    "# plt.title('UMAP Embedding, Colored by Cutout Type')\n",
    "\n",
    "# plt.legend(fancybox=True, framealpha=1, shadow=True, borderpad=1,loc='best',markerscale=3)\n",
    "# #plt.savefig('figures/sample_UMAP.png')\n",
    "\n",
    "\n",
    "# # # Plot as images in a fancy plot\n",
    "\n",
    "# # nx, ny = 10,10\n",
    "# # inds_use = np.arange(images.shape[0])\n",
    "# # im = plt_tools.scatter_plot_as_images(DDL, umap_embedding_cos, inds_use, nx=nx, ny=ny, npix_show=96)"
   ]
  },
  {
   "cell_type": "code",
   "execution_count": null,
   "id": "c2e2da12-5e23-4a80-92e0-b328ec7726d1",
   "metadata": {},
   "outputs": [],
   "source": []
  },
  {
   "cell_type": "code",
   "execution_count": null,
   "id": "3372b218-0022-48dc-8adf-566c4a0ac6cd",
   "metadata": {},
   "outputs": [],
   "source": []
  },
  {
   "cell_type": "code",
   "execution_count": null,
   "id": "dbac1f40-01e7-4bcb-b723-ce81e0a13b58",
   "metadata": {
    "tags": []
   },
   "outputs": [],
   "source": [
    "#classify whether or not a given cutout is a galaxy based on where it falls within the UMAP\n",
    "#Need to adjust the parameters for the threshold based on the shape of the UMAP\n",
    "# i=0\n",
    "# while i < ngals:\n",
    "#     if umap_embedding_cos[i, 0] < 6:\n",
    "#         gals['umap_region'][i] = 1\n",
    "#     else:\n",
    "#         gals['umap_region'][i] = 0\n",
    "#     i+=1"
   ]
  },
  {
   "cell_type": "code",
   "execution_count": null,
   "id": "112301ff-c1cb-4497-a09e-bf140a5c1be9",
   "metadata": {
    "tags": []
   },
   "outputs": [],
   "source": [
    "# #determine number of false positives and false negatives as well as information about the problematic cutouts\n",
    "# i=0 \n",
    "# false_pos = 0\n",
    "# false_neg = 0\n",
    "# while i < ngals:\n",
    "#     if gals['cutout_type'][i] == 2:\n",
    "#         if umap_embedding_cos[i, 0] < 8:\n",
    "#             false_pos +=1\n",
    "#             print('False positive galaxy has coordinates: ',gals['ra'][i],' , ',gals['dec'][i], 'and is gal ',i)\n",
    "            \n",
    "#     else:\n",
    "#         if umap_embedding_cos[i, 0] > 8:\n",
    "#             false_neg +=1\n",
    "#             print('False negative galaxy has coordinates: ',gals['ra'][i],' , ',gals['dec'][i], 'and is gal ',i)\n",
    "#     i+=1\n",
    "        "
   ]
  },
  {
   "cell_type": "code",
   "execution_count": null,
   "id": "9a805fa5-7d40-432f-9b43-4bb9773a9f37",
   "metadata": {
    "tags": []
   },
   "outputs": [],
   "source": [
    "# i=0 \n",
    "# sga_wrong=0\n",
    "# while i < ngals:\n",
    "#     if gals['cutout_type'][i] == 1:\n",
    "#         if umap_embedding_cos[i, 0] > 6:\n",
    "#             sga_wrong +=1\n",
    "#     i+=1"
   ]
  },
  {
   "cell_type": "code",
   "execution_count": null,
   "id": "40685f8f-c7b2-4655-9207-019b3f80112b",
   "metadata": {
    "tags": []
   },
   "outputs": [],
   "source": [
    "# print(sga_wrong)"
   ]
  },
  {
   "cell_type": "code",
   "execution_count": null,
   "id": "290068d5-01fe-442c-8a21-c5fbd85b6f3d",
   "metadata": {
    "tags": []
   },
   "outputs": [],
   "source": [
    "# print(false_pos)\n",
    "# print(false_neg)"
   ]
  },
  {
   "cell_type": "code",
   "execution_count": null,
   "id": "1ad1a0d0-f034-4253-8953-6ae41e04b246",
   "metadata": {
    "tags": []
   },
   "outputs": [],
   "source": [
    "# unique, counts = np.unique(gals['umap_region'], return_counts = True)\n",
    "# print(unique, counts)"
   ]
  },
  {
   "cell_type": "code",
   "execution_count": null,
   "id": "0b3955f9-b8c4-4978-8d19-366dae7456c5",
   "metadata": {
    "tags": []
   },
   "outputs": [],
   "source": []
  },
  {
   "cell_type": "code",
   "execution_count": null,
   "id": "fcb6c64c-d486-4464-a572-b32bfc295503",
   "metadata": {
    "tags": []
   },
   "outputs": [],
   "source": [
    "# from scripts import similarity_search_nxn"
   ]
  },
  {
   "cell_type": "code",
   "execution_count": null,
   "id": "4d0d8d96-56f6-4cfe-81da-b7f6b3d19725",
   "metadata": {
    "tags": []
   },
   "outputs": [],
   "source": [
    "# params['rep_dir'] = data_path\n",
    "# params['rep_file_head'] = \"representations\"\n",
    "# size = similarity_search_nxn.get_dataset_size(params)"
   ]
  },
  {
   "cell_type": "code",
   "execution_count": null,
   "id": "6e9f2b90-6c9f-4a73-81ed-32d558c1266f",
   "metadata": {},
   "outputs": [],
   "source": [
    "# from umap import validation\n",
    "\n",
    "# K = 50\n",
    "\n",
    "# # trustworthiness_euc = validation.trustworthiness_vector(source=representations\n",
    "# #                                   ,embedding=umap_embedding_euc                     \n",
    "# #                                   ,max_k=55)\n",
    "\n",
    "# trustworthiness_cos = validation.trustworthiness_vector(source=representations\n",
    "#                                    ,embedding=umap_embedding_cos                    \n",
    "#                                    ,max_k=55)\n",
    "\n",
    "# _=plt.plot(trustworthiness_cos)\n",
    "# #_=plt.plot(trustworthiness_euc)\n",
    "# #_=plt.xlim(45,55)\n",
    "# _=plt.xlabel(\"Value of K\")\n",
    "# _= plt.ylabel(f\"Trustworthiness score\")\n",
    "# #_=plt.ylim(0.5,0.9)\n",
    "# _=plt.title(f\"Trustworthiness around k={K}\")\n",
    "# #_=plt.legend([\"augmentations = rrjc\", \"augmentations = jcrg\"], loc=\"upper right\")"
   ]
  },
  {
   "cell_type": "code",
   "execution_count": null,
   "id": "dbccfef7-5e55-41f6-bf1e-f9ef3706086e",
   "metadata": {},
   "outputs": [],
   "source": []
  },
  {
   "cell_type": "code",
   "execution_count": null,
   "id": "7fab0651-0ebf-4a24-8e46-ef6cf927b3d5",
   "metadata": {},
   "outputs": [],
   "source": [
    "import shutil\n",
    "\n",
    "old = r'/pscratch/sd/s/sgmoore1/ssl-legacysurvey/Pretrained.ipynb'\n",
    "new = r'/pscratch/sd/s/sgmoore1'\n",
    "\n",
    "shutil.move(old, new)"
   ]
  },
  {
   "cell_type": "code",
   "execution_count": null,
   "id": "b7e7a5a7-841a-4fc4-8bf8-4a3c5e655ebd",
   "metadata": {},
   "outputs": [],
   "source": []
  },
  {
   "cell_type": "code",
   "execution_count": null,
   "id": "9e2a0cbc-3dec-4627-a78a-03b948d5073d",
   "metadata": {},
   "outputs": [],
   "source": []
  }
 ],
 "metadata": {
  "kernelspec": {
   "display_name": "ssl-pl",
   "language": "python",
   "name": "ssl-pl"
  },
  "language_info": {
   "codemirror_mode": {
    "name": "ipython",
    "version": 3
   },
   "file_extension": ".py",
   "mimetype": "text/x-python",
   "name": "python",
   "nbconvert_exporter": "python",
   "pygments_lexer": "ipython3",
   "version": "3.9.9"
  }
 },
 "nbformat": 4,
 "nbformat_minor": 5
}
